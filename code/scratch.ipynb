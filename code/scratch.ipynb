{
 "cells": [
  {
   "cell_type": "code",
   "execution_count": 5,
   "metadata": {},
   "outputs": [],
   "source": [
    "%load_ext autoreload\n",
    "%autoreload 2"
   ]
  },
  {
   "cell_type": "code",
   "execution_count": 2,
   "metadata": {},
   "outputs": [
    {
     "name": "stderr",
     "output_type": "stream",
     "text": [
      "c:\\Users\\shivs\\anaconda3\\envs\\chess-engine\\lib\\site-packages\\tqdm\\auto.py:21: TqdmWarning: IProgress not found. Please update jupyter and ipywidgets. See https://ipywidgets.readthedocs.io/en/stable/user_install.html\n",
      "  from .autonotebook import tqdm as notebook_tqdm\n"
     ]
    }
   ],
   "source": [
    "import gradio as gr\n",
    "import numpy as np\n",
    "from sentiment_classifier.embeddings_classifier import EMBClassifier\n",
    "\n",
    "\n",
    "def predict(\n",
    "    lyrics: str, model_selection: list[str]\n",
    ") -> list[str]:\n",
    "    embeddings_classifier = EMBClassifier()\n",
    "\n",
    "    return list(\n",
    "        embeddings_classifier.predict(input_lyrics=lyrics, wv_from_bin=embedding_model)\n",
    "    )\n",
    "\n",
    "\n",
    "def load_embedding_model():\n",
    "    \"\"\"Load GloVe Vectors\n",
    "    Return:\n",
    "        wv_from_bin: All 400000 embeddings, each lengh 200\n",
    "    \"\"\"\n",
    "    import gensim.downloader as api\n",
    "\n",
    "    wv_from_bin = api.load(\"word2vec-google-news-300\")\n",
    "    print(\"Loaded vocab size %i\" % len(list(wv_from_bin.index_to_key)))\n",
    "    return wv_from_bin\n",
    "\n",
    "\n",
    "\n"
   ]
  },
  {
   "cell_type": "code",
   "execution_count": 1,
   "metadata": {},
   "outputs": [
    {
     "ename": "NameError",
     "evalue": "name 'load_embedding_model' is not defined",
     "output_type": "error",
     "traceback": [
      "\u001b[1;31m---------------------------------------------------------------------------\u001b[0m",
      "\u001b[1;31mNameError\u001b[0m                                 Traceback (most recent call last)",
      "Cell \u001b[1;32mIn[1], line 1\u001b[0m\n\u001b[1;32m----> 1\u001b[0m wv_from_bin \u001b[38;5;241m=\u001b[39m \u001b[43mload_embedding_model\u001b[49m()\n\u001b[0;32m      2\u001b[0m     \u001b[38;5;66;03m# Create Gradio interface with dropdown menu\u001b[39;00m\n",
      "\u001b[1;31mNameError\u001b[0m: name 'load_embedding_model' is not defined"
     ]
    }
   ],
   "source": [
    "\n",
    "wv_from_bin = load_embedding_model()\n",
    "    # Create Gradio interface with dropdown menu"
   ]
  },
  {
   "cell_type": "code",
   "execution_count": null,
   "metadata": {},
   "outputs": [],
   "source": [
    "inputs = gr.Textbox(label=\"Input Lyrics\")\n",
    "model_dropdown = gr.Dropdown(\n",
    "    choices=[\"Embeddings approach\", \"KMeans\", \"Logistic Regression\"],\n",
    "    label=\"Select Model\",\n",
    ")\n",
    "outputs = gr.Textbox(label=\"Sentiment/Mood\")\n",
    "interface = gr.Interface(\n",
    "    fn=predict, inputs=[inputs, model_dropdown], outputs=outputs\n",
    ")\n",
    "interface.launch()"
   ]
  }
 ],
 "metadata": {
  "kernelspec": {
   "display_name": "chess-engine",
   "language": "python",
   "name": "python3"
  },
  "language_info": {
   "codemirror_mode": {
    "name": "ipython",
    "version": 3
   },
   "file_extension": ".py",
   "mimetype": "text/x-python",
   "name": "python",
   "nbconvert_exporter": "python",
   "pygments_lexer": "ipython3",
   "version": "3.10.12"
  }
 },
 "nbformat": 4,
 "nbformat_minor": 2
}
