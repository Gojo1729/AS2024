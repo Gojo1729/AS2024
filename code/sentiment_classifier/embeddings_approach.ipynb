{
 "cells": [
  {
   "cell_type": "code",
   "execution_count": 1,
   "metadata": {},
   "outputs": [],
   "source": [
    "%load_ext autoreload\n",
    "%autoreload 2"
   ]
  },
  {
   "cell_type": "code",
   "execution_count": 434,
   "metadata": {},
   "outputs": [],
   "source": [
    "import pandas as pd\n",
    "import numpy as np\n",
    "from tqdm import tqdm\n",
    "import nltk # just for tokenization\n",
    "from nltk.corpus import stopwords\n",
    "from nltk.stem import WordNetLemmatizer\n",
    "import random\n",
    "import gradio \n",
    "import string\n",
    "\n",
    "random.seed(42)"
   ]
  },
  {
   "cell_type": "code",
   "execution_count": 3,
   "metadata": {},
   "outputs": [
    {
     "name": "stdout",
     "output_type": "stream",
     "text": [
      "Loaded vocab size 3000000\n"
     ]
    }
   ],
   "source": [
    "def load_embedding_model():\n",
    "    \"\"\" Load GloVe Vectors\n",
    "        Return:\n",
    "            wv_from_bin: All 400000 embeddings, each lengh 200\n",
    "    \"\"\"\n",
    "    import gensim.downloader as api\n",
    "    wv_from_bin = api.load(\"word2vec-google-news-300\")\n",
    "    print(\"Loaded vocab size %i\" % len(list(wv_from_bin.index_to_key)))\n",
    "    return wv_from_bin\n",
    "wv_from_bin = load_embedding_model()\n",
    "# wv_from_bin = load_embedding_model()"
   ]
  },
  {
   "cell_type": "code",
   "execution_count": 1054,
   "metadata": {},
   "outputs": [
    {
     "name": "stdout",
     "output_type": "stream",
     "text": [
      "           artist    genre                  title                    album  \\\n",
      "0         Nirvana     Rock  You Know You’re Right                  Nirvana   \n",
      "1   Damian Marley   Reggae             Here We Go               Stony Hill   \n",
      "2  The Mission UK     Rock                   Jade  Another Fall from Grace   \n",
      "3            UB40   Reggae       Food For Thought              Signing Off   \n",
      "4     Johnny Cash  Country   I’ve Been Everywhere   American II: Unchained   \n",
      "\n",
      "     year                                             lyrics  \\\n",
      "0  2002.0  I will never bother you\\nI will never promise ...   \n",
      "1  2017.0  Here we go\\nMy big ego is gonna get me in trou...   \n",
      "2  2016.0  She came as Lolita dressed as Venus\\nAnd adorn...   \n",
      "3  1980.0  Ivory Madonna, dying in the dust\\nWaiting for ...   \n",
      "4  1996.0  I was totin' my pack along the dusty Winnemucc...   \n",
      "\n",
      "                                       labels  \n",
      "0                           Calmness, Sadness  \n",
      "1                              Power, Tension  \n",
      "2  Amazement, Calmness, Solemnity, Tenderness  \n",
      "3         Joyful activation, Sadness, Tension  \n",
      "4      Amazement, Calmness, Joyful activation  \n"
     ]
    }
   ],
   "source": [
    "raw_df = pd.read_csv(\"MultiLabel.csv\")\n",
    "print(raw_df.head())"
   ]
  },
  {
   "cell_type": "code",
   "execution_count": 256,
   "metadata": {},
   "outputs": [
    {
     "data": {
      "text/plain": [
       "1160"
      ]
     },
     "execution_count": 256,
     "metadata": {},
     "output_type": "execute_result"
    }
   ],
   "source": [
    "len(raw_df)"
   ]
  },
  {
   "cell_type": "code",
   "execution_count": 257,
   "metadata": {},
   "outputs": [],
   "source": [
    "unique_emotion_labels = set()"
   ]
  },
  {
   "cell_type": "code",
   "execution_count": null,
   "metadata": {},
   "outputs": [],
   "source": [
    "[[unique_emotion_labels.add(label.strip()) for label in labels.split(\",\") ]for labels in raw_df[\"labels\"]]\n",
    "# raw_df[\"labels\"].unique()"
   ]
  },
  {
   "cell_type": "code",
   "execution_count": 1036,
   "metadata": {},
   "outputs": [
    {
     "data": {
      "text/plain": [
       "{'Amazement',\n",
       " 'Calmness',\n",
       " 'Joyful activation',\n",
       " 'Nostalgia',\n",
       " 'Power',\n",
       " 'Sadness',\n",
       " 'Solemnity',\n",
       " 'Tenderness',\n",
       " 'Tension'}"
      ]
     },
     "execution_count": 1036,
     "metadata": {},
     "output_type": "execute_result"
    }
   ],
   "source": [
    "unique_emotion_labels"
   ]
  },
  {
   "cell_type": "code",
   "execution_count": 801,
   "metadata": {},
   "outputs": [],
   "source": [
    "def tokenize(lyric: str) -> list[str]:\n",
    "    # lowercase the text, remove stop words, punctuation and keep only the words\n",
    "    tokens = nltk.tokenize.word_tokenize(lyric.lower())\n",
    "    stop_words = stopwords.words(\"english\") + list(string.punctuation)\n",
    "    lemmatizer = WordNetLemmatizer()\n",
    "    alpha_tokens = [lemmatizer.lemmatize(token) for token in tokens if token.isalpha() and token not in stop_words]\n",
    "\n",
    "    return alpha_tokens"
   ]
  },
  {
   "cell_type": "code",
   "execution_count": 803,
   "metadata": {},
   "outputs": [
    {
     "name": "stderr",
     "output_type": "stream",
     "text": [
      "100%|██████████| 1160/1160 [00:06<00:00, 179.82it/s]\n"
     ]
    }
   ],
   "source": [
    "# go through each lyrics, tokenize it, vectorize each word, then combine all of them into single average vector and store it in the list\n",
    "lyrics = raw_df[\"lyrics\"]\n",
    "lyrics_embeddings = []\n",
    "unsupported_tokens = set()\n",
    "label_embedding_map = {} # dict{str: np.array([])}\n",
    "for lyric in tqdm(lyrics):\n",
    "    lyric_vector = np.zeros(300)\n",
    "    for token in tokenize(lyric):\n",
    "        try:\n",
    "            lyric_vector += wv_from_bin.get_vector(token.lower())\n",
    "        except KeyError as e:\n",
    "            # if the word is not present in the glove then key error is raised, so handle the exception and move on\n",
    "            unsupported_tokens.add(token)\n",
    "            continue\n",
    "    lyrics_embeddings.append(lyric_vector)\n",
    "\n",
    "\n",
    "lyrics_embeddings = np.stack(lyrics_embeddings)\n",
    "scaled_lyrics_embeddings = lyrics_embeddings / np.linalg.norm(lyrics_embeddings, axis=1, keepdims=True)"
   ]
  },
  {
   "cell_type": "markdown",
   "metadata": {},
   "source": [
    "# Prediction"
   ]
  },
  {
   "cell_type": "code",
   "execution_count": 804,
   "metadata": {},
   "outputs": [],
   "source": [
    "def vectorise(lyrics: str) -> np.array:\n",
    "    tokens = tokenize(lyrics)\n",
    "    lyric_vector = np.zeros(300)\n",
    "    for token in tokens:\n",
    "        try:\n",
    "            lyric_vector += wv_from_bin.get_vector(token.lower())\n",
    "        except:\n",
    "            continue\n",
    "    return lyric_vector / np.linalg.norm(lyric_vector)\n",
    "    "
   ]
  },
  {
   "cell_type": "code",
   "execution_count": 1037,
   "metadata": {},
   "outputs": [],
   "source": [
    "test_lyric = \"\"\"\n",
    "It might seem crazy what I am 'bout to say\n",
    "Sunshine, she's here, you can take a break\n",
    "I'm a hot air balloon that could go to space\n",
    "With the air, like I don't care, baby by the way\n",
    "Huh (Because I'm happy)\n",
    "Clap along if you feel like a room without a roof\n",
    "(Because I'm happy)\n",
    "Clap along if you feel like happiness is the truth\n",
    "(Because I'm happy)\n",
    "Clap along if you know what happiness is to you\n",
    "(Because I'm happy)\n",
    "Clap along if you feel like that's what you wanna do\n",
    "Here come bad news talking this and that (Yeah)\n",
    "Well give me all you got, don't hold back (Yeah)\n",
    "Well I should probably warn you I'll be just fine (Yeah)\n",
    "No offense to you don't waste your time\n",
    "Here's why\n",
    "Clap along if you feel like a room without a roof\n",
    "(Because I'm happy)\n",
    "Clap along if you feel like happiness is the truth\n",
    "(Because I'm happy)\n",
    "Clap along if you know what happiness is to you\n",
    "(Because I'm happy)\n",
    "Clap along if you feel like that's what you wanna do\n",
    "Uh, bring me down\n",
    "Can't nothing, bring me down\n",
    "My level's too high to bring me down\n",
    "Can't nothing, bring me down, I said\n",
    "Bring me down, can't nothing\n",
    "Bring me down\n",
    "My level's too high to bring me down\n",
    "Can't nothing, bring me down, I said\n",
    "Clap along if you feel like a room without a roof\n",
    "(Because I'm happy)\n",
    "Clap along if you feel like happiness is the truth\n",
    "(Because I'm happy)\n",
    "Clap along if you know what happiness is to you\n",
    "(Because I'm happy)\n",
    "Clap along if you feel like that's what you wanna do\n",
    "Clap along if you feel like a room without a roof\n",
    "(Because I'm happy)\n",
    "Clap along if you feel like happiness is the truth\n",
    "(Because I'm happy)\n",
    "Clap along if you know what happiness is to you\n",
    "(Because I'm happy)\n",
    "Clap along if you feel like that's what you wanna do\n",
    "Uh, bring me down (Happy, happy, happy, happy)\n",
    "Can't nothing (Happy, happy, happy, happy)\n",
    "Bring me down, my level's too high\n",
    "To bring me down (Happy, happy, happy, happy)\n",
    "Can't nothing (Happy, happy, happy, happy)\n",
    "Bring me down, I said\n",
    "Clap along if you feel like a room without a roof\n",
    "(Because I'm happy)\n",
    "Clap along if you feel like happiness is the truth\n",
    "(Because I'm happy)\n",
    "Clap along if you know what happiness is to you (ayy, ayy, ayy)\n",
    "(Because I'm happy)\n",
    "Clap along if you feel like that's what you wanna do\n",
    "Clap along if you feel like a room without a roof\n",
    "(Because I'm happy)\n",
    "Clap along if you feel like happiness is the truth\n",
    "(Because I'm happy)\n",
    "Clap along if you know what happiness is to you (hey)\n",
    "(Because I'm happy)\n",
    "Clap along if you feel like that's what you wanna do\n",
    "Come on\n",
    "\"\"\""
   ]
  },
  {
   "cell_type": "code",
   "execution_count": 1038,
   "metadata": {},
   "outputs": [],
   "source": [
    "test1_vector = vectorise(test_lyric)"
   ]
  },
  {
   "cell_type": "code",
   "execution_count": 1039,
   "metadata": {},
   "outputs": [
    {
     "data": {
      "text/plain": [
       "(1160, 300)"
      ]
     },
     "execution_count": 1039,
     "metadata": {},
     "output_type": "execute_result"
    }
   ],
   "source": [
    "scaled_lyrics_embeddings.shape"
   ]
  },
  {
   "cell_type": "code",
   "execution_count": 1040,
   "metadata": {},
   "outputs": [
    {
     "data": {
      "text/plain": [
       "(300,)"
      ]
     },
     "execution_count": 1040,
     "metadata": {},
     "output_type": "execute_result"
    }
   ],
   "source": [
    "test1_vector.shape"
   ]
  },
  {
   "cell_type": "code",
   "execution_count": 1041,
   "metadata": {},
   "outputs": [],
   "source": [
    "def distance(metric: str, embedding_matrix: np.ndarray, test_vector: np.ndarray) -> np.ndarray:\n",
    "    if metric == \"cosine\":\n",
    "            \n",
    "        dot_product = np.dot(embedding_matrix, test_vector)\n",
    "\n",
    "        # Compute magnitudes\n",
    "        embedding_magnitudes = np.linalg.norm(embedding_matrix, axis=1)\n",
    "        test_vector_magnitude = np.linalg.norm(test_vector)\n",
    "\n",
    "        # Compute cosine similarity\n",
    "        cosine_similarity = dot_product / (embedding_magnitudes * test_vector_magnitude)\n",
    "        return cosine_similarity\n",
    "    elif metric == \"euclidean\":\n",
    "        distances = np.linalg.norm(scaled_lyrics_embeddings - test_vector, axis=1)\n",
    "        return distances\n",
    "    else:\n",
    "        raise Exception(f\"Invalid parameter value {metric}\")"
   ]
  },
  {
   "cell_type": "code",
   "execution_count": 1042,
   "metadata": {},
   "outputs": [
    {
     "data": {
      "text/plain": [
       "{'Amazement',\n",
       " 'Calmness',\n",
       " 'Joyful activation',\n",
       " 'Nostalgia',\n",
       " 'Power',\n",
       " 'Sadness',\n",
       " 'Solemnity',\n",
       " 'Tenderness',\n",
       " 'Tension'}"
      ]
     },
     "execution_count": 1042,
     "metadata": {},
     "output_type": "execute_result"
    }
   ],
   "source": [
    "unique_emotion_labels"
   ]
  },
  {
   "cell_type": "code",
   "execution_count": 1043,
   "metadata": {},
   "outputs": [
    {
     "data": {
      "text/plain": [
       "(3,)"
      ]
     },
     "execution_count": 1043,
     "metadata": {},
     "output_type": "execute_result"
    }
   ],
   "source": [
    "test_vector = np.array([0.5, 0.6, 0.7])\n",
    "test_vector.shape"
   ]
  },
  {
   "cell_type": "code",
   "execution_count": 1044,
   "metadata": {},
   "outputs": [],
   "source": [
    "similarity = distance(metric=\"euclidean\", embedding_matrix=scaled_lyrics_embeddings, test_vector= test1_vector.reshape(1,-1))"
   ]
  },
  {
   "cell_type": "code",
   "execution_count": 1045,
   "metadata": {},
   "outputs": [],
   "source": [
    "cs = distance(metric=\"cosine\", embedding_matrix=scaled_lyrics_embeddings, test_vector= test1_vector)"
   ]
  },
  {
   "cell_type": "code",
   "execution_count": 1046,
   "metadata": {},
   "outputs": [
    {
     "data": {
      "text/plain": [
       "722                         Tenderness, Tension\n",
       "242                 Amazement, Nostalgia, Power\n",
       "302    Amazement, Joyful activation, Tenderness\n",
       "Name: labels, dtype: object"
      ]
     },
     "execution_count": 1046,
     "metadata": {},
     "output_type": "execute_result"
    }
   ],
   "source": [
    "real = cosine_similarity(scaled_lyrics_embeddings, test1_vector.reshape(1,-1))[:,0]\n",
    "raw_df.loc[(-real).argsort()[:3]][\"labels\"]"
   ]
  },
  {
   "cell_type": "code",
   "execution_count": 1047,
   "metadata": {},
   "outputs": [
    {
     "data": {
      "text/plain": [
       "(0.8573437826814737, 722)"
      ]
     },
     "execution_count": 1047,
     "metadata": {},
     "output_type": "execute_result"
    }
   ],
   "source": [
    "real.max(), real.argmax()"
   ]
  },
  {
   "cell_type": "code",
   "execution_count": 1048,
   "metadata": {},
   "outputs": [
    {
     "data": {
      "text/plain": [
       "(0.8573437826814735, 722)"
      ]
     },
     "execution_count": 1048,
     "metadata": {},
     "output_type": "execute_result"
    }
   ],
   "source": [
    "cs.max(), cs.argmax()"
   ]
  },
  {
   "cell_type": "code",
   "execution_count": 1049,
   "metadata": {},
   "outputs": [
    {
     "data": {
      "text/plain": [
       "722                         Tenderness, Tension\n",
       "242                 Amazement, Nostalgia, Power\n",
       "302    Amazement, Joyful activation, Tenderness\n",
       "Name: labels, dtype: object"
      ]
     },
     "execution_count": 1049,
     "metadata": {},
     "output_type": "execute_result"
    }
   ],
   "source": [
    "raw_df.loc[(-cs).argsort()[:3]][\"labels\"]"
   ]
  },
  {
   "cell_type": "code",
   "execution_count": 1050,
   "metadata": {},
   "outputs": [
    {
     "data": {
      "text/plain": [
       "(1.1363610055106679, 159)"
      ]
     },
     "execution_count": 1050,
     "metadata": {},
     "output_type": "execute_result"
    }
   ],
   "source": [
    "similarity.max(), similarity.argmax()"
   ]
  },
  {
   "cell_type": "code",
   "execution_count": 1051,
   "metadata": {},
   "outputs": [
    {
     "data": {
      "text/plain": [
       "array([159, 970, 112, ..., 302, 242, 722], dtype=int64)"
      ]
     },
     "execution_count": 1051,
     "metadata": {},
     "output_type": "execute_result"
    }
   ],
   "source": [
    "(-similarity).argsort()"
   ]
  },
  {
   "cell_type": "code",
   "execution_count": 1052,
   "metadata": {},
   "outputs": [
    {
     "data": {
      "text/plain": [
       "159                                      Sadness, Tension\n",
       "970                Nostalgia, Sadness, Solemnity, Tension\n",
       "112     Calmness, Joyful activation, Power, Sadness, T...\n",
       "407                                   Amazement, Calmness\n",
       "628       Amazement, Nostalgia, Power, Solemnity, Tension\n",
       "115     Nostalgia, Sadness, Solemnity, Tenderness, Ten...\n",
       "509          Joyful activation, Power, Solemnity, Tension\n",
       "745                               Power, Sadness, Tension\n",
       "52      Amazement, Joyful activation, Nostalgia, Sadne...\n",
       "1098                              Power, Sadness, Tension\n",
       "Name: labels, dtype: object"
      ]
     },
     "execution_count": 1052,
     "metadata": {},
     "output_type": "execute_result"
    }
   ],
   "source": [
    "raw_df.loc[(-similarity).argsort()[:10]][\"labels\"]"
   ]
  },
  {
   "cell_type": "markdown",
   "metadata": {},
   "source": [
    "# Combining embeddings for each emotion"
   ]
  },
  {
   "cell_type": "code",
   "execution_count": null,
   "metadata": {},
   "outputs": [],
   "source": []
  },
  {
   "cell_type": "code",
   "execution_count": 881,
   "metadata": {},
   "outputs": [
    {
     "name": "stderr",
     "output_type": "stream",
     "text": [
      "1160it [00:03, 313.33it/s]\n"
     ]
    }
   ],
   "source": [
    "# go through each lyrics, tokenize it, vectorize each word, then combine all of them into single average vector and store it in the list\n",
    "lyrics = raw_df[\"lyrics\"]\n",
    "lyrics_embeddings = []\n",
    "unsupported_tokens = set()\n",
    "label_embedding_map = {} # dict{str: np.array([])}\n",
    "for i, lyric in tqdm(enumerate(lyrics)):\n",
    "    labels = raw_df.loc[i][\"labels\"]\n",
    "    lyric_vector = np.zeros(300)\n",
    "    for token in tokenize(lyric):\n",
    "        try:\n",
    "            lyric_vector += wv_from_bin.get_vector(token.lower())\n",
    "        except KeyError as e:\n",
    "            # if the word is not present in the glove then key error is raised, so handle the exception and move on\n",
    "            unsupported_tokens.add(token)\n",
    "            continue\n",
    "\n",
    "    for label in [label.strip() for label in labels.split(\",\")]:\n",
    "        if label in label_embedding_map:\n",
    "            label_embedding_map[label] += lyric_vector\n",
    "        else:\n",
    "            label_embedding_map[label] = lyric_vector"
   ]
  },
  {
   "cell_type": "code",
   "execution_count": 882,
   "metadata": {},
   "outputs": [],
   "source": [
    "emotions_embeddings = []\n",
    "for k,v in label_embedding_map.items():\n",
    "    v = v / np.linalg.norm(v, axis=0)\n",
    "    label_embedding_map[k] = v\n",
    "    emotions_embeddings.append(v)\n",
    "\n",
    "emotions_embeddings = np.stack(emotions_embeddings)"
   ]
  },
  {
   "cell_type": "code",
   "execution_count": 883,
   "metadata": {},
   "outputs": [
    {
     "data": {
      "text/plain": [
       "(9, 300)"
      ]
     },
     "execution_count": 883,
     "metadata": {},
     "output_type": "execute_result"
    }
   ],
   "source": [
    "emotions_embeddings.shape"
   ]
  },
  {
   "cell_type": "code",
   "execution_count": 1033,
   "metadata": {},
   "outputs": [],
   "source": [
    "test_lyric = \"\"\"\n",
    "It might seem crazy what I am 'bout to say\n",
    "Sunshine, she's here, you can take a break\n",
    "I'm a hot air balloon that could go to space\n",
    "With the air, like I don't care, baby by the way\n",
    "Huh (Because I'm happy)\n",
    "Clap along if you feel like a room without a roof\n",
    "(Because I'm happy)\n",
    "Clap along if you feel like happiness is the truth\n",
    "(Because I'm happy)\n",
    "Clap along if you know what happiness is to you\n",
    "(Because I'm happy)\n",
    "Clap along if you feel like that's what you wanna do\n",
    "Here come bad news talking this and that (Yeah)\n",
    "Well give me all you got, don't hold back (Yeah)\n",
    "Well I should probably warn you I'll be just fine (Yeah)\n",
    "No offense to you don't waste your time\n",
    "Here's why\n",
    "Clap along if you feel like a room without a roof\n",
    "(Because I'm happy)\n",
    "Clap along if you feel like happiness is the truth\n",
    "(Because I'm happy)\n",
    "Clap along if you know what happiness is to you\n",
    "(Because I'm happy)\n",
    "Clap along if you feel like that's what you wanna do\n",
    "Uh, bring me down\n",
    "Can't nothing, bring me down\n",
    "My level's too high to bring me down\n",
    "Can't nothing, bring me down, I said\n",
    "Bring me down, can't nothing\n",
    "Bring me down\n",
    "My level's too high to bring me down\n",
    "Can't nothing, bring me down, I said\n",
    "Clap along if you feel like a room without a roof\n",
    "(Because I'm happy)\n",
    "Clap along if you feel like happiness is the truth\n",
    "(Because I'm happy)\n",
    "Clap along if you know what happiness is to you\n",
    "(Because I'm happy)\n",
    "Clap along if you feel like that's what you wanna do\n",
    "Clap along if you feel like a room without a roof\n",
    "(Because I'm happy)\n",
    "Clap along if you feel like happiness is the truth\n",
    "(Because I'm happy)\n",
    "Clap along if you know what happiness is to you\n",
    "(Because I'm happy)\n",
    "Clap along if you feel like that's what you wanna do\n",
    "Uh, bring me down (Happy, happy, happy, happy)\n",
    "Can't nothing (Happy, happy, happy, happy)\n",
    "Bring me down, my level's too high\n",
    "To bring me down (Happy, happy, happy, happy)\n",
    "Can't nothing (Happy, happy, happy, happy)\n",
    "Bring me down, I said\n",
    "Clap along if you feel like a room without a roof\n",
    "(Because I'm happy)\n",
    "Clap along if you feel like happiness is the truth\n",
    "(Because I'm happy)\n",
    "Clap along if you know what happiness is to you (ayy, ayy, ayy)\n",
    "(Because I'm happy)\n",
    "Clap along if you feel like that's what you wanna do\n",
    "Clap along if you feel like a room without a roof\n",
    "(Because I'm happy)\n",
    "Clap along if you feel like happiness is the truth\n",
    "(Because I'm happy)\n",
    "Clap along if you know what happiness is to you (hey)\n",
    "(Because I'm happy)\n",
    "Clap along if you feel like that's what you wanna do\n",
    "Come on\n",
    "\"\"\""
   ]
  },
  {
   "cell_type": "code",
   "execution_count": 1055,
   "metadata": {},
   "outputs": [],
   "source": [
    "test1_vector = vectorise(raw_df.loc[0][\"lyrics\"])\n",
    "cs = distance(metric=\"cosine\", embedding_matrix=emotions_embeddings, test_vector=test1_vector)"
   ]
  },
  {
   "cell_type": "code",
   "execution_count": 1035,
   "metadata": {},
   "outputs": [
    {
     "data": {
      "text/plain": [
       "array(['Amazement', 'Solemnity', 'Tenderness'], dtype='<U17')"
      ]
     },
     "execution_count": 1035,
     "metadata": {},
     "output_type": "execute_result"
    }
   ],
   "source": [
    "np.array(list(label_embedding_map.keys()))[(-cs).argsort()[:3]]"
   ]
  },
  {
   "cell_type": "code",
   "execution_count": 1056,
   "metadata": {},
   "outputs": [],
   "source": [
    "np.save(\"./embeddings/emotions_embeddings_v1.npy\", emotions_embeddings)"
   ]
  },
  {
   "cell_type": "code",
   "execution_count": 1057,
   "metadata": {},
   "outputs": [
    {
     "data": {
      "text/plain": [
       "dict_keys(['Calmness', 'Sadness', 'Power', 'Tension', 'Amazement', 'Solemnity', 'Tenderness', 'Joyful activation', 'Nostalgia'])"
      ]
     },
     "execution_count": 1057,
     "metadata": {},
     "output_type": "execute_result"
    }
   ],
   "source": [
    "label_embedding_map.keys()"
   ]
  },
  {
   "cell_type": "code",
   "execution_count": null,
   "metadata": {},
   "outputs": [],
   "source": []
  }
 ],
 "metadata": {
  "kernelspec": {
   "display_name": "chess-engine",
   "language": "python",
   "name": "python3"
  },
  "language_info": {
   "codemirror_mode": {
    "name": "ipython",
    "version": 3
   },
   "file_extension": ".py",
   "mimetype": "text/x-python",
   "name": "python",
   "nbconvert_exporter": "python",
   "pygments_lexer": "ipython3",
   "version": "3.10.12"
  }
 },
 "nbformat": 4,
 "nbformat_minor": 2
}
