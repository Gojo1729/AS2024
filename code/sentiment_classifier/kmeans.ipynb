{
 "cells": [
  {
   "cell_type": "code",
   "execution_count": 1,
   "metadata": {},
   "outputs": [],
   "source": [
    "%load_ext autoreload\n",
    "%autoreload 2"
   ]
  },
  {
   "cell_type": "code",
   "execution_count": 4,
   "metadata": {},
   "outputs": [],
   "source": [
    "import pandas as pd\n",
    "import numpy as np\n",
    "from tqdm import tqdm\n",
    "import nltk # just for tokenization\n",
    "from nltk.corpus import stopwords\n",
    "import random\n",
    "import gradio \n",
    "random.seed(42)"
   ]
  },
  {
   "cell_type": "markdown",
   "metadata": {},
   "source": [
    "# Milestones\n",
    "1. Get the word2vec and glove vectors\n",
    "2. Tokenize the lyrics corpus\n",
    "3. Get the unique tokens and index them (not needed, may be)\n",
    "4. Get word embeddings of each token in the lyrics, and do linear superposition every word vector to create a single vector for a lyric. Do this for all lyrics\n",
    "5. Use clustering techniques \n",
    "    - Start with Kmeans for setting the baseline then try out other clustering techniques like DBSCAN.\n",
    "6. Calculate the Silhoutte distance, WCSS for the model for comparison"
   ]
  },
  {
   "cell_type": "markdown",
   "metadata": {},
   "source": [
    "# Loading Glove vectors"
   ]
  },
  {
   "cell_type": "code",
   "execution_count": 6,
   "metadata": {},
   "outputs": [
    {
     "name": "stdout",
     "output_type": "stream",
     "text": [
      "Loaded vocab size 3000000\n"
     ]
    }
   ],
   "source": [
    "def load_embedding_model():\n",
    "    \"\"\" Load GloVe Vectors\n",
    "        Return:\n",
    "            wv_from_bin: All 400000 embeddings, each lengh 200\n",
    "    \"\"\"\n",
    "    import gensim.downloader as api\n",
    "    wv_from_bin = api.load(\"word2vec-google-news-300\")\n",
    "    print(\"Loaded vocab size %i\" % len(list(wv_from_bin.index_to_key)))\n",
    "    return wv_from_bin\n",
    "wv_from_bin = load_embedding_model()\n",
    "# wv_from_bin = load_embedding_model()"
   ]
  },
  {
   "cell_type": "markdown",
   "metadata": {},
   "source": [
    "# Vectorize the lyrics "
   ]
  },
  {
   "cell_type": "code",
   "execution_count": 7,
   "metadata": {},
   "outputs": [],
   "source": [
    "raw_df = pd.read_csv(\"../../Spotify Song Dataset.csv/million_songs.csv\")"
   ]
  },
  {
   "cell_type": "code",
   "execution_count": 8,
   "metadata": {},
   "outputs": [
    {
     "name": "stdout",
     "output_type": "stream",
     "text": [
      "  artist                   song                                        link  \\\n",
      "0   ABBA  Ahe's My Kind Of Girl  /a/abba/ahes+my+kind+of+girl_20598417.html   \n",
      "1   ABBA       Andante, Andante       /a/abba/andante+andante_20002708.html   \n",
      "2   ABBA         As Good As New        /a/abba/as+good+as+new_20003033.html   \n",
      "3   ABBA                   Bang                  /a/abba/bang_20598415.html   \n",
      "4   ABBA       Bang-A-Boomerang      /a/abba/bang+a+boomerang_20002668.html   \n",
      "\n",
      "                                                text  \n",
      "0  Look at her face, it's a wonderful face  \\nAnd...  \n",
      "1  Take it easy with me, please  \\nTouch me gentl...  \n",
      "2  I'll never know why I had to go  \\nWhy I had t...  \n",
      "3  Making somebody happy is a question of give an...  \n",
      "4  Making somebody happy is a question of give an...  \n",
      "Number of songs 57650\n"
     ]
    }
   ],
   "source": [
    "print(raw_df.head())\n",
    "print(f\"Number of songs {len(raw_df)}\")"
   ]
  },
  {
   "cell_type": "code",
   "execution_count": 10,
   "metadata": {},
   "outputs": [
    {
     "data": {
      "text/plain": [
       "44824"
      ]
     },
     "execution_count": 10,
     "metadata": {},
     "output_type": "execute_result"
    }
   ],
   "source": [
    "len(raw_df[\"song\"].unique()) # Name of the songs are not unique"
   ]
  },
  {
   "cell_type": "code",
   "execution_count": 11,
   "metadata": {},
   "outputs": [],
   "source": [
    "def tokenize(lyric: str) -> list[str]:\n",
    "    # lowercase the text, remove stop words, punctuation and keep only the words\n",
    "    tokens = nltk.tokenize.word_tokenize(lyric.lower())\n",
    "    stop_words = stopwords.words(\"english\")\n",
    "    alpha_tokens = [token for token in tokens if (token.isalpha() and token not in stop_words)]\n",
    "    return alpha_tokens"
   ]
  },
  {
   "cell_type": "code",
   "execution_count": 84,
   "metadata": {},
   "outputs": [
    {
     "name": "stderr",
     "output_type": "stream",
     "text": [
      "100%|██████████| 57650/57650 [01:46<00:00, 541.51it/s]\n"
     ]
    }
   ],
   "source": [
    "# go through each lyrics, tokenize it, vectorize each word, then combine all of them into single average vector and store it in the list\n",
    "lyrics = raw_df[\"text\"]\n",
    "lyrics_embeddings = []\n",
    "unsupported_tokens = set()\n",
    "for lyric in tqdm(lyrics):\n",
    "    lyric_vector = np.zeros(300)\n",
    "    for token in tokenize(lyric):\n",
    "        try:\n",
    "            lyric_vector += wv_from_bin.get_vector(token.lower())\n",
    "        except KeyError as e:\n",
    "            # if the word is not present in the glove then key error is raised, so handle the exception and move on\n",
    "            unsupported_tokens.add(token)\n",
    "            continue\n",
    "    lyrics_embeddings.append(lyric_vector)\n",
    "\n",
    "lyrics_embeddings = np.stack(lyrics_embeddings)\n"
   ]
  },
  {
   "cell_type": "code",
   "execution_count": 12,
   "metadata": {},
   "outputs": [],
   "source": [
    "# np.save(\"lyric_embeddins_01.npy\", lyrics_embeddings)\n",
    "lyrics_embeddings = np.load(\"lyric_embeddins_01.npy\")"
   ]
  },
  {
   "cell_type": "code",
   "execution_count": 16,
   "metadata": {},
   "outputs": [],
   "source": [
    "print(f\"Embeddings shape {lyrics_embeddings.shape}, number of unsupported tokens {len(unsupported_tokens)}\")\n",
    "# scaling along each lyrics vector, for unit variance\n",
    "scaled_lyrics_embeddings = lyrics_embeddings / np.linalg.norm(lyrics_embeddings, axis=1, keepdims=True)"
   ]
  },
  {
   "cell_type": "markdown",
   "metadata": {},
   "source": [
    "# Clustering"
   ]
  },
  {
   "cell_type": "markdown",
   "metadata": {},
   "source": [
    "## KMeans"
   ]
  },
  {
   "cell_type": "code",
   "execution_count": 14,
   "metadata": {},
   "outputs": [],
   "source": [
    "from sklearn.cluster import KMeans\n",
    "from sklearn.metrics import pairwise_distances_argmin_min"
   ]
  },
  {
   "cell_type": "code",
   "execution_count": 17,
   "metadata": {},
   "outputs": [
    {
     "name": "stderr",
     "output_type": "stream",
     "text": [
      "c:\\Users\\shivs\\anaconda3\\envs\\chess-engine\\lib\\site-packages\\sklearn\\cluster\\_kmeans.py:1412: FutureWarning: The default value of `n_init` will change from 10 to 'auto' in 1.4. Set the value of `n_init` explicitly to suppress the warning\n",
      "  super()._check_params_vs_input(X, default_n_init=10)\n"
     ]
    },
    {
     "data": {
      "text/html": [
       "<style>#sk-container-id-1 {color: black;}#sk-container-id-1 pre{padding: 0;}#sk-container-id-1 div.sk-toggleable {background-color: white;}#sk-container-id-1 label.sk-toggleable__label {cursor: pointer;display: block;width: 100%;margin-bottom: 0;padding: 0.3em;box-sizing: border-box;text-align: center;}#sk-container-id-1 label.sk-toggleable__label-arrow:before {content: \"▸\";float: left;margin-right: 0.25em;color: #696969;}#sk-container-id-1 label.sk-toggleable__label-arrow:hover:before {color: black;}#sk-container-id-1 div.sk-estimator:hover label.sk-toggleable__label-arrow:before {color: black;}#sk-container-id-1 div.sk-toggleable__content {max-height: 0;max-width: 0;overflow: hidden;text-align: left;background-color: #f0f8ff;}#sk-container-id-1 div.sk-toggleable__content pre {margin: 0.2em;color: black;border-radius: 0.25em;background-color: #f0f8ff;}#sk-container-id-1 input.sk-toggleable__control:checked~div.sk-toggleable__content {max-height: 200px;max-width: 100%;overflow: auto;}#sk-container-id-1 input.sk-toggleable__control:checked~label.sk-toggleable__label-arrow:before {content: \"▾\";}#sk-container-id-1 div.sk-estimator input.sk-toggleable__control:checked~label.sk-toggleable__label {background-color: #d4ebff;}#sk-container-id-1 div.sk-label input.sk-toggleable__control:checked~label.sk-toggleable__label {background-color: #d4ebff;}#sk-container-id-1 input.sk-hidden--visually {border: 0;clip: rect(1px 1px 1px 1px);clip: rect(1px, 1px, 1px, 1px);height: 1px;margin: -1px;overflow: hidden;padding: 0;position: absolute;width: 1px;}#sk-container-id-1 div.sk-estimator {font-family: monospace;background-color: #f0f8ff;border: 1px dotted black;border-radius: 0.25em;box-sizing: border-box;margin-bottom: 0.5em;}#sk-container-id-1 div.sk-estimator:hover {background-color: #d4ebff;}#sk-container-id-1 div.sk-parallel-item::after {content: \"\";width: 100%;border-bottom: 1px solid gray;flex-grow: 1;}#sk-container-id-1 div.sk-label:hover label.sk-toggleable__label {background-color: #d4ebff;}#sk-container-id-1 div.sk-serial::before {content: \"\";position: absolute;border-left: 1px solid gray;box-sizing: border-box;top: 0;bottom: 0;left: 50%;z-index: 0;}#sk-container-id-1 div.sk-serial {display: flex;flex-direction: column;align-items: center;background-color: white;padding-right: 0.2em;padding-left: 0.2em;position: relative;}#sk-container-id-1 div.sk-item {position: relative;z-index: 1;}#sk-container-id-1 div.sk-parallel {display: flex;align-items: stretch;justify-content: center;background-color: white;position: relative;}#sk-container-id-1 div.sk-item::before, #sk-container-id-1 div.sk-parallel-item::before {content: \"\";position: absolute;border-left: 1px solid gray;box-sizing: border-box;top: 0;bottom: 0;left: 50%;z-index: -1;}#sk-container-id-1 div.sk-parallel-item {display: flex;flex-direction: column;z-index: 1;position: relative;background-color: white;}#sk-container-id-1 div.sk-parallel-item:first-child::after {align-self: flex-end;width: 50%;}#sk-container-id-1 div.sk-parallel-item:last-child::after {align-self: flex-start;width: 50%;}#sk-container-id-1 div.sk-parallel-item:only-child::after {width: 0;}#sk-container-id-1 div.sk-dashed-wrapped {border: 1px dashed gray;margin: 0 0.4em 0.5em 0.4em;box-sizing: border-box;padding-bottom: 0.4em;background-color: white;}#sk-container-id-1 div.sk-label label {font-family: monospace;font-weight: bold;display: inline-block;line-height: 1.2em;}#sk-container-id-1 div.sk-label-container {text-align: center;}#sk-container-id-1 div.sk-container {/* jupyter's `normalize.less` sets `[hidden] { display: none; }` but bootstrap.min.css set `[hidden] { display: none !important; }` so we also need the `!important` here to be able to override the default hidden behavior on the sphinx rendered scikit-learn.org. See: https://github.com/scikit-learn/scikit-learn/issues/21755 */display: inline-block !important;position: relative;}#sk-container-id-1 div.sk-text-repr-fallback {display: none;}</style><div id=\"sk-container-id-1\" class=\"sk-top-container\"><div class=\"sk-text-repr-fallback\"><pre>KMeans(n_clusters=5, random_state=42)</pre><b>In a Jupyter environment, please rerun this cell to show the HTML representation or trust the notebook. <br />On GitHub, the HTML representation is unable to render, please try loading this page with nbviewer.org.</b></div><div class=\"sk-container\" hidden><div class=\"sk-item\"><div class=\"sk-estimator sk-toggleable\"><input class=\"sk-toggleable__control sk-hidden--visually\" id=\"sk-estimator-id-1\" type=\"checkbox\" checked><label for=\"sk-estimator-id-1\" class=\"sk-toggleable__label sk-toggleable__label-arrow\">KMeans</label><div class=\"sk-toggleable__content\"><pre>KMeans(n_clusters=5, random_state=42)</pre></div></div></div></div></div>"
      ],
      "text/plain": [
       "KMeans(n_clusters=5, random_state=42)"
      ]
     },
     "execution_count": 17,
     "metadata": {},
     "output_type": "execute_result"
    }
   ],
   "source": [
    "# Number of clusters\n",
    "k = 5\n",
    "\n",
    "# Apply k-means clustering\n",
    "kmeans = KMeans(n_clusters=k, random_state=42)\n",
    "kmeans.fit(scaled_lyrics_embeddings)"
   ]
  },
  {
   "cell_type": "code",
   "execution_count": 115,
   "metadata": {},
   "outputs": [
    {
     "data": {
      "image/png": "[encoded data removed]",
      "text/plain": [
       "<Figure size 800x600 with 1 Axes>"
      ]
     },
     "metadata": {},
     "output_type": "display_data"
    }
   ],
   "source": [
    "import numpy as np\n",
    "import matplotlib.pyplot as plt\n",
    "from sklearn.cluster import KMeans\n",
    "from sklearn.manifold import TSNE\n",
    "\n",
    "# Get cluster labels\n",
    "cluster_labels = kmeans.labels_\n",
    "\n",
    "# Apply t-SNE to reduce dimensionality for visualization\n",
    "tsne = TSNE(n_components=2, random_state=42)\n",
    "word_embeddings_tsne = tsne.fit_transform(scaled_lyrics_embeddings)\n",
    "\n",
    "# Plot t-SNE visualization with cluster labels\n",
    "plt.figure(figsize=(8, 6))\n",
    "for i in range(k):\n",
    "    plt.scatter(word_embeddings_tsne[cluster_labels == i, 0], \n",
    "                word_embeddings_tsne[cluster_labels == i, 1], \n",
    "                label=f'Cluster {i+1}')\n",
    "plt.xlabel('t-SNE Dimension 1')\n",
    "plt.ylabel('t-SNE Dimension 2')\n",
    "plt.title('t-SNE Visualization of K-Means Clusters')\n",
    "plt.legend()\n",
    "plt.show()\n"
   ]
  },
  {
   "cell_type": "code",
   "execution_count": 18,
   "metadata": {},
   "outputs": [],
   "source": [
    "closest_indices, _ = pairwise_distances_argmin_min(kmeans.cluster_centers_, scaled_lyrics_embeddings)"
   ]
  },
  {
   "cell_type": "code",
   "execution_count": 19,
   "metadata": {},
   "outputs": [
    {
     "data": {
      "text/html": [
       "<div>\n",
       "<style scoped>\n",
       "    .dataframe tbody tr th:only-of-type {\n",
       "        vertical-align: middle;\n",
       "    }\n",
       "\n",
       "    .dataframe tbody tr th {\n",
       "        vertical-align: top;\n",
       "    }\n",
       "\n",
       "    .dataframe thead th {\n",
       "        text-align: right;\n",
       "    }\n",
       "</style>\n",
       "<table border=\"1\" class=\"dataframe\">\n",
       "  <thead>\n",
       "    <tr style=\"text-align: right;\">\n",
       "      <th></th>\n",
       "      <th>artist</th>\n",
       "      <th>song</th>\n",
       "      <th>link</th>\n",
       "      <th>text</th>\n",
       "    </tr>\n",
       "  </thead>\n",
       "  <tbody>\n",
       "    <tr>\n",
       "      <th>26960</th>\n",
       "      <td>Cat Stevens</td>\n",
       "      <td>Foreigner Suite</td>\n",
       "      <td>/c/cat+stevens/foreigner+suite_20028113.html</td>\n",
       "      <td>There are no words, I can use  \\nBecause the m...</td>\n",
       "    </tr>\n",
       "    <tr>\n",
       "      <th>48526</th>\n",
       "      <td>Pitbull</td>\n",
       "      <td>Toma</td>\n",
       "      <td>/p/pitbull/toma_20358853.html</td>\n",
       "      <td>Oye Loca! Ven pa'ca! Come here!  \\nOye Loca! V...</td>\n",
       "    </tr>\n",
       "    <tr>\n",
       "      <th>37327</th>\n",
       "      <td>J Cole</td>\n",
       "      <td>The Autograph</td>\n",
       "      <td>/j/j+cole/the+autograph_20894859.html</td>\n",
       "      <td>[J. Cole]  \\nThey say anythings possible,  \\nY...</td>\n",
       "    </tr>\n",
       "    <tr>\n",
       "      <th>42933</th>\n",
       "      <td>Marillion</td>\n",
       "      <td>This Strange Engine</td>\n",
       "      <td>/m/marillion/this+strange+engine_20088964.html</td>\n",
       "      <td>There was a boy who came into this world  \\nAt...</td>\n",
       "    </tr>\n",
       "    <tr>\n",
       "      <th>34941</th>\n",
       "      <td>Guns N' Roses</td>\n",
       "      <td>Locomotive</td>\n",
       "      <td>/g/guns+n+roses/locomotive_10139577.html</td>\n",
       "      <td>Gonna find a way to cure this loneliness  \\nYe...</td>\n",
       "    </tr>\n",
       "  </tbody>\n",
       "</table>\n",
       "</div>"
      ],
      "text/plain": [
       "              artist                 song  \\\n",
       "26960    Cat Stevens      Foreigner Suite   \n",
       "48526        Pitbull                 Toma   \n",
       "37327         J Cole        The Autograph   \n",
       "42933      Marillion  This Strange Engine   \n",
       "34941  Guns N' Roses           Locomotive   \n",
       "\n",
       "                                                 link  \\\n",
       "26960    /c/cat+stevens/foreigner+suite_20028113.html   \n",
       "48526                   /p/pitbull/toma_20358853.html   \n",
       "37327           /j/j+cole/the+autograph_20894859.html   \n",
       "42933  /m/marillion/this+strange+engine_20088964.html   \n",
       "34941        /g/guns+n+roses/locomotive_10139577.html   \n",
       "\n",
       "                                                    text  \n",
       "26960  There are no words, I can use  \\nBecause the m...  \n",
       "48526  Oye Loca! Ven pa'ca! Come here!  \\nOye Loca! V...  \n",
       "37327  [J. Cole]  \\nThey say anythings possible,  \\nY...  \n",
       "42933  There was a boy who came into this world  \\nAt...  \n",
       "34941  Gonna find a way to cure this loneliness  \\nYe...  "
      ]
     },
     "execution_count": 19,
     "metadata": {},
     "output_type": "execute_result"
    }
   ],
   "source": [
    "raw_df.loc[closest_indices]"
   ]
  },
  {
   "cell_type": "code",
   "execution_count": 20,
   "metadata": {},
   "outputs": [
    {
     "data": {
      "text/plain": [
       "array([[ 0.06009933,  0.03512105,  0.03036772, ..., -0.07031994,\n",
       "         0.01035634,  0.00259082],\n",
       "       [ 0.01272057,  0.04527636,  0.0515059 , ..., -0.07680484,\n",
       "        -0.00864139,  0.05703552],\n",
       "       [ 0.03733139,  0.03731658,  0.02175321, ..., -0.07696376,\n",
       "         0.00519092,  0.00136227],\n",
       "       [ 0.05475056,  0.05591603,  0.01970892, ..., -0.0513303 ,\n",
       "         0.03064676, -0.00852016],\n",
       "       [ 0.05014667,  0.03683962,  0.02519083, ..., -0.06138606,\n",
       "         0.02507061, -0.02301422]])"
      ]
     },
     "execution_count": 20,
     "metadata": {},
     "output_type": "execute_result"
    }
   ],
   "source": [
    "kmeans.cluster_centers_"
   ]
  },
  {
   "cell_type": "code",
   "execution_count": null,
   "metadata": {},
   "outputs": [],
   "source": [
    "closest_indices_dict = {}\n",
    "cluster_centers = kmeans.cluster_centers_\n",
    "\n",
    "# Find the indices of the closest embeddings to each centroid\n",
    "for i, centroid in enumerate(cluster_centers):\n",
    "    # Calculate distances between centroid and all embeddings\n",
    "    distances = np.linalg.norm(scaled_lyrics_embeddings - centroid, axis=1)\n",
    "    # Sort distances and get indices of the closest 5 embeddings\n",
    "    closest_indices = (-distances).argsort()[:10]\n",
    "    # Store indices in dictionary\n",
    "    closest_indices_dict[f'Centroid {i}'] = closest_indices\n"
   ]
  },
  {
   "cell_type": "code",
   "execution_count": 22,
   "metadata": {},
   "outputs": [
    {
     "data": {
      "text/plain": [
       "{'Centroid 0': array([26960, 41931, 49198, 41928,  1272, 41988, 11453,  1727, 13192,\n",
       "        20087], dtype=int64),\n",
       " 'Centroid 1': array([48526, 41660,  6246, 54729, 55333, 20967, 48202, 36527, 48511,\n",
       "        10121], dtype=int64),\n",
       " 'Centroid 2': array([37327, 45718, 11541,  8848, 40148, 16474, 13038, 15931, 32245,\n",
       "         8886], dtype=int64),\n",
       " 'Centroid 3': array([42933,  1617, 40188, 25806, 25865, 10556, 15201, 25792, 42893,\n",
       "         7359], dtype=int64),\n",
       " 'Centroid 4': array([34941, 34925,  4572, 54674, 26314, 10521, 31403, 51834,  4542,\n",
       "        14067], dtype=int64)}"
      ]
     },
     "execution_count": 22,
     "metadata": {},
     "output_type": "execute_result"
    }
   ],
   "source": [
    "closest_indices_dict"
   ]
  },
  {
   "cell_type": "code",
   "execution_count": 43,
   "metadata": {},
   "outputs": [
    {
     "data": {
      "text/html": [
       "<div>\n",
       "<style scoped>\n",
       "    .dataframe tbody tr th:only-of-type {\n",
       "        vertical-align: middle;\n",
       "    }\n",
       "\n",
       "    .dataframe tbody tr th {\n",
       "        vertical-align: top;\n",
       "    }\n",
       "\n",
       "    .dataframe thead th {\n",
       "        text-align: right;\n",
       "    }\n",
       "</style>\n",
       "<table border=\"1\" class=\"dataframe\">\n",
       "  <thead>\n",
       "    <tr style=\"text-align: right;\">\n",
       "      <th></th>\n",
       "      <th>artist</th>\n",
       "      <th>song</th>\n",
       "      <th>link</th>\n",
       "      <th>text</th>\n",
       "    </tr>\n",
       "  </thead>\n",
       "  <tbody>\n",
       "    <tr>\n",
       "      <th>26960</th>\n",
       "      <td>Cat Stevens</td>\n",
       "      <td>Foreigner Suite</td>\n",
       "      <td>/c/cat+stevens/foreigner+suite_20028113.html</td>\n",
       "      <td>There are no words, I can use  \\nBecause the m...</td>\n",
       "    </tr>\n",
       "    <tr>\n",
       "      <th>41931</th>\n",
       "      <td>LL Cool J</td>\n",
       "      <td>I Need Love</td>\n",
       "      <td>/l/ll+cool+j/i+need+love_20081043.html</td>\n",
       "      <td>When I'm alone in my room  \\nSometimes I stare...</td>\n",
       "    </tr>\n",
       "    <tr>\n",
       "      <th>49198</th>\n",
       "      <td>Puff Daddy</td>\n",
       "      <td>Best Friend</td>\n",
       "      <td>/p/puff+daddy/best+friend_20112046.html</td>\n",
       "      <td>[Puffy] (Mario)  \\nI've seen a lot of things i...</td>\n",
       "    </tr>\n",
       "    <tr>\n",
       "      <th>41928</th>\n",
       "      <td>LL Cool J</td>\n",
       "      <td>I Can Give You More</td>\n",
       "      <td>/l/ll+cool+j/i+can+give+you+more_20172864.html</td>\n",
       "      <td>I seen this girl, walking down the block  \\nI ...</td>\n",
       "    </tr>\n",
       "    <tr>\n",
       "      <th>1272</th>\n",
       "      <td>Bee Gees</td>\n",
       "      <td>Above And Beyond</td>\n",
       "      <td>/b/bee+gees/above+beyond_20015664.html</td>\n",
       "      <td>Woman in a million to me  \\nI've never loved s...</td>\n",
       "    </tr>\n",
       "    <tr>\n",
       "      <th>41988</th>\n",
       "      <td>LL Cool J</td>\n",
       "      <td>You're In My Heart</td>\n",
       "      <td>/l/ll+cool+j/youre+in+my+heart_20627582.html</td>\n",
       "      <td>Do you remember, the first time you fell in lo...</td>\n",
       "    </tr>\n",
       "    <tr>\n",
       "      <th>11453</th>\n",
       "      <td>Leonard Cohen</td>\n",
       "      <td>Field Commander Cohen</td>\n",
       "      <td>/l/leonard+cohen/field+commander+cohen_2008282...</td>\n",
       "      <td>Field Commander Cohen, he was our most importa...</td>\n",
       "    </tr>\n",
       "    <tr>\n",
       "      <th>1727</th>\n",
       "      <td>Bon Jovi</td>\n",
       "      <td>Always</td>\n",
       "      <td>/b/bon+jovi/always_20022158.html</td>\n",
       "      <td>This Romeo is bleeding, but you can't see his ...</td>\n",
       "    </tr>\n",
       "    <tr>\n",
       "      <th>13192</th>\n",
       "      <td>Modern Talking</td>\n",
       "      <td>No. 1 Hit Medley</td>\n",
       "      <td>/m/modern+talking/no+1+hit+medley_20666841.html</td>\n",
       "      <td>Deep in my heart - there's a fire - a burning ...</td>\n",
       "    </tr>\n",
       "    <tr>\n",
       "      <th>20087</th>\n",
       "      <td>Underoath</td>\n",
       "      <td>And I Dreamt Of You</td>\n",
       "      <td>/u/underoath/and+i+dreamt+of+you_20188645.html</td>\n",
       "      <td>I see thy love in the distance  \\nBreathless g...</td>\n",
       "    </tr>\n",
       "  </tbody>\n",
       "</table>\n",
       "</div>"
      ],
      "text/plain": [
       "               artist                   song  \\\n",
       "26960     Cat Stevens        Foreigner Suite   \n",
       "41931       LL Cool J            I Need Love   \n",
       "49198      Puff Daddy            Best Friend   \n",
       "41928       LL Cool J    I Can Give You More   \n",
       "1272         Bee Gees       Above And Beyond   \n",
       "41988       LL Cool J     You're In My Heart   \n",
       "11453   Leonard Cohen  Field Commander Cohen   \n",
       "1727         Bon Jovi                 Always   \n",
       "13192  Modern Talking       No. 1 Hit Medley   \n",
       "20087       Underoath    And I Dreamt Of You   \n",
       "\n",
       "                                                    link  \\\n",
       "26960       /c/cat+stevens/foreigner+suite_20028113.html   \n",
       "41931             /l/ll+cool+j/i+need+love_20081043.html   \n",
       "49198            /p/puff+daddy/best+friend_20112046.html   \n",
       "41928     /l/ll+cool+j/i+can+give+you+more_20172864.html   \n",
       "1272              /b/bee+gees/above+beyond_20015664.html   \n",
       "41988       /l/ll+cool+j/youre+in+my+heart_20627582.html   \n",
       "11453  /l/leonard+cohen/field+commander+cohen_2008282...   \n",
       "1727                    /b/bon+jovi/always_20022158.html   \n",
       "13192    /m/modern+talking/no+1+hit+medley_20666841.html   \n",
       "20087     /u/underoath/and+i+dreamt+of+you_20188645.html   \n",
       "\n",
       "                                                    text  \n",
       "26960  There are no words, I can use  \\nBecause the m...  \n",
       "41931  When I'm alone in my room  \\nSometimes I stare...  \n",
       "49198  [Puffy] (Mario)  \\nI've seen a lot of things i...  \n",
       "41928  I seen this girl, walking down the block  \\nI ...  \n",
       "1272   Woman in a million to me  \\nI've never loved s...  \n",
       "41988  Do you remember, the first time you fell in lo...  \n",
       "11453  Field Commander Cohen, he was our most importa...  \n",
       "1727   This Romeo is bleeding, but you can't see his ...  \n",
       "13192  Deep in my heart - there's a fire - a burning ...  \n",
       "20087  I see thy love in the distance  \\nBreathless g...  "
      ]
     },
     "execution_count": 43,
     "metadata": {},
     "output_type": "execute_result"
    }
   ],
   "source": [
    "raw_df.loc[closest_indices_dict[\"Centroid 0\"]]"
   ]
  },
  {
   "cell_type": "code",
   "execution_count": 24,
   "metadata": {},
   "outputs": [
    {
     "data": {
      "text/html": [
       "<div>\n",
       "<style scoped>\n",
       "    .dataframe tbody tr th:only-of-type {\n",
       "        vertical-align: middle;\n",
       "    }\n",
       "\n",
       "    .dataframe tbody tr th {\n",
       "        vertical-align: top;\n",
       "    }\n",
       "\n",
       "    .dataframe thead th {\n",
       "        text-align: right;\n",
       "    }\n",
       "</style>\n",
       "<table border=\"1\" class=\"dataframe\">\n",
       "  <thead>\n",
       "    <tr style=\"text-align: right;\">\n",
       "      <th></th>\n",
       "      <th>artist</th>\n",
       "      <th>song</th>\n",
       "      <th>link</th>\n",
       "      <th>text</th>\n",
       "    </tr>\n",
       "  </thead>\n",
       "  <tbody>\n",
       "    <tr>\n",
       "      <th>48526</th>\n",
       "      <td>Pitbull</td>\n",
       "      <td>Toma</td>\n",
       "      <td>/p/pitbull/toma_20358853.html</td>\n",
       "      <td>Oye Loca! Ven pa'ca! Come here!  \\nOye Loca! V...</td>\n",
       "    </tr>\n",
       "    <tr>\n",
       "      <th>41660</th>\n",
       "      <td>Lil Wayne</td>\n",
       "      <td>How To Love Spanish</td>\n",
       "      <td>/l/lil+wayne/how+to+love+spanish_20982146.html</td>\n",
       "      <td>[Intro - lil wayne]  \\nCut the music up  \\nA l...</td>\n",
       "    </tr>\n",
       "    <tr>\n",
       "      <th>6246</th>\n",
       "      <td>Flo-Rida</td>\n",
       "      <td>Takeover</td>\n",
       "      <td>/f/flo+rida/takeover_21030376.html</td>\n",
       "      <td>[Flo rida] verse 1  \\nFlo Rida, Mizz Nina  \\nY...</td>\n",
       "    </tr>\n",
       "    <tr>\n",
       "      <th>54729</th>\n",
       "      <td>Utada Hikaru</td>\n",
       "      <td>Hikari</td>\n",
       "      <td>/u/utada+hikaru/hikari_10162344.html</td>\n",
       "      <td>Donna toki datte  \\nTatta hitori de  \\nUnmei w...</td>\n",
       "    </tr>\n",
       "    <tr>\n",
       "      <th>55333</th>\n",
       "      <td>Vybz Kartel</td>\n",
       "      <td>Sweet To The Belly</td>\n",
       "      <td>/v/vybz+kartel/sweet+to+the+belly_20712743.html</td>\n",
       "      <td>Di gal go so  \\nIt sweet to di belly  \\nSqueez...</td>\n",
       "    </tr>\n",
       "    <tr>\n",
       "      <th>20967</th>\n",
       "      <td>Vybz Kartel</td>\n",
       "      <td>Robbery</td>\n",
       "      <td>/v/vybz+kartel/robbery_20694151.html</td>\n",
       "      <td>This ain't serious,  \\nThis will make you deli...</td>\n",
       "    </tr>\n",
       "    <tr>\n",
       "      <th>48202</th>\n",
       "      <td>Pharrell Williams</td>\n",
       "      <td>Where's Yours At?</td>\n",
       "      <td>/p/pharrell+williams/wheres+yours+at_20676412....</td>\n",
       "      <td>(feat. Rohff)  \\n  \\n[Chorus - Pharrell]  \\nWh...</td>\n",
       "    </tr>\n",
       "    <tr>\n",
       "      <th>36527</th>\n",
       "      <td>Iggy Pop</td>\n",
       "      <td>Squarehead</td>\n",
       "      <td>/i/iggy+pop/squarehead_20066942.html</td>\n",
       "      <td>You can kick me out of a real good jive  \\nYou...</td>\n",
       "    </tr>\n",
       "    <tr>\n",
       "      <th>48511</th>\n",
       "      <td>Pitbull</td>\n",
       "      <td>Oye Baby</td>\n",
       "      <td>/p/pitbull/oye+baby_20915414.html</td>\n",
       "      <td>Nicola fasano, I hope I said that right  \\nMr....</td>\n",
       "    </tr>\n",
       "    <tr>\n",
       "      <th>10121</th>\n",
       "      <td>Kate Bush</td>\n",
       "      <td>Prologue</td>\n",
       "      <td>/k/kate+bush/prologue_20573223.html</td>\n",
       "      <td>We're gonna be laughing about this  \\nWe're go...</td>\n",
       "    </tr>\n",
       "  </tbody>\n",
       "</table>\n",
       "</div>"
      ],
      "text/plain": [
       "                  artist                 song  \\\n",
       "48526            Pitbull                 Toma   \n",
       "41660          Lil Wayne  How To Love Spanish   \n",
       "6246            Flo-Rida             Takeover   \n",
       "54729       Utada Hikaru               Hikari   \n",
       "55333        Vybz Kartel   Sweet To The Belly   \n",
       "20967        Vybz Kartel              Robbery   \n",
       "48202  Pharrell Williams    Where's Yours At?   \n",
       "36527           Iggy Pop           Squarehead   \n",
       "48511            Pitbull             Oye Baby   \n",
       "10121          Kate Bush             Prologue   \n",
       "\n",
       "                                                    link  \\\n",
       "48526                      /p/pitbull/toma_20358853.html   \n",
       "41660     /l/lil+wayne/how+to+love+spanish_20982146.html   \n",
       "6246                  /f/flo+rida/takeover_21030376.html   \n",
       "54729               /u/utada+hikaru/hikari_10162344.html   \n",
       "55333    /v/vybz+kartel/sweet+to+the+belly_20712743.html   \n",
       "20967               /v/vybz+kartel/robbery_20694151.html   \n",
       "48202  /p/pharrell+williams/wheres+yours+at_20676412....   \n",
       "36527               /i/iggy+pop/squarehead_20066942.html   \n",
       "48511                  /p/pitbull/oye+baby_20915414.html   \n",
       "10121                /k/kate+bush/prologue_20573223.html   \n",
       "\n",
       "                                                    text  \n",
       "48526  Oye Loca! Ven pa'ca! Come here!  \\nOye Loca! V...  \n",
       "41660  [Intro - lil wayne]  \\nCut the music up  \\nA l...  \n",
       "6246   [Flo rida] verse 1  \\nFlo Rida, Mizz Nina  \\nY...  \n",
       "54729  Donna toki datte  \\nTatta hitori de  \\nUnmei w...  \n",
       "55333  Di gal go so  \\nIt sweet to di belly  \\nSqueez...  \n",
       "20967  This ain't serious,  \\nThis will make you deli...  \n",
       "48202  (feat. Rohff)  \\n  \\n[Chorus - Pharrell]  \\nWh...  \n",
       "36527  You can kick me out of a real good jive  \\nYou...  \n",
       "48511  Nicola fasano, I hope I said that right  \\nMr....  \n",
       "10121  We're gonna be laughing about this  \\nWe're go...  "
      ]
     },
     "execution_count": 24,
     "metadata": {},
     "output_type": "execute_result"
    }
   ],
   "source": [
    "raw_df.loc[closest_indices_dict[\"Centroid 1\"]]"
   ]
  },
  {
   "cell_type": "code",
   "execution_count": 25,
   "metadata": {},
   "outputs": [
    {
     "data": {
      "text/html": [
       "<div>\n",
       "<style scoped>\n",
       "    .dataframe tbody tr th:only-of-type {\n",
       "        vertical-align: middle;\n",
       "    }\n",
       "\n",
       "    .dataframe tbody tr th {\n",
       "        vertical-align: top;\n",
       "    }\n",
       "\n",
       "    .dataframe thead th {\n",
       "        text-align: right;\n",
       "    }\n",
       "</style>\n",
       "<table border=\"1\" class=\"dataframe\">\n",
       "  <thead>\n",
       "    <tr style=\"text-align: right;\">\n",
       "      <th></th>\n",
       "      <th>artist</th>\n",
       "      <th>song</th>\n",
       "      <th>link</th>\n",
       "      <th>text</th>\n",
       "    </tr>\n",
       "  </thead>\n",
       "  <tbody>\n",
       "    <tr>\n",
       "      <th>37327</th>\n",
       "      <td>J Cole</td>\n",
       "      <td>The Autograph</td>\n",
       "      <td>/j/j+cole/the+autograph_20894859.html</td>\n",
       "      <td>[J. Cole]  \\nThey say anythings possible,  \\nY...</td>\n",
       "    </tr>\n",
       "    <tr>\n",
       "      <th>45718</th>\n",
       "      <td>Nicki Minaj</td>\n",
       "      <td>Barbie World Intro</td>\n",
       "      <td>/n/nicki+minaj/barbie+world+intro_20873938.html</td>\n",
       "      <td>[Chorus:]  \\nI wanna get to know you  \\nI real...</td>\n",
       "    </tr>\n",
       "    <tr>\n",
       "      <th>11541</th>\n",
       "      <td>Lil Wayne</td>\n",
       "      <td>Breakin' My Heart</td>\n",
       "      <td>/l/lil+wayne/breakin+my+heart_20663244.html</td>\n",
       "      <td>(feat. Little Brother)  \\n  \\nHey baby look he...</td>\n",
       "    </tr>\n",
       "    <tr>\n",
       "      <th>8848</th>\n",
       "      <td>J Cole</td>\n",
       "      <td>Back To The Topic</td>\n",
       "      <td>/j/j+cole/back+to+the+topic_20894721.html</td>\n",
       "      <td>Yea, n-gga  \\nI'm gon ahead and murder this sh...</td>\n",
       "    </tr>\n",
       "    <tr>\n",
       "      <th>40148</th>\n",
       "      <td>Kid Rock</td>\n",
       "      <td>I Am The Bullgod</td>\n",
       "      <td>/k/kid+rock/i+am+the+bullgod_20078137.html</td>\n",
       "      <td>[Chorus]  \\nI am the Bullgod  \\nI am free and ...</td>\n",
       "    </tr>\n",
       "    <tr>\n",
       "      <th>16474</th>\n",
       "      <td>Puff Daddy</td>\n",
       "      <td>I Want You Back '98 (Bad Boy Mix)</td>\n",
       "      <td>/p/puff+daddy/i+want+you+back+98+bad+boy+mix_2...</td>\n",
       "      <td>[Puff Intro]  \\nYeah  \\nThe old school  \\nTo t...</td>\n",
       "    </tr>\n",
       "    <tr>\n",
       "      <th>13038</th>\n",
       "      <td>Michael Jackson</td>\n",
       "      <td>I Want You Back '98</td>\n",
       "      <td>/m/michael+jackson/i+want+you+back+98_20722774...</td>\n",
       "      <td>[Puff Intro]  \\nYeah  \\nThe old school  \\nTo t...</td>\n",
       "    </tr>\n",
       "    <tr>\n",
       "      <th>15931</th>\n",
       "      <td>Pharrell Williams</td>\n",
       "      <td>How Does It Feel?</td>\n",
       "      <td>/p/pharrell+williams/how+does+it+feel_20480163...</td>\n",
       "      <td>Wooo wooo! [in background]  \\nYessur! aha  \\nN...</td>\n",
       "    </tr>\n",
       "    <tr>\n",
       "      <th>32245</th>\n",
       "      <td>Fabolous</td>\n",
       "      <td>Can't Let You Go</td>\n",
       "      <td>/f/fabolous/cant+let+you+go_20052278.html</td>\n",
       "      <td>Baby girl  \\nYou know my situation  \\nAnd some...</td>\n",
       "    </tr>\n",
       "    <tr>\n",
       "      <th>8886</th>\n",
       "      <td>J Cole</td>\n",
       "      <td>You Got It</td>\n",
       "      <td>/j/j+cole/you+got+it_20969036.html</td>\n",
       "      <td>[Refrain:  \\nHey one time, hey one time  \\nOne...</td>\n",
       "    </tr>\n",
       "  </tbody>\n",
       "</table>\n",
       "</div>"
      ],
      "text/plain": [
       "                  artist                               song  \\\n",
       "37327             J Cole                      The Autograph   \n",
       "45718        Nicki Minaj                 Barbie World Intro   \n",
       "11541          Lil Wayne                  Breakin' My Heart   \n",
       "8848              J Cole                  Back To The Topic   \n",
       "40148           Kid Rock                   I Am The Bullgod   \n",
       "16474         Puff Daddy  I Want You Back '98 (Bad Boy Mix)   \n",
       "13038    Michael Jackson                I Want You Back '98   \n",
       "15931  Pharrell Williams                  How Does It Feel?   \n",
       "32245           Fabolous                   Can't Let You Go   \n",
       "8886              J Cole                         You Got It   \n",
       "\n",
       "                                                    link  \\\n",
       "37327              /j/j+cole/the+autograph_20894859.html   \n",
       "45718    /n/nicki+minaj/barbie+world+intro_20873938.html   \n",
       "11541        /l/lil+wayne/breakin+my+heart_20663244.html   \n",
       "8848           /j/j+cole/back+to+the+topic_20894721.html   \n",
       "40148         /k/kid+rock/i+am+the+bullgod_20078137.html   \n",
       "16474  /p/puff+daddy/i+want+you+back+98+bad+boy+mix_2...   \n",
       "13038  /m/michael+jackson/i+want+you+back+98_20722774...   \n",
       "15931  /p/pharrell+williams/how+does+it+feel_20480163...   \n",
       "32245          /f/fabolous/cant+let+you+go_20052278.html   \n",
       "8886                  /j/j+cole/you+got+it_20969036.html   \n",
       "\n",
       "                                                    text  \n",
       "37327  [J. Cole]  \\nThey say anythings possible,  \\nY...  \n",
       "45718  [Chorus:]  \\nI wanna get to know you  \\nI real...  \n",
       "11541  (feat. Little Brother)  \\n  \\nHey baby look he...  \n",
       "8848   Yea, n-gga  \\nI'm gon ahead and murder this sh...  \n",
       "40148  [Chorus]  \\nI am the Bullgod  \\nI am free and ...  \n",
       "16474  [Puff Intro]  \\nYeah  \\nThe old school  \\nTo t...  \n",
       "13038  [Puff Intro]  \\nYeah  \\nThe old school  \\nTo t...  \n",
       "15931  Wooo wooo! [in background]  \\nYessur! aha  \\nN...  \n",
       "32245  Baby girl  \\nYou know my situation  \\nAnd some...  \n",
       "8886   [Refrain:  \\nHey one time, hey one time  \\nOne...  "
      ]
     },
     "execution_count": 25,
     "metadata": {},
     "output_type": "execute_result"
    }
   ],
   "source": [
    "raw_df.loc[closest_indices_dict[\"Centroid 2\"]]"
   ]
  },
  {
   "cell_type": "code",
   "execution_count": 26,
   "metadata": {},
   "outputs": [
    {
     "data": {
      "text/html": [
       "<div>\n",
       "<style scoped>\n",
       "    .dataframe tbody tr th:only-of-type {\n",
       "        vertical-align: middle;\n",
       "    }\n",
       "\n",
       "    .dataframe tbody tr th {\n",
       "        vertical-align: top;\n",
       "    }\n",
       "\n",
       "    .dataframe thead th {\n",
       "        text-align: right;\n",
       "    }\n",
       "</style>\n",
       "<table border=\"1\" class=\"dataframe\">\n",
       "  <thead>\n",
       "    <tr style=\"text-align: right;\">\n",
       "      <th></th>\n",
       "      <th>artist</th>\n",
       "      <th>song</th>\n",
       "      <th>link</th>\n",
       "      <th>text</th>\n",
       "    </tr>\n",
       "  </thead>\n",
       "  <tbody>\n",
       "    <tr>\n",
       "      <th>42933</th>\n",
       "      <td>Marillion</td>\n",
       "      <td>This Strange Engine</td>\n",
       "      <td>/m/marillion/this+strange+engine_20088964.html</td>\n",
       "      <td>There was a boy who came into this world  \\nAt...</td>\n",
       "    </tr>\n",
       "    <tr>\n",
       "      <th>1617</th>\n",
       "      <td>Bob Dylan</td>\n",
       "      <td>Floater</td>\n",
       "      <td>/b/bob+dylan/floater_10043295.html</td>\n",
       "      <td>Down over the window  \\nFrom the dazzling sunl...</td>\n",
       "    </tr>\n",
       "    <tr>\n",
       "      <th>40188</th>\n",
       "      <td>The Killers</td>\n",
       "      <td>A Dustland Fairytale</td>\n",
       "      <td>/k/killers/a+dustland+fairytale_20768319.html</td>\n",
       "      <td>Dustland fairytale beginning  \\nJust another w...</td>\n",
       "    </tr>\n",
       "    <tr>\n",
       "      <th>25806</th>\n",
       "      <td>Bob Dylan</td>\n",
       "      <td>Dreamin' Of You</td>\n",
       "      <td>/b/bob+dylan/dreamin+of+you_20750947.html</td>\n",
       "      <td>The light  \\nIn this place  \\nIs really bad  \\...</td>\n",
       "    </tr>\n",
       "    <tr>\n",
       "      <th>25865</th>\n",
       "      <td>Bob Dylan</td>\n",
       "      <td>Idiot Wind</td>\n",
       "      <td>/b/bob+dylan/idiot+wind_20021193.html</td>\n",
       "      <td>Someone's got it in for me, they're planting s...</td>\n",
       "    </tr>\n",
       "    <tr>\n",
       "      <th>10556</th>\n",
       "      <td>The Killers</td>\n",
       "      <td>Tranquilize</td>\n",
       "      <td>/k/killers/tranquilize_20656065.html</td>\n",
       "      <td>Time it tells living in my home town,  \\nWeddi...</td>\n",
       "    </tr>\n",
       "    <tr>\n",
       "      <th>15201</th>\n",
       "      <td>Out Of Eden</td>\n",
       "      <td>No Turning Back</td>\n",
       "      <td>/o/out+of+eden/no+turning+back_20835308.html</td>\n",
       "      <td>[Rap by Knowdaverbs:]  \\nI remember begging my...</td>\n",
       "    </tr>\n",
       "    <tr>\n",
       "      <th>25792</th>\n",
       "      <td>Bob Dylan</td>\n",
       "      <td>'Cross The Green Mountain</td>\n",
       "      <td>/b/bob+dylan/cross+the+green+mountain_20175524...</td>\n",
       "      <td>I cross the green mountain  \\nI sit by the str...</td>\n",
       "    </tr>\n",
       "    <tr>\n",
       "      <th>42893</th>\n",
       "      <td>Marillion</td>\n",
       "      <td>Living With The Big Lie</td>\n",
       "      <td>/m/marillion/living+with+the+big+lie_20088826....</td>\n",
       "      <td>It all began with the bright light  \\nThe brig...</td>\n",
       "    </tr>\n",
       "    <tr>\n",
       "      <th>7359</th>\n",
       "      <td>Hank Snow</td>\n",
       "      <td>Come The Morning</td>\n",
       "      <td>/h/hank+snow/come+the+morning_20170801.html</td>\n",
       "      <td>I sit upon the bed in my rented room and watch...</td>\n",
       "    </tr>\n",
       "  </tbody>\n",
       "</table>\n",
       "</div>"
      ],
      "text/plain": [
       "            artist                       song  \\\n",
       "42933    Marillion        This Strange Engine   \n",
       "1617     Bob Dylan                    Floater   \n",
       "40188  The Killers       A Dustland Fairytale   \n",
       "25806    Bob Dylan            Dreamin' Of You   \n",
       "25865    Bob Dylan                 Idiot Wind   \n",
       "10556  The Killers                Tranquilize   \n",
       "15201  Out Of Eden            No Turning Back   \n",
       "25792    Bob Dylan  'Cross The Green Mountain   \n",
       "42893    Marillion    Living With The Big Lie   \n",
       "7359     Hank Snow           Come The Morning   \n",
       "\n",
       "                                                    link  \\\n",
       "42933     /m/marillion/this+strange+engine_20088964.html   \n",
       "1617                  /b/bob+dylan/floater_10043295.html   \n",
       "40188      /k/killers/a+dustland+fairytale_20768319.html   \n",
       "25806          /b/bob+dylan/dreamin+of+you_20750947.html   \n",
       "25865              /b/bob+dylan/idiot+wind_20021193.html   \n",
       "10556               /k/killers/tranquilize_20656065.html   \n",
       "15201       /o/out+of+eden/no+turning+back_20835308.html   \n",
       "25792  /b/bob+dylan/cross+the+green+mountain_20175524...   \n",
       "42893  /m/marillion/living+with+the+big+lie_20088826....   \n",
       "7359         /h/hank+snow/come+the+morning_20170801.html   \n",
       "\n",
       "                                                    text  \n",
       "42933  There was a boy who came into this world  \\nAt...  \n",
       "1617   Down over the window  \\nFrom the dazzling sunl...  \n",
       "40188  Dustland fairytale beginning  \\nJust another w...  \n",
       "25806  The light  \\nIn this place  \\nIs really bad  \\...  \n",
       "25865  Someone's got it in for me, they're planting s...  \n",
       "10556  Time it tells living in my home town,  \\nWeddi...  \n",
       "15201  [Rap by Knowdaverbs:]  \\nI remember begging my...  \n",
       "25792  I cross the green mountain  \\nI sit by the str...  \n",
       "42893  It all began with the bright light  \\nThe brig...  \n",
       "7359   I sit upon the bed in my rented room and watch...  "
      ]
     },
     "execution_count": 26,
     "metadata": {},
     "output_type": "execute_result"
    }
   ],
   "source": [
    "raw_df.loc[closest_indices_dict[\"Centroid 3\"]]"
   ]
  },
  {
   "cell_type": "code",
   "execution_count": 27,
   "metadata": {},
   "outputs": [
    {
     "data": {
      "text/html": [
       "<div>\n",
       "<style scoped>\n",
       "    .dataframe tbody tr th:only-of-type {\n",
       "        vertical-align: middle;\n",
       "    }\n",
       "\n",
       "    .dataframe tbody tr th {\n",
       "        vertical-align: top;\n",
       "    }\n",
       "\n",
       "    .dataframe thead th {\n",
       "        text-align: right;\n",
       "    }\n",
       "</style>\n",
       "<table border=\"1\" class=\"dataframe\">\n",
       "  <thead>\n",
       "    <tr style=\"text-align: right;\">\n",
       "      <th></th>\n",
       "      <th>artist</th>\n",
       "      <th>song</th>\n",
       "      <th>link</th>\n",
       "      <th>text</th>\n",
       "    </tr>\n",
       "  </thead>\n",
       "  <tbody>\n",
       "    <tr>\n",
       "      <th>34941</th>\n",
       "      <td>Guns N' Roses</td>\n",
       "      <td>Locomotive</td>\n",
       "      <td>/g/guns+n+roses/locomotive_10139577.html</td>\n",
       "      <td>Gonna find a way to cure this loneliness  \\nYe...</td>\n",
       "    </tr>\n",
       "    <tr>\n",
       "      <th>34925</th>\n",
       "      <td>Guns N' Roses</td>\n",
       "      <td>Coma</td>\n",
       "      <td>/g/guns+n+roses/coma_10139584.html</td>\n",
       "      <td>See you've caught me in a coma  \\nAnd I don't ...</td>\n",
       "    </tr>\n",
       "    <tr>\n",
       "      <th>4572</th>\n",
       "      <td>Dream Theater</td>\n",
       "      <td>Space-Dye Vest</td>\n",
       "      <td>/d/dream+theater/space+dye+vest_20043326.html</td>\n",
       "      <td>Falling through pages of Martens on angels  \\n...</td>\n",
       "    </tr>\n",
       "    <tr>\n",
       "      <th>54674</th>\n",
       "      <td>Usher</td>\n",
       "      <td>Here I Stand</td>\n",
       "      <td>/u/usher/here+i+stand_20741871.html</td>\n",
       "      <td>[Verse 1]  \\nI'm hoping that this ain't too ha...</td>\n",
       "    </tr>\n",
       "    <tr>\n",
       "      <th>26314</th>\n",
       "      <td>Bonnie Raitt</td>\n",
       "      <td>Steal Your Heart Away</td>\n",
       "      <td>/b/bonnie+raitt/steal+your+heart+away_20022605...</td>\n",
       "      <td>I know you got a different picture in mind  \\n...</td>\n",
       "    </tr>\n",
       "    <tr>\n",
       "      <th>10521</th>\n",
       "      <td>Kid Rock</td>\n",
       "      <td>My Oedipus Complex</td>\n",
       "      <td>/k/kid+rock/my+oedipus+complex_20078203.html</td>\n",
       "      <td>I need somebody won't you help me  \\nI need so...</td>\n",
       "    </tr>\n",
       "    <tr>\n",
       "      <th>31403</th>\n",
       "      <td>Eminem</td>\n",
       "      <td>Her Song</td>\n",
       "      <td>/e/eminem/her+song_21093870.html</td>\n",
       "      <td>[Chorus]  \\nWrap me in a bolt of lightning  \\n...</td>\n",
       "    </tr>\n",
       "    <tr>\n",
       "      <th>51834</th>\n",
       "      <td>Snoop Dogg</td>\n",
       "      <td>I Believe In You</td>\n",
       "      <td>/s/snoop+dogg/i+believe+in+you_20127137.html</td>\n",
       "      <td>[Latoiya Williams]  \\nI'm so glad that you bel...</td>\n",
       "    </tr>\n",
       "    <tr>\n",
       "      <th>4542</th>\n",
       "      <td>Drake</td>\n",
       "      <td>The Resistance</td>\n",
       "      <td>/d/drake/the+resistance_20884830.html</td>\n",
       "      <td>Yesterday when we were getting high, you were ...</td>\n",
       "    </tr>\n",
       "    <tr>\n",
       "      <th>14067</th>\n",
       "      <td>Nicki Minaj</td>\n",
       "      <td>All Things Go</td>\n",
       "      <td>/n/nicki+minaj/all+things+go_21091474.html</td>\n",
       "      <td>[Verse 1]  \\nYo, I had to reinvent, I put the ...</td>\n",
       "    </tr>\n",
       "  </tbody>\n",
       "</table>\n",
       "</div>"
      ],
      "text/plain": [
       "              artist                   song  \\\n",
       "34941  Guns N' Roses             Locomotive   \n",
       "34925  Guns N' Roses                   Coma   \n",
       "4572   Dream Theater         Space-Dye Vest   \n",
       "54674          Usher           Here I Stand   \n",
       "26314   Bonnie Raitt  Steal Your Heart Away   \n",
       "10521       Kid Rock     My Oedipus Complex   \n",
       "31403         Eminem               Her Song   \n",
       "51834     Snoop Dogg       I Believe In You   \n",
       "4542           Drake         The Resistance   \n",
       "14067    Nicki Minaj          All Things Go   \n",
       "\n",
       "                                                    link  \\\n",
       "34941           /g/guns+n+roses/locomotive_10139577.html   \n",
       "34925                 /g/guns+n+roses/coma_10139584.html   \n",
       "4572       /d/dream+theater/space+dye+vest_20043326.html   \n",
       "54674                /u/usher/here+i+stand_20741871.html   \n",
       "26314  /b/bonnie+raitt/steal+your+heart+away_20022605...   \n",
       "10521       /k/kid+rock/my+oedipus+complex_20078203.html   \n",
       "31403                   /e/eminem/her+song_21093870.html   \n",
       "51834       /s/snoop+dogg/i+believe+in+you_20127137.html   \n",
       "4542               /d/drake/the+resistance_20884830.html   \n",
       "14067         /n/nicki+minaj/all+things+go_21091474.html   \n",
       "\n",
       "                                                    text  \n",
       "34941  Gonna find a way to cure this loneliness  \\nYe...  \n",
       "34925  See you've caught me in a coma  \\nAnd I don't ...  \n",
       "4572   Falling through pages of Martens on angels  \\n...  \n",
       "54674  [Verse 1]  \\nI'm hoping that this ain't too ha...  \n",
       "26314  I know you got a different picture in mind  \\n...  \n",
       "10521  I need somebody won't you help me  \\nI need so...  \n",
       "31403  [Chorus]  \\nWrap me in a bolt of lightning  \\n...  \n",
       "51834  [Latoiya Williams]  \\nI'm so glad that you bel...  \n",
       "4542   Yesterday when we were getting high, you were ...  \n",
       "14067  [Verse 1]  \\nYo, I had to reinvent, I put the ...  "
      ]
     },
     "execution_count": 27,
     "metadata": {},
     "output_type": "execute_result"
    }
   ],
   "source": [
    "raw_df.loc[closest_indices_dict[\"Centroid 4\"]]"
   ]
  },
  {
   "cell_type": "code",
   "execution_count": null,
   "metadata": {},
   "outputs": [],
   "source": []
  },
  {
   "cell_type": "code",
   "execution_count": 28,
   "metadata": {},
   "outputs": [],
   "source": [
    "def vectorise(lyrics: str) -> np.array:\n",
    "    tokens = tokenize(lyrics)\n",
    "    lyric_vector = np.zeros(300)\n",
    "    for token in tokens:\n",
    "        try:\n",
    "            lyric_vector += wv_from_bin.get_vector(token.lower())\n",
    "        except:\n",
    "            continue\n",
    "    return lyric_vector / np.linalg.norm(lyric_vector)\n",
    "    "
   ]
  },
  {
   "cell_type": "code",
   "execution_count": 29,
   "metadata": {},
   "outputs": [
    {
     "data": {
      "text/plain": [
       "{0, 1, 2, 3, 4}"
      ]
     },
     "execution_count": 29,
     "metadata": {},
     "output_type": "execute_result"
    }
   ],
   "source": [
    "set(kmeans.labels_)"
   ]
  },
  {
   "cell_type": "code",
   "execution_count": 30,
   "metadata": {},
   "outputs": [
    {
     "data": {
      "text/html": [
       "<div>\n",
       "<style scoped>\n",
       "    .dataframe tbody tr th:only-of-type {\n",
       "        vertical-align: middle;\n",
       "    }\n",
       "\n",
       "    .dataframe tbody tr th {\n",
       "        vertical-align: top;\n",
       "    }\n",
       "\n",
       "    .dataframe thead th {\n",
       "        text-align: right;\n",
       "    }\n",
       "</style>\n",
       "<table border=\"1\" class=\"dataframe\">\n",
       "  <thead>\n",
       "    <tr style=\"text-align: right;\">\n",
       "      <th></th>\n",
       "      <th>artist</th>\n",
       "      <th>song</th>\n",
       "      <th>link</th>\n",
       "      <th>text</th>\n",
       "    </tr>\n",
       "  </thead>\n",
       "  <tbody>\n",
       "    <tr>\n",
       "      <th>13016</th>\n",
       "      <td>Michael Jackson</td>\n",
       "      <td>Beat It</td>\n",
       "      <td>/m/michael+jackson/beat+it_20092702.html</td>\n",
       "      <td>They told him don't you ever come around here ...</td>\n",
       "    </tr>\n",
       "    <tr>\n",
       "      <th>32449</th>\n",
       "      <td>Fall Out Boy</td>\n",
       "      <td>Beat It</td>\n",
       "      <td>/f/fall+out+boy/beat+it_20726334.html</td>\n",
       "      <td>They told him don't you ever come around here ...</td>\n",
       "    </tr>\n",
       "  </tbody>\n",
       "</table>\n",
       "</div>"
      ],
      "text/plain": [
       "                artist     song                                      link  \\\n",
       "13016  Michael Jackson  Beat It  /m/michael+jackson/beat+it_20092702.html   \n",
       "32449     Fall Out Boy  Beat It     /f/fall+out+boy/beat+it_20726334.html   \n",
       "\n",
       "                                                    text  \n",
       "13016  They told him don't you ever come around here ...  \n",
       "32449  They told him don't you ever come around here ...  "
      ]
     },
     "execution_count": 30,
     "metadata": {},
     "output_type": "execute_result"
    }
   ],
   "source": [
    "raw_df.loc[raw_df[\"song\"] == \"Beat It\"]"
   ]
  },
  {
   "cell_type": "code",
   "execution_count": 34,
   "metadata": {},
   "outputs": [
    {
     "data": {
      "text/plain": [
       "array([2])"
      ]
     },
     "execution_count": 34,
     "metadata": {},
     "output_type": "execute_result"
    }
   ],
   "source": [
    "song = \"\"\"f you wanna run away with me, I know a galaxy\n",
    "And I can take you for a ride\n",
    "I had a premonition that we fell into a rhythm\n",
    "Where the music don't stop for life\n",
    "Glitter in the sky, glitter in my eyes\n",
    "Shining just the way I like\n",
    "If you're feeling like you need a little bit of company\n",
    "You met me at the perfect time\n",
    "You want me, I want you, baby\n",
    "My sugarboo, I'm levitating\n",
    "The Milky Way, we're renegading\n",
    "Yeah, yeah, yeah, yeah, yeah\n",
    "I got you, moonlight, you're my starlight\n",
    "I need you all night, come on, dance with me\n",
    "I'm levitating\n",
    "You, moonlight, you're my starlight (you're the moonlight)\n",
    "I need you all night, come on, dance with me\n",
    "I'm levitating\n",
    "I believe that you're for me, I feel it in our energy\n",
    "I see us written in the stars\n",
    "We can go wherever, so let's do it now or never, baby\n",
    "Nothing's ever, ever too far\n",
    "Glitter in the sky, glitter in our eyes\n",
    "Shining just the way we are\n",
    "I feel like we're forever, every time we get together\n",
    "But whatever, let's get lost on Mars\n",
    "You want me, I want you, baby\n",
    "My sugarboo, I'm levitating\n",
    "The Milky Way, we're renegading\n",
    "Yeah, yeah, yeah, yeah, yeah\n",
    "I got you, moonlight, you're my starlight\n",
    "I need you all night, come on, dance with me\n",
    "I'm levitating\n",
    "You, moonlight, you're my starlight (you're the moonlight)\n",
    "I need you all night, come on, dance with me\n",
    "I'm levitating (whoo)\n",
    "You can fly away with me tonight\n",
    "You can fly away with me tonight\n",
    "Baby, let me take you for a ride\n",
    "Yeah, yeah, yeah, yeah, yeah\n",
    "I'm levitating (whoo)\n",
    "You can fly away with me tonight\n",
    "You can fly away with me tonight\n",
    "Baby, let me take you for a ride\n",
    "Yeah, yeah, yeah, yeah, yeah (whoo)\n",
    "My love is like a rocket, watch it blast off\n",
    "And I'm feeling so electric, dance my arse off\n",
    "And even if I wanted to, I can't stop\n",
    "Yeah, yeah, yeah, yeah, yeah\n",
    "My love is like a rocket, watch it blast off\n",
    "And I'm feeling so electric, dance my arse off\n",
    "And even if I wanted to, I can't stop\n",
    "Yeah, yeah, yeah, yeah, yeah\n",
    "You want me, I want you, baby\n",
    "My sugarboo, I'm levitating\n",
    "The Milky Way, we're renegading\n",
    "I got you (yeah), moonlight, you're my starlight\n",
    "I need you all night (all night), come on, dance with me\n",
    "I'm levitating (whoo)\n",
    "You can fly away with me tonight (tonight)\n",
    "You can fly away with me tonight\n",
    "Baby, let me take you for a ride\n",
    "Yeah, yeah, yeah, yeah, yeah (take you for a ride)\n",
    "I'm levitating (whoo)\n",
    "You can fly away with me tonight (tonight)\n",
    "You can fly away with me tonight\n",
    "Baby, let me take you for a ride\n",
    "Yeah, yeah, yeah, yeah, yeah (let me take you for a ride)\n",
    "I got you, moonlight, you're my starlight (you are my starlight)\n",
    "I need you all night, come on, dance with me (come on, dance with me, baby)\n",
    "I'm levitating\n",
    "You, moonlight, you're my starlight (you're the moonlight)\n",
    "I need you all night, come on, dance with me\n",
    "I'm levitating\"\"\"\n",
    "kmeans.predict([vectorise(song)])"
   ]
  },
  {
   "cell_type": "code",
   "execution_count": 32,
   "metadata": {},
   "outputs": [],
   "source": [
    "def predict(lyrics: str) -> str:\n",
    "    return kmeans.predict([vectorise(lyrics)])"
   ]
  },
  {
   "cell_type": "code",
   "execution_count": 40,
   "metadata": {},
   "outputs": [
    {
     "name": "stderr",
     "output_type": "stream",
     "text": [
      "c:\\Users\\shivs\\anaconda3\\envs\\chess-engine\\lib\\site-packages\\gradio\\utils.py:843: UserWarning: Expected 1 arguments for function <function predict at 0x0000018A1BAF1EA0>, received 2.\n",
      "  warnings.warn(\n",
      "c:\\Users\\shivs\\anaconda3\\envs\\chess-engine\\lib\\site-packages\\gradio\\utils.py:851: UserWarning: Expected maximum 1 arguments for function <function predict at 0x0000018A1BAF1EA0>, received 2.\n",
      "  warnings.warn(\n"
     ]
    },
    {
     "name": "stdout",
     "output_type": "stream",
     "text": [
      "Running on local URL:  http://127.0.0.1:7862\n",
      "\n",
      "To create a public link, set `share=True` in `launch()`.\n"
     ]
    },
    {
     "data": {
      "text/html": [
       "<div><iframe src=\"http://127.0.0.1:7862/\" width=\"100%\" height=\"500\" allow=\"autoplay; camera; microphone; clipboard-read; clipboard-write;\" frameborder=\"0\" allowfullscreen></iframe></div>"
      ],
      "text/plain": [
       "<IPython.core.display.HTML object>"
      ]
     },
     "metadata": {},
     "output_type": "display_data"
    },
    {
     "data": {
      "text/plain": []
     },
     "execution_count": 40,
     "metadata": {},
     "output_type": "execute_result"
    }
   ],
   "source": [
    "import gradio as gr\n",
    "# Create Gradio interface with dropdown menu\n",
    "inputs = gr.Textbox(label=\"Input Lyrics\")\n",
    "model_dropdown = gr.Dropdown(choices=[\"KMEANS\", \"DBSCAN\"], label=\"Select Model\")\n",
    "outputs = gr.Textbox(label=\"Sentiment/Mood\")\n",
    "interface = gr.Interface(fn=predict, inputs=[inputs, model_dropdown], outputs=outputs)\n",
    "interface.launch()"
   ]
  },
  {
   "cell_type": "code",
   "execution_count": null,
   "metadata": {},
   "outputs": [],
   "source": []
  }
 ],
 "metadata": {
  "kernelspec": {
   "display_name": "chess-engine",
   "language": "python",
   "name": "python3"
  },
  "language_info": {
   "codemirror_mode": {
    "name": "ipython",
    "version": 3
   },
   "file_extension": ".py",
   "mimetype": "text/x-python",
   "name": "python",
   "nbconvert_exporter": "python",
   "pygments_lexer": "ipython3",
   "version": "3.10.12"
  }
 },
 "nbformat": 4,
 "nbformat_minor": 2
}
