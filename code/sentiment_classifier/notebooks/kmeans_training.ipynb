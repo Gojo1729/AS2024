{
 "cells": [
  {
   "cell_type": "code",
   "execution_count": 316,
   "metadata": {},
   "outputs": [
    {
     "name": "stdout",
     "output_type": "stream",
     "text": [
      "The autoreload extension is already loaded. To reload it, use:\n",
      "  %reload_ext autoreload\n",
      "The tensorboard extension is already loaded. To reload it, use:\n",
      "  %reload_ext tensorboard\n"
     ]
    }
   ],
   "source": [
    "%load_ext autoreload\n",
    "%load_ext tensorboard\n",
    "%autoreload 2"
   ]
  },
  {
   "cell_type": "code",
   "execution_count": 317,
   "metadata": {},
   "outputs": [],
   "source": [
    "import pandas as pd\n",
    "import numpy as np\n",
    "from tqdm import tqdm\n",
    "import nltk # just for tokenization\n",
    "from nltk.corpus import stopwords\n",
    "from nltk.stem import WordNetLemmatizer\n",
    "import random\n",
    "import gradio \n",
    "import string\n",
    "import tensorflow as tf\n",
    "import datetime\n",
    "\n",
    "random.seed(42)"
   ]
  },
  {
   "cell_type": "code",
   "execution_count": 318,
   "metadata": {},
   "outputs": [
    {
     "ename": "KeyboardInterrupt",
     "evalue": "",
     "output_type": "error",
     "traceback": [
      "\u001b[1;31m---------------------------------------------------------------------------\u001b[0m",
      "\u001b[1;31mKeyboardInterrupt\u001b[0m                         Traceback (most recent call last)",
      "Cell \u001b[1;32mIn[318], line 10\u001b[0m\n\u001b[0;32m      8\u001b[0m     \u001b[38;5;28mprint\u001b[39m(\u001b[38;5;124m\"\u001b[39m\u001b[38;5;124mLoaded vocab size \u001b[39m\u001b[38;5;132;01m%i\u001b[39;00m\u001b[38;5;124m\"\u001b[39m \u001b[38;5;241m%\u001b[39m \u001b[38;5;28mlen\u001b[39m(\u001b[38;5;28mlist\u001b[39m(wv_from_bin\u001b[38;5;241m.\u001b[39mindex_to_key)))\n\u001b[0;32m      9\u001b[0m     \u001b[38;5;28;01mreturn\u001b[39;00m wv_from_bin\n\u001b[1;32m---> 10\u001b[0m wv_from_bin \u001b[38;5;241m=\u001b[39m \u001b[43mload_embedding_model\u001b[49m\u001b[43m(\u001b[49m\u001b[43m)\u001b[49m\n\u001b[0;32m     11\u001b[0m \u001b[38;5;66;03m# wv_from_bin = load_embedding_model()\u001b[39;00m\n",
      "Cell \u001b[1;32mIn[318], line 7\u001b[0m, in \u001b[0;36mload_embedding_model\u001b[1;34m()\u001b[0m\n\u001b[0;32m      2\u001b[0m \u001b[38;5;250m\u001b[39m\u001b[38;5;124;03m\"\"\" Load GloVe Vectors\u001b[39;00m\n\u001b[0;32m      3\u001b[0m \u001b[38;5;124;03m    Return:\u001b[39;00m\n\u001b[0;32m      4\u001b[0m \u001b[38;5;124;03m        wv_from_bin: All 400000 embeddings, each lengh 200\u001b[39;00m\n\u001b[0;32m      5\u001b[0m \u001b[38;5;124;03m\"\"\"\u001b[39;00m\n\u001b[0;32m      6\u001b[0m \u001b[38;5;28;01mimport\u001b[39;00m \u001b[38;5;21;01mgensim\u001b[39;00m\u001b[38;5;21;01m.\u001b[39;00m\u001b[38;5;21;01mdownloader\u001b[39;00m \u001b[38;5;28;01mas\u001b[39;00m \u001b[38;5;21;01mapi\u001b[39;00m\n\u001b[1;32m----> 7\u001b[0m wv_from_bin \u001b[38;5;241m=\u001b[39m \u001b[43mapi\u001b[49m\u001b[38;5;241;43m.\u001b[39;49m\u001b[43mload\u001b[49m\u001b[43m(\u001b[49m\u001b[38;5;124;43m\"\u001b[39;49m\u001b[38;5;124;43mword2vec-google-news-300\u001b[39;49m\u001b[38;5;124;43m\"\u001b[39;49m\u001b[43m)\u001b[49m\n\u001b[0;32m      8\u001b[0m \u001b[38;5;28mprint\u001b[39m(\u001b[38;5;124m\"\u001b[39m\u001b[38;5;124mLoaded vocab size \u001b[39m\u001b[38;5;132;01m%i\u001b[39;00m\u001b[38;5;124m\"\u001b[39m \u001b[38;5;241m%\u001b[39m \u001b[38;5;28mlen\u001b[39m(\u001b[38;5;28mlist\u001b[39m(wv_from_bin\u001b[38;5;241m.\u001b[39mindex_to_key)))\n\u001b[0;32m      9\u001b[0m \u001b[38;5;28;01mreturn\u001b[39;00m wv_from_bin\n",
      "File \u001b[1;32mc:\\Users\\shivs\\anaconda3\\envs\\chess-engine\\lib\\site-packages\\gensim\\downloader.py:503\u001b[0m, in \u001b[0;36mload\u001b[1;34m(name, return_path)\u001b[0m\n\u001b[0;32m    501\u001b[0m sys\u001b[38;5;241m.\u001b[39mpath\u001b[38;5;241m.\u001b[39minsert(\u001b[38;5;241m0\u001b[39m, BASE_DIR)\n\u001b[0;32m    502\u001b[0m module \u001b[38;5;241m=\u001b[39m \u001b[38;5;28m__import__\u001b[39m(name)\n\u001b[1;32m--> 503\u001b[0m \u001b[38;5;28;01mreturn\u001b[39;00m \u001b[43mmodule\u001b[49m\u001b[38;5;241;43m.\u001b[39;49m\u001b[43mload_data\u001b[49m\u001b[43m(\u001b[49m\u001b[43m)\u001b[49m\n",
      "File \u001b[1;32m~/gensim-data\\word2vec-google-news-300\\__init__.py:8\u001b[0m, in \u001b[0;36mload_data\u001b[1;34m()\u001b[0m\n\u001b[0;32m      6\u001b[0m \u001b[38;5;28;01mdef\u001b[39;00m \u001b[38;5;21mload_data\u001b[39m():\n\u001b[0;32m      7\u001b[0m     path \u001b[38;5;241m=\u001b[39m os\u001b[38;5;241m.\u001b[39mpath\u001b[38;5;241m.\u001b[39mjoin(base_dir, \u001b[38;5;124m'\u001b[39m\u001b[38;5;124mword2vec-google-news-300\u001b[39m\u001b[38;5;124m'\u001b[39m, \u001b[38;5;124m\"\u001b[39m\u001b[38;5;124mword2vec-google-news-300.gz\u001b[39m\u001b[38;5;124m\"\u001b[39m)\n\u001b[1;32m----> 8\u001b[0m     model \u001b[38;5;241m=\u001b[39m \u001b[43mKeyedVectors\u001b[49m\u001b[38;5;241;43m.\u001b[39;49m\u001b[43mload_word2vec_format\u001b[49m\u001b[43m(\u001b[49m\u001b[43mpath\u001b[49m\u001b[43m,\u001b[49m\u001b[43m \u001b[49m\u001b[43mbinary\u001b[49m\u001b[38;5;241;43m=\u001b[39;49m\u001b[38;5;28;43;01mTrue\u001b[39;49;00m\u001b[43m)\u001b[49m\n\u001b[0;32m      9\u001b[0m     \u001b[38;5;28;01mreturn\u001b[39;00m model\n",
      "File \u001b[1;32mc:\\Users\\shivs\\anaconda3\\envs\\chess-engine\\lib\\site-packages\\gensim\\models\\keyedvectors.py:1719\u001b[0m, in \u001b[0;36mKeyedVectors.load_word2vec_format\u001b[1;34m(cls, fname, fvocab, binary, encoding, unicode_errors, limit, datatype, no_header)\u001b[0m\n\u001b[0;32m   1672\u001b[0m \u001b[38;5;129m@classmethod\u001b[39m\n\u001b[0;32m   1673\u001b[0m \u001b[38;5;28;01mdef\u001b[39;00m \u001b[38;5;21mload_word2vec_format\u001b[39m(\n\u001b[0;32m   1674\u001b[0m         \u001b[38;5;28mcls\u001b[39m, fname, fvocab\u001b[38;5;241m=\u001b[39m\u001b[38;5;28;01mNone\u001b[39;00m, binary\u001b[38;5;241m=\u001b[39m\u001b[38;5;28;01mFalse\u001b[39;00m, encoding\u001b[38;5;241m=\u001b[39m\u001b[38;5;124m'\u001b[39m\u001b[38;5;124mutf8\u001b[39m\u001b[38;5;124m'\u001b[39m, unicode_errors\u001b[38;5;241m=\u001b[39m\u001b[38;5;124m'\u001b[39m\u001b[38;5;124mstrict\u001b[39m\u001b[38;5;124m'\u001b[39m,\n\u001b[0;32m   1675\u001b[0m         limit\u001b[38;5;241m=\u001b[39m\u001b[38;5;28;01mNone\u001b[39;00m, datatype\u001b[38;5;241m=\u001b[39mREAL, no_header\u001b[38;5;241m=\u001b[39m\u001b[38;5;28;01mFalse\u001b[39;00m,\n\u001b[0;32m   1676\u001b[0m     ):\n\u001b[0;32m   1677\u001b[0m \u001b[38;5;250m    \u001b[39m\u001b[38;5;124;03m\"\"\"Load KeyedVectors from a file produced by the original C word2vec-tool format.\u001b[39;00m\n\u001b[0;32m   1678\u001b[0m \n\u001b[0;32m   1679\u001b[0m \u001b[38;5;124;03m    Warnings\u001b[39;00m\n\u001b[1;32m   (...)\u001b[0m\n\u001b[0;32m   1717\u001b[0m \n\u001b[0;32m   1718\u001b[0m \u001b[38;5;124;03m    \"\"\"\u001b[39;00m\n\u001b[1;32m-> 1719\u001b[0m     \u001b[38;5;28;01mreturn\u001b[39;00m \u001b[43m_load_word2vec_format\u001b[49m\u001b[43m(\u001b[49m\n\u001b[0;32m   1720\u001b[0m \u001b[43m        \u001b[49m\u001b[38;5;28;43mcls\u001b[39;49m\u001b[43m,\u001b[49m\u001b[43m \u001b[49m\u001b[43mfname\u001b[49m\u001b[43m,\u001b[49m\u001b[43m \u001b[49m\u001b[43mfvocab\u001b[49m\u001b[38;5;241;43m=\u001b[39;49m\u001b[43mfvocab\u001b[49m\u001b[43m,\u001b[49m\u001b[43m \u001b[49m\u001b[43mbinary\u001b[49m\u001b[38;5;241;43m=\u001b[39;49m\u001b[43mbinary\u001b[49m\u001b[43m,\u001b[49m\u001b[43m \u001b[49m\u001b[43mencoding\u001b[49m\u001b[38;5;241;43m=\u001b[39;49m\u001b[43mencoding\u001b[49m\u001b[43m,\u001b[49m\u001b[43m \u001b[49m\u001b[43municode_errors\u001b[49m\u001b[38;5;241;43m=\u001b[39;49m\u001b[43municode_errors\u001b[49m\u001b[43m,\u001b[49m\n\u001b[0;32m   1721\u001b[0m \u001b[43m        \u001b[49m\u001b[43mlimit\u001b[49m\u001b[38;5;241;43m=\u001b[39;49m\u001b[43mlimit\u001b[49m\u001b[43m,\u001b[49m\u001b[43m \u001b[49m\u001b[43mdatatype\u001b[49m\u001b[38;5;241;43m=\u001b[39;49m\u001b[43mdatatype\u001b[49m\u001b[43m,\u001b[49m\u001b[43m \u001b[49m\u001b[43mno_header\u001b[49m\u001b[38;5;241;43m=\u001b[39;49m\u001b[43mno_header\u001b[49m\u001b[43m,\u001b[49m\n\u001b[0;32m   1722\u001b[0m \u001b[43m    \u001b[49m\u001b[43m)\u001b[49m\n",
      "File \u001b[1;32mc:\\Users\\shivs\\anaconda3\\envs\\chess-engine\\lib\\site-packages\\gensim\\models\\keyedvectors.py:2065\u001b[0m, in \u001b[0;36m_load_word2vec_format\u001b[1;34m(cls, fname, fvocab, binary, encoding, unicode_errors, limit, datatype, no_header, binary_chunk_size)\u001b[0m\n\u001b[0;32m   2062\u001b[0m kv \u001b[38;5;241m=\u001b[39m \u001b[38;5;28mcls\u001b[39m(vector_size, vocab_size, dtype\u001b[38;5;241m=\u001b[39mdatatype)\n\u001b[0;32m   2064\u001b[0m \u001b[38;5;28;01mif\u001b[39;00m binary:\n\u001b[1;32m-> 2065\u001b[0m     \u001b[43m_word2vec_read_binary\u001b[49m\u001b[43m(\u001b[49m\n\u001b[0;32m   2066\u001b[0m \u001b[43m        \u001b[49m\u001b[43mfin\u001b[49m\u001b[43m,\u001b[49m\u001b[43m \u001b[49m\u001b[43mkv\u001b[49m\u001b[43m,\u001b[49m\u001b[43m \u001b[49m\u001b[43mcounts\u001b[49m\u001b[43m,\u001b[49m\u001b[43m \u001b[49m\u001b[43mvocab_size\u001b[49m\u001b[43m,\u001b[49m\u001b[43m \u001b[49m\u001b[43mvector_size\u001b[49m\u001b[43m,\u001b[49m\u001b[43m \u001b[49m\u001b[43mdatatype\u001b[49m\u001b[43m,\u001b[49m\u001b[43m \u001b[49m\u001b[43municode_errors\u001b[49m\u001b[43m,\u001b[49m\u001b[43m \u001b[49m\u001b[43mbinary_chunk_size\u001b[49m\u001b[43m,\u001b[49m\u001b[43m \u001b[49m\u001b[43mencoding\u001b[49m\n\u001b[0;32m   2067\u001b[0m \u001b[43m    \u001b[49m\u001b[43m)\u001b[49m\n\u001b[0;32m   2068\u001b[0m \u001b[38;5;28;01melse\u001b[39;00m:\n\u001b[0;32m   2069\u001b[0m     _word2vec_read_text(fin, kv, counts, vocab_size, vector_size, datatype, unicode_errors, encoding)\n",
      "File \u001b[1;32mc:\\Users\\shivs\\anaconda3\\envs\\chess-engine\\lib\\site-packages\\gensim\\models\\keyedvectors.py:1958\u001b[0m, in \u001b[0;36m_word2vec_read_binary\u001b[1;34m(fin, kv, counts, vocab_size, vector_size, datatype, unicode_errors, binary_chunk_size, encoding)\u001b[0m\n\u001b[0;32m   1955\u001b[0m tot_processed_words \u001b[38;5;241m=\u001b[39m \u001b[38;5;241m0\u001b[39m\n\u001b[0;32m   1957\u001b[0m \u001b[38;5;28;01mwhile\u001b[39;00m tot_processed_words \u001b[38;5;241m<\u001b[39m vocab_size:\n\u001b[1;32m-> 1958\u001b[0m     new_chunk \u001b[38;5;241m=\u001b[39m \u001b[43mfin\u001b[49m\u001b[38;5;241;43m.\u001b[39;49m\u001b[43mread\u001b[49m\u001b[43m(\u001b[49m\u001b[43mbinary_chunk_size\u001b[49m\u001b[43m)\u001b[49m\n\u001b[0;32m   1959\u001b[0m     chunk \u001b[38;5;241m+\u001b[39m\u001b[38;5;241m=\u001b[39m new_chunk\n\u001b[0;32m   1960\u001b[0m     processed_words, chunk \u001b[38;5;241m=\u001b[39m _add_bytes_to_kv(\n\u001b[0;32m   1961\u001b[0m         kv, counts, chunk, vocab_size, vector_size, datatype, unicode_errors, encoding)\n",
      "File \u001b[1;32mc:\\Users\\shivs\\anaconda3\\envs\\chess-engine\\lib\\gzip.py:301\u001b[0m, in \u001b[0;36mGzipFile.read\u001b[1;34m(self, size)\u001b[0m\n\u001b[0;32m    299\u001b[0m     \u001b[38;5;28;01mimport\u001b[39;00m \u001b[38;5;21;01merrno\u001b[39;00m\n\u001b[0;32m    300\u001b[0m     \u001b[38;5;28;01mraise\u001b[39;00m \u001b[38;5;167;01mOSError\u001b[39;00m(errno\u001b[38;5;241m.\u001b[39mEBADF, \u001b[38;5;124m\"\u001b[39m\u001b[38;5;124mread() on write-only GzipFile object\u001b[39m\u001b[38;5;124m\"\u001b[39m)\n\u001b[1;32m--> 301\u001b[0m \u001b[38;5;28;01mreturn\u001b[39;00m \u001b[38;5;28;43mself\u001b[39;49m\u001b[38;5;241;43m.\u001b[39;49m\u001b[43m_buffer\u001b[49m\u001b[38;5;241;43m.\u001b[39;49m\u001b[43mread\u001b[49m\u001b[43m(\u001b[49m\u001b[43msize\u001b[49m\u001b[43m)\u001b[49m\n",
      "File \u001b[1;32mc:\\Users\\shivs\\anaconda3\\envs\\chess-engine\\lib\\_compression.py:68\u001b[0m, in \u001b[0;36mDecompressReader.readinto\u001b[1;34m(self, b)\u001b[0m\n\u001b[0;32m     66\u001b[0m \u001b[38;5;28;01mdef\u001b[39;00m \u001b[38;5;21mreadinto\u001b[39m(\u001b[38;5;28mself\u001b[39m, b):\n\u001b[0;32m     67\u001b[0m     \u001b[38;5;28;01mwith\u001b[39;00m \u001b[38;5;28mmemoryview\u001b[39m(b) \u001b[38;5;28;01mas\u001b[39;00m view, view\u001b[38;5;241m.\u001b[39mcast(\u001b[38;5;124m\"\u001b[39m\u001b[38;5;124mB\u001b[39m\u001b[38;5;124m\"\u001b[39m) \u001b[38;5;28;01mas\u001b[39;00m byte_view:\n\u001b[1;32m---> 68\u001b[0m         data \u001b[38;5;241m=\u001b[39m \u001b[38;5;28;43mself\u001b[39;49m\u001b[38;5;241;43m.\u001b[39;49m\u001b[43mread\u001b[49m\u001b[43m(\u001b[49m\u001b[38;5;28;43mlen\u001b[39;49m\u001b[43m(\u001b[49m\u001b[43mbyte_view\u001b[49m\u001b[43m)\u001b[49m\u001b[43m)\u001b[49m\n\u001b[0;32m     69\u001b[0m         byte_view[:\u001b[38;5;28mlen\u001b[39m(data)] \u001b[38;5;241m=\u001b[39m data\n\u001b[0;32m     70\u001b[0m     \u001b[38;5;28;01mreturn\u001b[39;00m \u001b[38;5;28mlen\u001b[39m(data)\n",
      "File \u001b[1;32mc:\\Users\\shivs\\anaconda3\\envs\\chess-engine\\lib\\gzip.py:494\u001b[0m, in \u001b[0;36m_GzipReader.read\u001b[1;34m(self, size)\u001b[0m\n\u001b[0;32m    491\u001b[0m     \u001b[38;5;28mself\u001b[39m\u001b[38;5;241m.\u001b[39m_new_member \u001b[38;5;241m=\u001b[39m \u001b[38;5;28;01mFalse\u001b[39;00m\n\u001b[0;32m    493\u001b[0m \u001b[38;5;66;03m# Read a chunk of data from the file\u001b[39;00m\n\u001b[1;32m--> 494\u001b[0m buf \u001b[38;5;241m=\u001b[39m \u001b[38;5;28;43mself\u001b[39;49m\u001b[38;5;241;43m.\u001b[39;49m\u001b[43m_fp\u001b[49m\u001b[38;5;241;43m.\u001b[39;49m\u001b[43mread\u001b[49m\u001b[43m(\u001b[49m\u001b[43mio\u001b[49m\u001b[38;5;241;43m.\u001b[39;49m\u001b[43mDEFAULT_BUFFER_SIZE\u001b[49m\u001b[43m)\u001b[49m\n\u001b[0;32m    496\u001b[0m uncompress \u001b[38;5;241m=\u001b[39m \u001b[38;5;28mself\u001b[39m\u001b[38;5;241m.\u001b[39m_decompressor\u001b[38;5;241m.\u001b[39mdecompress(buf, size)\n\u001b[0;32m    497\u001b[0m \u001b[38;5;28;01mif\u001b[39;00m \u001b[38;5;28mself\u001b[39m\u001b[38;5;241m.\u001b[39m_decompressor\u001b[38;5;241m.\u001b[39munconsumed_tail \u001b[38;5;241m!=\u001b[39m \u001b[38;5;124mb\u001b[39m\u001b[38;5;124m\"\u001b[39m\u001b[38;5;124m\"\u001b[39m:\n",
      "File \u001b[1;32mc:\\Users\\shivs\\anaconda3\\envs\\chess-engine\\lib\\gzip.py:97\u001b[0m, in \u001b[0;36m_PaddedFile.read\u001b[1;34m(self, size)\u001b[0m\n\u001b[0;32m     94\u001b[0m read \u001b[38;5;241m=\u001b[39m \u001b[38;5;28mself\u001b[39m\u001b[38;5;241m.\u001b[39m_read\n\u001b[0;32m     95\u001b[0m \u001b[38;5;28mself\u001b[39m\u001b[38;5;241m.\u001b[39m_read \u001b[38;5;241m=\u001b[39m \u001b[38;5;28;01mNone\u001b[39;00m\n\u001b[0;32m     96\u001b[0m \u001b[38;5;28;01mreturn\u001b[39;00m \u001b[38;5;28mself\u001b[39m\u001b[38;5;241m.\u001b[39m_buffer[read:] \u001b[38;5;241m+\u001b[39m \\\n\u001b[1;32m---> 97\u001b[0m        \u001b[38;5;28;43mself\u001b[39;49m\u001b[38;5;241;43m.\u001b[39;49m\u001b[43mfile\u001b[49m\u001b[38;5;241;43m.\u001b[39;49m\u001b[43mread\u001b[49m\u001b[43m(\u001b[49m\u001b[43msize\u001b[49m\u001b[38;5;241;43m-\u001b[39;49m\u001b[38;5;28;43mself\u001b[39;49m\u001b[38;5;241;43m.\u001b[39;49m\u001b[43m_length\u001b[49m\u001b[38;5;241;43m+\u001b[39;49m\u001b[43mread\u001b[49m\u001b[43m)\u001b[49m\n",
      "\u001b[1;31mKeyboardInterrupt\u001b[0m: "
     ]
    }
   ],
   "source": [
    "def load_embedding_model():\n",
    "    \"\"\" Load GloVe Vectors\n",
    "        Return:\n",
    "            wv_from_bin: All 400000 embeddings, each lengh 200\n",
    "    \"\"\"\n",
    "    import gensim.downloader as api\n",
    "    wv_from_bin = api.load(\"word2vec-google-news-300\")\n",
    "    print(\"Loaded vocab size %i\" % len(list(wv_from_bin.index_to_key)))\n",
    "    return wv_from_bin\n",
    "wv_from_bin = load_embedding_model()\n",
    "# wv_from_bin = load_embedding_model()"
   ]
  },
  {
   "cell_type": "code",
   "execution_count": null,
   "metadata": {},
   "outputs": [
    {
     "data": {
      "text/html": [
       "<div>\n",
       "<style scoped>\n",
       "    .dataframe tbody tr th:only-of-type {\n",
       "        vertical-align: middle;\n",
       "    }\n",
       "\n",
       "    .dataframe tbody tr th {\n",
       "        vertical-align: top;\n",
       "    }\n",
       "\n",
       "    .dataframe thead th {\n",
       "        text-align: right;\n",
       "    }\n",
       "</style>\n",
       "<table border=\"1\" class=\"dataframe\">\n",
       "  <thead>\n",
       "    <tr style=\"text-align: right;\">\n",
       "      <th></th>\n",
       "      <th>artist</th>\n",
       "      <th>song</th>\n",
       "      <th>link</th>\n",
       "      <th>text</th>\n",
       "    </tr>\n",
       "  </thead>\n",
       "  <tbody>\n",
       "    <tr>\n",
       "      <th>0</th>\n",
       "      <td>ABBA</td>\n",
       "      <td>Ahe's My Kind Of Girl</td>\n",
       "      <td>/a/abba/ahes+my+kind+of+girl_20598417.html</td>\n",
       "      <td>Look at her face, it's a wonderful face  \\r\\nA...</td>\n",
       "    </tr>\n",
       "    <tr>\n",
       "      <th>1</th>\n",
       "      <td>ABBA</td>\n",
       "      <td>Andante, Andante</td>\n",
       "      <td>/a/abba/andante+andante_20002708.html</td>\n",
       "      <td>Take it easy with me, please  \\r\\nTouch me gen...</td>\n",
       "    </tr>\n",
       "    <tr>\n",
       "      <th>2</th>\n",
       "      <td>ABBA</td>\n",
       "      <td>As Good As New</td>\n",
       "      <td>/a/abba/as+good+as+new_20003033.html</td>\n",
       "      <td>I'll never know why I had to go  \\r\\nWhy I had...</td>\n",
       "    </tr>\n",
       "    <tr>\n",
       "      <th>3</th>\n",
       "      <td>ABBA</td>\n",
       "      <td>Bang</td>\n",
       "      <td>/a/abba/bang_20598415.html</td>\n",
       "      <td>Making somebody happy is a question of give an...</td>\n",
       "    </tr>\n",
       "    <tr>\n",
       "      <th>4</th>\n",
       "      <td>ABBA</td>\n",
       "      <td>Bang-A-Boomerang</td>\n",
       "      <td>/a/abba/bang+a+boomerang_20002668.html</td>\n",
       "      <td>Making somebody happy is a question of give an...</td>\n",
       "    </tr>\n",
       "  </tbody>\n",
       "</table>\n",
       "</div>"
      ],
      "text/plain": [
       "  artist                   song                                        link  \\\n",
       "0   ABBA  Ahe's My Kind Of Girl  /a/abba/ahes+my+kind+of+girl_20598417.html   \n",
       "1   ABBA       Andante, Andante       /a/abba/andante+andante_20002708.html   \n",
       "2   ABBA         As Good As New        /a/abba/as+good+as+new_20003033.html   \n",
       "3   ABBA                   Bang                  /a/abba/bang_20598415.html   \n",
       "4   ABBA       Bang-A-Boomerang      /a/abba/bang+a+boomerang_20002668.html   \n",
       "\n",
       "                                                text  \n",
       "0  Look at her face, it's a wonderful face  \\r\\nA...  \n",
       "1  Take it easy with me, please  \\r\\nTouch me gen...  \n",
       "2  I'll never know why I had to go  \\r\\nWhy I had...  \n",
       "3  Making somebody happy is a question of give an...  \n",
       "4  Making somebody happy is a question of give an...  "
      ]
     },
     "execution_count": 71,
     "metadata": {},
     "output_type": "execute_result"
    }
   ],
   "source": [
    "benchmark_df = pd.read_csv(\"../../data/million_songs.csv\")\n",
    "benchmark_df.head()"
   ]
  },
  {
   "cell_type": "code",
   "execution_count": null,
   "metadata": {},
   "outputs": [],
   "source": [
    "def tokenize(lyric: str) -> list[str]:\n",
    "    # lowercase the text, remove stop words, punctuation and keep only the words\n",
    "    lyric.replace(\"<br>\", \"\\n\")\n",
    "    tokens = nltk.tokenize.word_tokenize(lyric.lower())\n",
    "    stop_words = stopwords.words(\"english\") + list(string.punctuation)\n",
    "    lemmatizer = WordNetLemmatizer()\n",
    "    alpha_tokens = [lemmatizer.lemmatize(token) for token in tokens if token.isalpha() and token not in stop_words]\n",
    "\n",
    "    return alpha_tokens"
   ]
  },
  {
   "cell_type": "code",
   "execution_count": null,
   "metadata": {},
   "outputs": [],
   "source": [
    "def vectorise(lyrics: str) -> np.ndarray:\n",
    "    tokens = tokenize(lyrics)\n",
    "    lyric_vector = np.zeros(300)\n",
    "    for token in tokens:\n",
    "        try:\n",
    "            lyric_vector += wv_from_bin.get_vector(token.lower())\n",
    "        except:\n",
    "            continue\n",
    "    return lyric_vector / np.linalg.norm(lyric_vector)"
   ]
  },
  {
   "cell_type": "code",
   "execution_count": null,
   "metadata": {},
   "outputs": [],
   "source": [
    "# go through each lyrics, tokenize it, vectorize each word, then combine all of them into single average vector and store it in the list\n",
    "\n",
    "def get_embeddings(lyrics):\n",
    "    lyrics_embeddings = []\n",
    "    unsupported_tokens = set()\n",
    "    label_embedding_map = {} # dict{str: np.array([])}\n",
    "    for lyric in tqdm(lyrics):\n",
    "        lyric_vector = np.zeros(300)\n",
    "        for token in tokenize(lyric):\n",
    "            try:\n",
    "                lyric_vector += wv_from_bin.get_vector(token.lower())\n",
    "            except KeyError as e:\n",
    "                # if the word is not present in the glove then key error is raised, so handle the exception and move on\n",
    "                unsupported_tokens.add(token)\n",
    "                continue\n",
    "        lyrics_embeddings.append(lyric_vector)\n",
    "\n",
    "\n",
    "    lyrics_embeddings = np.stack(lyrics_embeddings)\n",
    "    scaled_lyrics_embeddings = lyrics_embeddings / np.linalg.norm(lyrics_embeddings, axis=1, keepdims=True)\n",
    "    return scaled_lyrics_embeddings"
   ]
  },
  {
   "cell_type": "code",
   "execution_count": null,
   "metadata": {},
   "outputs": [
    {
     "name": "stderr",
     "output_type": "stream",
     "text": [
      "100%|██████████| 57650/57650 [02:34<00:00, 372.40it/s]\n"
     ]
    }
   ],
   "source": [
    "train_embeddings = get_embeddings(benchmark_df[\"text\"])"
   ]
  },
  {
   "cell_type": "code",
   "execution_count": null,
   "metadata": {},
   "outputs": [],
   "source": [
    "def distance(metric: str, embedding_matrix: np.ndarray, test_vector: np.ndarray) -> np.ndarray:\n",
    "    if metric == \"cosine\":\n",
    "            \n",
    "        dot_product = np.dot(embedding_matrix, test_vector)\n",
    "\n",
    "        # Compute magnitudes\n",
    "        embedding_magnitudes = np.linalg.norm(embedding_matrix, axis=1)\n",
    "        test_vector_magnitude = np.linalg.norm(test_vector)\n",
    "\n",
    "        # Compute cosine similarity\n",
    "        cosine_similarity = dot_product / (embedding_magnitudes * test_vector_magnitude)\n",
    "        return cosine_similarity\n",
    "    elif metric == \"euclidean\":\n",
    "        distances = np.linalg.norm(scaled_lyrics_embeddings - test_vector, axis=1)\n",
    "        return distances\n",
    "    else:\n",
    "        raise Exception(f\"Invalid parameter value {metric}\")"
   ]
  },
  {
   "cell_type": "code",
   "execution_count": null,
   "metadata": {},
   "outputs": [],
   "source": [
    "def cosine_distance(X, centroids):\n",
    "    # Compute cosine similarity between each data point and each centroid\n",
    "    dot_product = np.dot(X, centroids.T)\n",
    "    norms_X = np.linalg.norm(X, axis=1)[:, np.newaxis]\n",
    "    norms_centroids = np.linalg.norm(centroids, axis=1)\n",
    "    cosine_similarities = dot_product / (norms_X * norms_centroids)\n",
    "    \n",
    "    # Convert cosine similarities to cosine distances\n",
    "    cosine_distances = 1 - cosine_similarities\n",
    "    \n",
    "    return cosine_distances"
   ]
  },
  {
   "cell_type": "code",
   "execution_count": null,
   "metadata": {},
   "outputs": [],
   "source": [
    "def within_cluster_sum_of_squares(X, labels, centers):\n",
    "    wcss = 0\n",
    "    for i in range(len(centers)):\n",
    "        cluster_points = X[labels == i]\n",
    "        wcss += np.sum(cosine_distance(cluster_points, centers[i][None, :])**2)\n",
    "    return wcss"
   ]
  },
  {
   "cell_type": "code",
   "execution_count": null,
   "metadata": {},
   "outputs": [],
   "source": [
    "import numpy as np\n",
    "\n",
    "def kmeans(X, centroids, max_iterations=100):\n",
    "    log_folder = \"logs/kmeans/\" + datetime.datetime.now().strftime(\"%Y%m%d-%H%M%S\")\n",
    "    summary_writer = tf.summary.create_file_writer(log_folder)\n",
    "    with summary_writer.as_default():\n",
    "        tf.summary.text(\"K centeroids\", str(centroids), step=0)\n",
    "        \n",
    "    for epoch in tqdm(range(max_iterations)):\n",
    "        # Assign each data point to the nearest centroid\n",
    "        distances = cosine_distance(X, centroids)  # Calculate distances\n",
    "        labels = np.argmin(distances, axis=1)  # Assign labels\n",
    "       \n",
    "        # Update centroids\n",
    "        new_centroids = np.array([X[labels == i].mean(axis=0) for i in range(centroids.shape[0])])\n",
    "        \n",
    "        # Check for convergence\n",
    "        if np.all(centroids == new_centroids):\n",
    "            break\n",
    "        \n",
    "        centroids = new_centroids\n",
    "        wcss = within_cluster_sum_of_squares(X, labels=labels, centers=centroids)\n",
    "        print(f\"epoch {epoch}, WCSS {wcss}\")\n",
    "        with summary_writer.as_default():\n",
    "            tf.summary.scalar(\"WCSS\", wcss, step=epoch)\n",
    "        \n",
    "    \n",
    "    return labels, centroids\n",
    "\n"
   ]
  },
  {
   "cell_type": "code",
   "execution_count": null,
   "metadata": {},
   "outputs": [
    {
     "name": "stderr",
     "output_type": "stream",
     "text": [
      "  1%|          | 1/100 [00:00<00:25,  3.81it/s]"
     ]
    },
    {
     "name": "stdout",
     "output_type": "stream",
     "text": [
      "epoch 0, WCSS 1094.762516887813\n"
     ]
    },
    {
     "name": "stderr",
     "output_type": "stream",
     "text": [
      "  2%|▏         | 2/100 [00:00<00:25,  3.82it/s]"
     ]
    },
    {
     "name": "stdout",
     "output_type": "stream",
     "text": [
      "epoch 1, WCSS 1003.0927388500431\n"
     ]
    },
    {
     "name": "stderr",
     "output_type": "stream",
     "text": [
      "  3%|▎         | 3/100 [00:00<00:27,  3.52it/s]"
     ]
    },
    {
     "name": "stdout",
     "output_type": "stream",
     "text": [
      "epoch 2, WCSS 981.171315280764\n"
     ]
    },
    {
     "name": "stderr",
     "output_type": "stream",
     "text": [
      "  4%|▍         | 4/100 [00:01<00:28,  3.35it/s]"
     ]
    },
    {
     "name": "stdout",
     "output_type": "stream",
     "text": [
      "epoch 3, WCSS 970.925574930258\n"
     ]
    },
    {
     "name": "stderr",
     "output_type": "stream",
     "text": [
      "  5%|▌         | 5/100 [00:01<00:27,  3.46it/s]"
     ]
    },
    {
     "name": "stdout",
     "output_type": "stream",
     "text": [
      "epoch 4, WCSS 965.0138295264228\n"
     ]
    },
    {
     "name": "stderr",
     "output_type": "stream",
     "text": [
      "  6%|▌         | 6/100 [00:01<00:26,  3.52it/s]"
     ]
    },
    {
     "name": "stdout",
     "output_type": "stream",
     "text": [
      "epoch 5, WCSS 961.427446474029\n"
     ]
    },
    {
     "name": "stderr",
     "output_type": "stream",
     "text": [
      "  7%|▋         | 7/100 [00:01<00:25,  3.58it/s]"
     ]
    },
    {
     "name": "stdout",
     "output_type": "stream",
     "text": [
      "epoch 6, WCSS 959.1615072616892\n"
     ]
    },
    {
     "name": "stderr",
     "output_type": "stream",
     "text": [
      "  8%|▊         | 8/100 [00:02<00:25,  3.67it/s]"
     ]
    },
    {
     "name": "stdout",
     "output_type": "stream",
     "text": [
      "epoch 7, WCSS 957.6169339592483\n"
     ]
    },
    {
     "name": "stderr",
     "output_type": "stream",
     "text": [
      "  9%|▉         | 9/100 [00:02<00:24,  3.71it/s]"
     ]
    },
    {
     "name": "stdout",
     "output_type": "stream",
     "text": [
      "epoch 8, WCSS 956.5079502282714\n"
     ]
    },
    {
     "name": "stderr",
     "output_type": "stream",
     "text": [
      " 10%|█         | 10/100 [00:02<00:24,  3.69it/s]"
     ]
    },
    {
     "name": "stdout",
     "output_type": "stream",
     "text": [
      "epoch 9, WCSS 955.7976323099015\n"
     ]
    },
    {
     "name": "stderr",
     "output_type": "stream",
     "text": [
      " 11%|█         | 11/100 [00:03<00:25,  3.49it/s]"
     ]
    },
    {
     "name": "stdout",
     "output_type": "stream",
     "text": [
      "epoch 10, WCSS 955.2867345441653\n"
     ]
    },
    {
     "name": "stderr",
     "output_type": "stream",
     "text": [
      " 12%|█▏        | 12/100 [00:03<00:26,  3.37it/s]"
     ]
    },
    {
     "name": "stdout",
     "output_type": "stream",
     "text": [
      "epoch 11, WCSS 954.947885532699\n"
     ]
    },
    {
     "name": "stderr",
     "output_type": "stream",
     "text": [
      " 13%|█▎        | 13/100 [00:03<00:25,  3.42it/s]"
     ]
    },
    {
     "name": "stdout",
     "output_type": "stream",
     "text": [
      "epoch 12, WCSS 954.753906599509\n"
     ]
    },
    {
     "name": "stderr",
     "output_type": "stream",
     "text": [
      " 14%|█▍        | 14/100 [00:03<00:25,  3.37it/s]"
     ]
    },
    {
     "name": "stdout",
     "output_type": "stream",
     "text": [
      "epoch 13, WCSS 954.6339238351756\n"
     ]
    },
    {
     "name": "stderr",
     "output_type": "stream",
     "text": [
      " 15%|█▌        | 15/100 [00:04<00:24,  3.41it/s]"
     ]
    },
    {
     "name": "stdout",
     "output_type": "stream",
     "text": [
      "epoch 14, WCSS 954.554561522281\n"
     ]
    },
    {
     "name": "stderr",
     "output_type": "stream",
     "text": [
      " 16%|█▌        | 16/100 [00:04<00:23,  3.50it/s]"
     ]
    },
    {
     "name": "stdout",
     "output_type": "stream",
     "text": [
      "epoch 15, WCSS 954.5025624498309\n"
     ]
    },
    {
     "name": "stderr",
     "output_type": "stream",
     "text": [
      " 17%|█▋        | 17/100 [00:04<00:24,  3.39it/s]"
     ]
    },
    {
     "name": "stdout",
     "output_type": "stream",
     "text": [
      "epoch 16, WCSS 954.4762646338161\n"
     ]
    },
    {
     "name": "stderr",
     "output_type": "stream",
     "text": [
      " 18%|█▊        | 18/100 [00:05<00:23,  3.45it/s]"
     ]
    },
    {
     "name": "stdout",
     "output_type": "stream",
     "text": [
      "epoch 17, WCSS 954.4438330419372\n"
     ]
    },
    {
     "name": "stderr",
     "output_type": "stream",
     "text": [
      " 19%|█▉        | 19/100 [00:05<00:23,  3.44it/s]"
     ]
    },
    {
     "name": "stdout",
     "output_type": "stream",
     "text": [
      "epoch 18, WCSS 954.4313118834843\n"
     ]
    },
    {
     "name": "stderr",
     "output_type": "stream",
     "text": [
      " 20%|██        | 20/100 [00:05<00:23,  3.40it/s]"
     ]
    },
    {
     "name": "stdout",
     "output_type": "stream",
     "text": [
      "epoch 19, WCSS 954.4231632765358\n"
     ]
    },
    {
     "name": "stderr",
     "output_type": "stream",
     "text": [
      " 21%|██        | 21/100 [00:06<00:23,  3.37it/s]"
     ]
    },
    {
     "name": "stdout",
     "output_type": "stream",
     "text": [
      "epoch 20, WCSS 954.4184155161087\n"
     ]
    },
    {
     "name": "stderr",
     "output_type": "stream",
     "text": [
      " 22%|██▏       | 22/100 [00:06<00:23,  3.35it/s]"
     ]
    },
    {
     "name": "stdout",
     "output_type": "stream",
     "text": [
      "epoch 21, WCSS 954.4126391921438\n"
     ]
    },
    {
     "name": "stderr",
     "output_type": "stream",
     "text": [
      " 23%|██▎       | 23/100 [00:06<00:22,  3.38it/s]"
     ]
    },
    {
     "name": "stdout",
     "output_type": "stream",
     "text": [
      "epoch 22, WCSS 954.4061827225319\n"
     ]
    },
    {
     "name": "stderr",
     "output_type": "stream",
     "text": [
      " 24%|██▍       | 24/100 [00:06<00:22,  3.32it/s]"
     ]
    },
    {
     "name": "stdout",
     "output_type": "stream",
     "text": [
      "epoch 23, WCSS 954.3957619495923\n"
     ]
    },
    {
     "name": "stderr",
     "output_type": "stream",
     "text": [
      " 25%|██▌       | 25/100 [00:07<00:22,  3.32it/s]"
     ]
    },
    {
     "name": "stdout",
     "output_type": "stream",
     "text": [
      "epoch 24, WCSS 954.3876953596053\n"
     ]
    },
    {
     "name": "stderr",
     "output_type": "stream",
     "text": [
      " 26%|██▌       | 26/100 [00:07<00:22,  3.29it/s]"
     ]
    },
    {
     "name": "stdout",
     "output_type": "stream",
     "text": [
      "epoch 25, WCSS 954.3740064212227\n"
     ]
    },
    {
     "name": "stderr",
     "output_type": "stream",
     "text": [
      " 27%|██▋       | 27/100 [00:07<00:21,  3.40it/s]"
     ]
    },
    {
     "name": "stdout",
     "output_type": "stream",
     "text": [
      "epoch 26, WCSS 954.3608310943021\n"
     ]
    },
    {
     "name": "stderr",
     "output_type": "stream",
     "text": [
      " 28%|██▊       | 28/100 [00:08<00:22,  3.25it/s]"
     ]
    },
    {
     "name": "stdout",
     "output_type": "stream",
     "text": [
      "epoch 27, WCSS 954.3617846549057\n"
     ]
    },
    {
     "name": "stderr",
     "output_type": "stream",
     "text": [
      " 29%|██▉       | 29/100 [00:08<00:22,  3.14it/s]"
     ]
    },
    {
     "name": "stdout",
     "output_type": "stream",
     "text": [
      "epoch 28, WCSS 954.3555446489871\n"
     ]
    },
    {
     "name": "stderr",
     "output_type": "stream",
     "text": [
      " 30%|███       | 30/100 [00:08<00:22,  3.18it/s]"
     ]
    },
    {
     "name": "stdout",
     "output_type": "stream",
     "text": [
      "epoch 29, WCSS 954.3450811513651\n"
     ]
    },
    {
     "name": "stderr",
     "output_type": "stream",
     "text": [
      " 31%|███       | 31/100 [00:09<00:21,  3.27it/s]"
     ]
    },
    {
     "name": "stdout",
     "output_type": "stream",
     "text": [
      "epoch 30, WCSS 954.3476355108127\n"
     ]
    },
    {
     "name": "stderr",
     "output_type": "stream",
     "text": [
      " 32%|███▏      | 32/100 [00:09<00:20,  3.34it/s]"
     ]
    },
    {
     "name": "stdout",
     "output_type": "stream",
     "text": [
      "epoch 31, WCSS 954.3466237046018\n"
     ]
    },
    {
     "name": "stderr",
     "output_type": "stream",
     "text": [
      " 33%|███▎      | 33/100 [00:09<00:19,  3.39it/s]"
     ]
    },
    {
     "name": "stdout",
     "output_type": "stream",
     "text": [
      "epoch 32, WCSS 954.348499394159\n"
     ]
    },
    {
     "name": "stderr",
     "output_type": "stream",
     "text": [
      " 34%|███▍      | 34/100 [00:09<00:19,  3.36it/s]"
     ]
    },
    {
     "name": "stdout",
     "output_type": "stream",
     "text": [
      "epoch 33, WCSS 954.3434036340946\n"
     ]
    },
    {
     "name": "stderr",
     "output_type": "stream",
     "text": [
      " 35%|███▌      | 35/100 [00:10<00:19,  3.41it/s]"
     ]
    },
    {
     "name": "stdout",
     "output_type": "stream",
     "text": [
      "epoch 34, WCSS 954.342128941614\n"
     ]
    },
    {
     "name": "stderr",
     "output_type": "stream",
     "text": [
      " 36%|███▌      | 36/100 [00:10<00:18,  3.41it/s]"
     ]
    },
    {
     "name": "stdout",
     "output_type": "stream",
     "text": [
      "epoch 35, WCSS 954.33690572882\n"
     ]
    },
    {
     "name": "stderr",
     "output_type": "stream",
     "text": [
      " 37%|███▋      | 37/100 [00:11<00:22,  2.82it/s]"
     ]
    },
    {
     "name": "stdout",
     "output_type": "stream",
     "text": [
      "epoch 36, WCSS 954.3341842008189\n"
     ]
    },
    {
     "name": "stderr",
     "output_type": "stream",
     "text": [
      " 38%|███▊      | 38/100 [00:11<00:22,  2.71it/s]"
     ]
    },
    {
     "name": "stdout",
     "output_type": "stream",
     "text": [
      "epoch 37, WCSS 954.3273898796654\n"
     ]
    },
    {
     "name": "stderr",
     "output_type": "stream",
     "text": [
      " 39%|███▉      | 39/100 [00:11<00:21,  2.78it/s]"
     ]
    },
    {
     "name": "stdout",
     "output_type": "stream",
     "text": [
      "epoch 38, WCSS 954.3257514054154\n"
     ]
    },
    {
     "name": "stderr",
     "output_type": "stream",
     "text": [
      " 40%|████      | 40/100 [00:12<00:20,  2.98it/s]"
     ]
    },
    {
     "name": "stdout",
     "output_type": "stream",
     "text": [
      "epoch 39, WCSS 954.3237468700863\n"
     ]
    },
    {
     "name": "stderr",
     "output_type": "stream",
     "text": [
      " 41%|████      | 41/100 [00:12<00:18,  3.13it/s]"
     ]
    },
    {
     "name": "stdout",
     "output_type": "stream",
     "text": [
      "epoch 40, WCSS 954.3148336944937\n"
     ]
    },
    {
     "name": "stderr",
     "output_type": "stream",
     "text": [
      " 42%|████▏     | 42/100 [00:12<00:17,  3.24it/s]"
     ]
    },
    {
     "name": "stdout",
     "output_type": "stream",
     "text": [
      "epoch 41, WCSS 954.2954826527117\n"
     ]
    },
    {
     "name": "stderr",
     "output_type": "stream",
     "text": [
      " 43%|████▎     | 43/100 [00:12<00:16,  3.38it/s]"
     ]
    },
    {
     "name": "stdout",
     "output_type": "stream",
     "text": [
      "epoch 42, WCSS 954.2804846539462\n"
     ]
    },
    {
     "name": "stderr",
     "output_type": "stream",
     "text": [
      " 44%|████▍     | 44/100 [00:13<00:16,  3.33it/s]"
     ]
    },
    {
     "name": "stdout",
     "output_type": "stream",
     "text": [
      "epoch 43, WCSS 954.2593840800884\n"
     ]
    },
    {
     "name": "stderr",
     "output_type": "stream",
     "text": [
      " 45%|████▌     | 45/100 [00:13<00:16,  3.35it/s]"
     ]
    },
    {
     "name": "stdout",
     "output_type": "stream",
     "text": [
      "epoch 44, WCSS 954.2450885320468\n"
     ]
    },
    {
     "name": "stderr",
     "output_type": "stream",
     "text": [
      " 46%|████▌     | 46/100 [00:13<00:15,  3.46it/s]"
     ]
    },
    {
     "name": "stdout",
     "output_type": "stream",
     "text": [
      "epoch 45, WCSS 954.2328920704238\n"
     ]
    },
    {
     "name": "stderr",
     "output_type": "stream",
     "text": [
      " 47%|████▋     | 47/100 [00:14<00:15,  3.50it/s]"
     ]
    },
    {
     "name": "stdout",
     "output_type": "stream",
     "text": [
      "epoch 46, WCSS 954.2167249895252\n"
     ]
    },
    {
     "name": "stderr",
     "output_type": "stream",
     "text": [
      " 48%|████▊     | 48/100 [00:14<00:14,  3.54it/s]"
     ]
    },
    {
     "name": "stdout",
     "output_type": "stream",
     "text": [
      "epoch 47, WCSS 954.2061961549789\n"
     ]
    },
    {
     "name": "stderr",
     "output_type": "stream",
     "text": [
      " 49%|████▉     | 49/100 [00:14<00:15,  3.31it/s]"
     ]
    },
    {
     "name": "stdout",
     "output_type": "stream",
     "text": [
      "epoch 48, WCSS 954.197222222804\n"
     ]
    },
    {
     "name": "stderr",
     "output_type": "stream",
     "text": [
      " 50%|█████     | 50/100 [00:14<00:14,  3.40it/s]"
     ]
    },
    {
     "name": "stdout",
     "output_type": "stream",
     "text": [
      "epoch 49, WCSS 954.1798651583713\n"
     ]
    },
    {
     "name": "stderr",
     "output_type": "stream",
     "text": [
      " 51%|█████     | 51/100 [00:15<00:14,  3.39it/s]"
     ]
    },
    {
     "name": "stdout",
     "output_type": "stream",
     "text": [
      "epoch 50, WCSS 954.1688616043317\n"
     ]
    },
    {
     "name": "stderr",
     "output_type": "stream",
     "text": [
      " 52%|█████▏    | 52/100 [00:15<00:13,  3.44it/s]"
     ]
    },
    {
     "name": "stdout",
     "output_type": "stream",
     "text": [
      "epoch 51, WCSS 954.1592833434892\n"
     ]
    },
    {
     "name": "stderr",
     "output_type": "stream",
     "text": [
      " 53%|█████▎    | 53/100 [00:15<00:13,  3.44it/s]"
     ]
    },
    {
     "name": "stdout",
     "output_type": "stream",
     "text": [
      "epoch 52, WCSS 954.1415539639413\n"
     ]
    },
    {
     "name": "stderr",
     "output_type": "stream",
     "text": [
      " 54%|█████▍    | 54/100 [00:16<00:13,  3.46it/s]"
     ]
    },
    {
     "name": "stdout",
     "output_type": "stream",
     "text": [
      "epoch 53, WCSS 954.1343696969076\n"
     ]
    },
    {
     "name": "stderr",
     "output_type": "stream",
     "text": [
      " 55%|█████▌    | 55/100 [00:16<00:12,  3.48it/s]"
     ]
    },
    {
     "name": "stdout",
     "output_type": "stream",
     "text": [
      "epoch 54, WCSS 954.126887547639\n"
     ]
    },
    {
     "name": "stderr",
     "output_type": "stream",
     "text": [
      " 56%|█████▌    | 56/100 [00:16<00:13,  3.33it/s]"
     ]
    },
    {
     "name": "stdout",
     "output_type": "stream",
     "text": [
      "epoch 55, WCSS 954.1161163253356\n"
     ]
    },
    {
     "name": "stderr",
     "output_type": "stream",
     "text": [
      " 57%|█████▋    | 57/100 [00:17<00:13,  3.29it/s]"
     ]
    },
    {
     "name": "stdout",
     "output_type": "stream",
     "text": [
      "epoch 56, WCSS 954.1136148534782\n"
     ]
    },
    {
     "name": "stderr",
     "output_type": "stream",
     "text": [
      " 58%|█████▊    | 58/100 [00:17<00:12,  3.34it/s]"
     ]
    },
    {
     "name": "stdout",
     "output_type": "stream",
     "text": [
      "epoch 57, WCSS 954.1154910332426\n"
     ]
    },
    {
     "name": "stderr",
     "output_type": "stream",
     "text": [
      " 59%|█████▉    | 59/100 [00:17<00:12,  3.29it/s]"
     ]
    },
    {
     "name": "stdout",
     "output_type": "stream",
     "text": [
      "epoch 58, WCSS 954.1118105797594\n"
     ]
    },
    {
     "name": "stderr",
     "output_type": "stream",
     "text": [
      " 60%|██████    | 60/100 [00:17<00:11,  3.42it/s]"
     ]
    },
    {
     "name": "stdout",
     "output_type": "stream",
     "text": [
      "epoch 59, WCSS 954.0983324533204\n"
     ]
    },
    {
     "name": "stderr",
     "output_type": "stream",
     "text": [
      " 61%|██████    | 61/100 [00:18<00:11,  3.35it/s]"
     ]
    },
    {
     "name": "stdout",
     "output_type": "stream",
     "text": [
      "epoch 60, WCSS 954.0913744851999\n"
     ]
    },
    {
     "name": "stderr",
     "output_type": "stream",
     "text": [
      " 62%|██████▏   | 62/100 [00:18<00:11,  3.43it/s]"
     ]
    },
    {
     "name": "stdout",
     "output_type": "stream",
     "text": [
      "epoch 61, WCSS 954.0759697801595\n"
     ]
    },
    {
     "name": "stderr",
     "output_type": "stream",
     "text": [
      " 63%|██████▎   | 63/100 [00:18<00:10,  3.44it/s]"
     ]
    },
    {
     "name": "stdout",
     "output_type": "stream",
     "text": [
      "epoch 62, WCSS 954.0649853931851\n"
     ]
    },
    {
     "name": "stderr",
     "output_type": "stream",
     "text": [
      " 64%|██████▍   | 64/100 [00:19<00:10,  3.28it/s]"
     ]
    },
    {
     "name": "stdout",
     "output_type": "stream",
     "text": [
      "epoch 63, WCSS 954.0489534363769\n"
     ]
    },
    {
     "name": "stderr",
     "output_type": "stream",
     "text": [
      " 65%|██████▌   | 65/100 [00:19<00:11,  3.17it/s]"
     ]
    },
    {
     "name": "stdout",
     "output_type": "stream",
     "text": [
      "epoch 64, WCSS 954.0410755184344\n"
     ]
    },
    {
     "name": "stderr",
     "output_type": "stream",
     "text": [
      " 66%|██████▌   | 66/100 [00:19<00:11,  2.94it/s]"
     ]
    },
    {
     "name": "stdout",
     "output_type": "stream",
     "text": [
      "epoch 65, WCSS 954.037634678855\n"
     ]
    },
    {
     "name": "stderr",
     "output_type": "stream",
     "text": [
      " 67%|██████▋   | 67/100 [00:20<00:11,  2.97it/s]"
     ]
    },
    {
     "name": "stdout",
     "output_type": "stream",
     "text": [
      "epoch 66, WCSS 954.0348417308827\n"
     ]
    },
    {
     "name": "stderr",
     "output_type": "stream",
     "text": [
      " 68%|██████▊   | 68/100 [00:20<00:10,  2.97it/s]"
     ]
    },
    {
     "name": "stdout",
     "output_type": "stream",
     "text": [
      "epoch 67, WCSS 954.029660436568\n"
     ]
    },
    {
     "name": "stderr",
     "output_type": "stream",
     "text": [
      " 69%|██████▉   | 69/100 [00:20<00:10,  3.07it/s]"
     ]
    },
    {
     "name": "stdout",
     "output_type": "stream",
     "text": [
      "epoch 68, WCSS 954.0256352264332\n"
     ]
    },
    {
     "name": "stderr",
     "output_type": "stream",
     "text": [
      " 70%|███████   | 70/100 [00:21<00:09,  3.19it/s]"
     ]
    },
    {
     "name": "stdout",
     "output_type": "stream",
     "text": [
      "epoch 69, WCSS 954.0337141666782\n"
     ]
    },
    {
     "name": "stderr",
     "output_type": "stream",
     "text": [
      " 71%|███████   | 71/100 [00:21<00:08,  3.25it/s]"
     ]
    },
    {
     "name": "stdout",
     "output_type": "stream",
     "text": [
      "epoch 70, WCSS 954.0339574707272\n"
     ]
    },
    {
     "name": "stderr",
     "output_type": "stream",
     "text": [
      " 72%|███████▏  | 72/100 [00:21<00:08,  3.27it/s]"
     ]
    },
    {
     "name": "stdout",
     "output_type": "stream",
     "text": [
      "epoch 71, WCSS 954.0343253027064\n"
     ]
    },
    {
     "name": "stderr",
     "output_type": "stream",
     "text": [
      " 73%|███████▎  | 73/100 [00:21<00:08,  3.30it/s]"
     ]
    },
    {
     "name": "stdout",
     "output_type": "stream",
     "text": [
      "epoch 72, WCSS 954.0341563574542\n"
     ]
    },
    {
     "name": "stderr",
     "output_type": "stream",
     "text": [
      " 74%|███████▍  | 74/100 [00:22<00:07,  3.41it/s]"
     ]
    },
    {
     "name": "stdout",
     "output_type": "stream",
     "text": [
      "epoch 73, WCSS 954.0285822695946\n"
     ]
    },
    {
     "name": "stderr",
     "output_type": "stream",
     "text": [
      " 75%|███████▌  | 75/100 [00:22<00:07,  3.47it/s]"
     ]
    },
    {
     "name": "stdout",
     "output_type": "stream",
     "text": [
      "epoch 74, WCSS 954.0198371595408\n"
     ]
    },
    {
     "name": "stderr",
     "output_type": "stream",
     "text": [
      " 76%|███████▌  | 76/100 [00:22<00:06,  3.51it/s]"
     ]
    },
    {
     "name": "stdout",
     "output_type": "stream",
     "text": [
      "epoch 75, WCSS 954.0158561636902\n"
     ]
    },
    {
     "name": "stderr",
     "output_type": "stream",
     "text": [
      " 77%|███████▋  | 77/100 [00:23<00:06,  3.58it/s]"
     ]
    },
    {
     "name": "stdout",
     "output_type": "stream",
     "text": [
      "epoch 76, WCSS 954.011063482478\n"
     ]
    },
    {
     "name": "stderr",
     "output_type": "stream",
     "text": [
      " 78%|███████▊  | 78/100 [00:23<00:06,  3.55it/s]"
     ]
    },
    {
     "name": "stdout",
     "output_type": "stream",
     "text": [
      "epoch 77, WCSS 954.0091015241752\n"
     ]
    },
    {
     "name": "stderr",
     "output_type": "stream",
     "text": [
      " 79%|███████▉  | 79/100 [00:23<00:05,  3.61it/s]"
     ]
    },
    {
     "name": "stdout",
     "output_type": "stream",
     "text": [
      "epoch 78, WCSS 954.0061522300161\n"
     ]
    },
    {
     "name": "stderr",
     "output_type": "stream",
     "text": [
      " 80%|████████  | 80/100 [00:23<00:05,  3.59it/s]"
     ]
    },
    {
     "name": "stdout",
     "output_type": "stream",
     "text": [
      "epoch 79, WCSS 954.0023052422165\n"
     ]
    },
    {
     "name": "stderr",
     "output_type": "stream",
     "text": [
      " 81%|████████  | 81/100 [00:24<00:05,  3.58it/s]"
     ]
    },
    {
     "name": "stdout",
     "output_type": "stream",
     "text": [
      "epoch 80, WCSS 954.000496763877\n"
     ]
    },
    {
     "name": "stderr",
     "output_type": "stream",
     "text": [
      " 82%|████████▏ | 82/100 [00:24<00:05,  3.59it/s]"
     ]
    },
    {
     "name": "stdout",
     "output_type": "stream",
     "text": [
      "epoch 81, WCSS 954.0017147947722\n"
     ]
    },
    {
     "name": "stderr",
     "output_type": "stream",
     "text": [
      " 83%|████████▎ | 83/100 [00:24<00:04,  3.59it/s]"
     ]
    },
    {
     "name": "stdout",
     "output_type": "stream",
     "text": [
      "epoch 82, WCSS 953.9964739866894\n"
     ]
    },
    {
     "name": "stderr",
     "output_type": "stream",
     "text": [
      " 84%|████████▍ | 84/100 [00:25<00:04,  3.61it/s]"
     ]
    },
    {
     "name": "stdout",
     "output_type": "stream",
     "text": [
      "epoch 83, WCSS 953.9993273654229\n"
     ]
    },
    {
     "name": "stderr",
     "output_type": "stream",
     "text": [
      " 85%|████████▌ | 85/100 [00:25<00:04,  3.39it/s]"
     ]
    },
    {
     "name": "stdout",
     "output_type": "stream",
     "text": [
      "epoch 84, WCSS 953.996393567064\n"
     ]
    },
    {
     "name": "stderr",
     "output_type": "stream",
     "text": [
      " 86%|████████▌ | 86/100 [00:25<00:04,  3.36it/s]"
     ]
    },
    {
     "name": "stdout",
     "output_type": "stream",
     "text": [
      "epoch 85, WCSS 953.9991846442385\n"
     ]
    },
    {
     "name": "stderr",
     "output_type": "stream",
     "text": [
      " 87%|████████▋ | 87/100 [00:25<00:03,  3.34it/s]"
     ]
    },
    {
     "name": "stdout",
     "output_type": "stream",
     "text": [
      "epoch 86, WCSS 954.0017063794363\n"
     ]
    },
    {
     "name": "stderr",
     "output_type": "stream",
     "text": [
      " 88%|████████▊ | 88/100 [00:26<00:03,  3.40it/s]"
     ]
    },
    {
     "name": "stdout",
     "output_type": "stream",
     "text": [
      "epoch 87, WCSS 953.9998598065329\n"
     ]
    },
    {
     "name": "stderr",
     "output_type": "stream",
     "text": [
      " 89%|████████▉ | 89/100 [00:26<00:03,  3.47it/s]"
     ]
    },
    {
     "name": "stdout",
     "output_type": "stream",
     "text": [
      "epoch 88, WCSS 953.9968210479361\n"
     ]
    },
    {
     "name": "stderr",
     "output_type": "stream",
     "text": [
      " 90%|█████████ | 90/100 [00:26<00:02,  3.54it/s]"
     ]
    },
    {
     "name": "stdout",
     "output_type": "stream",
     "text": [
      "epoch 89, WCSS 953.9963007518321\n"
     ]
    },
    {
     "name": "stderr",
     "output_type": "stream",
     "text": [
      " 91%|█████████ | 91/100 [00:27<00:02,  3.59it/s]"
     ]
    },
    {
     "name": "stdout",
     "output_type": "stream",
     "text": [
      "epoch 90, WCSS 953.9930311114849\n"
     ]
    },
    {
     "name": "stderr",
     "output_type": "stream",
     "text": [
      " 92%|█████████▏| 92/100 [00:27<00:02,  3.61it/s]"
     ]
    },
    {
     "name": "stdout",
     "output_type": "stream",
     "text": [
      "epoch 91, WCSS 953.9907344240954\n"
     ]
    },
    {
     "name": "stderr",
     "output_type": "stream",
     "text": [
      " 93%|█████████▎| 93/100 [00:27<00:01,  3.62it/s]"
     ]
    },
    {
     "name": "stdout",
     "output_type": "stream",
     "text": [
      "epoch 92, WCSS 953.9853836137316\n"
     ]
    },
    {
     "name": "stderr",
     "output_type": "stream",
     "text": [
      " 94%|█████████▍| 94/100 [00:27<00:01,  3.65it/s]"
     ]
    },
    {
     "name": "stdout",
     "output_type": "stream",
     "text": [
      "epoch 93, WCSS 953.9847327651258\n"
     ]
    },
    {
     "name": "stderr",
     "output_type": "stream",
     "text": [
      " 95%|█████████▌| 95/100 [00:28<00:01,  3.63it/s]"
     ]
    },
    {
     "name": "stdout",
     "output_type": "stream",
     "text": [
      "epoch 94, WCSS 953.9879779195969\n"
     ]
    },
    {
     "name": "stderr",
     "output_type": "stream",
     "text": [
      " 96%|█████████▌| 96/100 [00:28<00:01,  3.54it/s]"
     ]
    },
    {
     "name": "stdout",
     "output_type": "stream",
     "text": [
      "epoch 95, WCSS 953.990402437647\n"
     ]
    },
    {
     "name": "stderr",
     "output_type": "stream",
     "text": [
      " 97%|█████████▋| 97/100 [00:28<00:00,  3.59it/s]"
     ]
    },
    {
     "name": "stdout",
     "output_type": "stream",
     "text": [
      "epoch 96, WCSS 953.9892396578846\n"
     ]
    },
    {
     "name": "stderr",
     "output_type": "stream",
     "text": [
      " 98%|█████████▊| 98/100 [00:29<00:00,  3.58it/s]"
     ]
    },
    {
     "name": "stdout",
     "output_type": "stream",
     "text": [
      "epoch 97, WCSS 953.9814173809998\n"
     ]
    },
    {
     "name": "stderr",
     "output_type": "stream",
     "text": [
      " 99%|█████████▉| 99/100 [00:29<00:00,  3.54it/s]"
     ]
    },
    {
     "name": "stdout",
     "output_type": "stream",
     "text": [
      "epoch 98, WCSS 953.9750662228212\n"
     ]
    },
    {
     "name": "stderr",
     "output_type": "stream",
     "text": [
      "100%|██████████| 100/100 [00:29<00:00,  3.38it/s]"
     ]
    },
    {
     "name": "stdout",
     "output_type": "stream",
     "text": [
      "epoch 99, WCSS 953.9754435730786\n",
      "Cluster centroids: [[ 0.05079666  0.0180588   0.02467367 ... -0.06648331  0.00859566\n",
      "  -0.01146762]\n",
      " [ 0.00758812  0.04291234  0.05362005 ... -0.06775615 -0.01270129\n",
      "   0.07061082]\n",
      " [ 0.04581873  0.03586245  0.01468511 ... -0.06360754  0.00997764\n",
      "  -0.00292837]\n",
      " ...\n",
      " [ 0.06650604  0.04006729  0.03205198 ... -0.08826765 -0.0026617\n",
      "   0.02305975]\n",
      " [ 0.05019992  0.04246702  0.02013573 ... -0.05161346  0.02821204\n",
      "  -0.02820733]\n",
      " [ 0.06642523  0.05003025  0.03072212 ... -0.05602994  0.01728562\n",
      "  -0.00012713]]\n",
      "Cluster labels: [7 4 3 ... 7 8 3]\n"
     ]
    },
    {
     "name": "stderr",
     "output_type": "stream",
     "text": [
      "\n"
     ]
    }
   ],
   "source": [
    "\n",
    "initial_centroids = train_embeddings[np.random.choice(train_embeddings.shape[0], 9, replace=False)]\n",
    "# Perform K-means clustering\n",
    "labels, centroids = kmeans(train_embeddings,initial_centroids, max_iterations=100)\n",
    "\n",
    "print(\"Cluster centroids:\", centroids)\n",
    "print(\"Cluster labels:\", labels)\n"
   ]
  },
  {
   "cell_type": "code",
   "execution_count": null,
   "metadata": {},
   "outputs": [
    {
     "data": {
      "text/plain": [
       "array([0, 1, 2, 3, 4, 5, 6, 7, 8], dtype=int64)"
      ]
     },
     "execution_count": 251,
     "metadata": {},
     "output_type": "execute_result"
    }
   ],
   "source": [
    "np.unique(labels)"
   ]
  },
  {
   "cell_type": "code",
   "execution_count": null,
   "metadata": {},
   "outputs": [
    {
     "data": {
      "image/png": "[encoded data removed]",
      "text/plain": [
       "<Figure size 800x600 with 1 Axes>"
      ]
     },
     "metadata": {},
     "output_type": "display_data"
    }
   ],
   "source": [
    "import numpy as np\n",
    "import matplotlib.pyplot as plt\n",
    "from sklearn.cluster import KMeans\n",
    "from sklearn.manifold import TSNE\n",
    "\n",
    "# Get cluster labels\n",
    "cluster_labels = labels\n",
    "k = 9\n",
    "# Apply t-SNE to reduce dimensionality for visualization\n",
    "tsne = TSNE(n_components=2, random_state=42)\n",
    "word_embeddings_tsne = tsne.fit_transform(train_embeddings)\n",
    "\n",
    "# Plot t-SNE visualization with cluster labels\n",
    "plt.figure(figsize=(8, 6))\n",
    "for i in range(k):\n",
    "    plt.scatter(word_embeddings_tsne[cluster_labels == i, 0], \n",
    "                word_embeddings_tsne[cluster_labels == i, 1], \n",
    "                label=f'Cluster {i+1}')\n",
    "plt.xlabel('t-SNE Dimension 1')\n",
    "plt.ylabel('t-SNE Dimension 2')\n",
    "plt.title('t-SNE Visualization of K-Means Clusters')\n",
    "plt.legend()\n",
    "plt.show()"
   ]
  },
  {
   "cell_type": "code",
   "execution_count": null,
   "metadata": {},
   "outputs": [],
   "source": [
    "song = \"\"\"\n",
    "It might seem crazy what I am 'bout to say\n",
    "Sunshine, she's here, you can take a break\n",
    "I'm a hot air balloon that could go to space\n",
    "With the air, like I don't care, baby by the way\n",
    "Huh (Because I'm happy)\n",
    "Clap along if you feel like a room without a roof\n",
    "(Because I'm happy)\n",
    "Clap along if you feel like happiness is the truth\n",
    "(Because I'm happy)\n",
    "Clap along if you know what happiness is to you\n",
    "(Because I'm happy)\n",
    "Clap along if you feel like that's what you wanna do\n",
    "Here come bad news talking this and that (Yeah)\n",
    "Well give me all you got, don't hold back (Yeah)\n",
    "Well I should probably warn you I'll be just fine (Yeah)\n",
    "No offense to you don't waste your time\n",
    "Here's why\n",
    "Clap along if you feel like a room without a roof\n",
    "(Because I'm happy)\n",
    "Clap along if you feel like happiness is the truth\n",
    "(Because I'm happy)\n",
    "Clap along if you know what happiness is to you\n",
    "(Because I'm happy)\n",
    "Clap along if you feel like that's what you wanna do\n",
    "Uh, bring me down\n",
    "Can't nothing, bring me down\n",
    "My level's too high to bring me down\n",
    "Can't nothing, bring me down, I said\n",
    "Bring me down, can't nothing\n",
    "Bring me down\n",
    "My level's too high to bring me down\n",
    "Can't nothing, bring me down, I said\n",
    "Clap along if you feel like a room without a roof\n",
    "(Because I'm happy)\n",
    "Clap along if you feel like happiness is the truth\n",
    "(Because I'm happy)\n",
    "Clap along if you know what happiness is to you\n",
    "(Because I'm happy)\n",
    "Clap along if you feel like that's what you wanna do\n",
    "Clap along if you feel like a room without a roof\n",
    "(Because I'm happy)\n",
    "Clap along if you feel like happiness is the truth\n",
    "(Because I'm happy)\n",
    "Clap along if you know what happiness is to you\n",
    "(Because I'm happy)\n",
    "Clap along if you feel like that's what you wanna do\n",
    "Uh, bring me down (Happy, happy, happy, happy)\n",
    "Can't nothing (Happy, happy, happy, happy)\n",
    "Bring me down, my level's too high\n",
    "To bring me down (Happy, happy, happy, happy)\n",
    "Can't nothing (Happy, happy, happy, happy)\n",
    "Bring me down, I said\n",
    "Clap along if you feel like a room without a roof\n",
    "(Because I'm happy)\n",
    "Clap along if you feel like happiness is the truth\n",
    "(Because I'm happy)\n",
    "Clap along if you know what happiness is to you (ayy, ayy, ayy)\n",
    "(Because I'm happy)\n",
    "Clap along if you feel like that's what you wanna do\n",
    "Clap along if you feel like a room without a roof\n",
    "(Because I'm happy)\n",
    "Clap along if you feel like happiness is the truth\n",
    "(Because I'm happy)\n",
    "Clap along if you know what happiness is to you (hey)\n",
    "(Because I'm happy)\n",
    "Clap along if you feel like that's what you wanna do\n",
    "Come on\n",
    "\"\"\""
   ]
  },
  {
   "cell_type": "code",
   "execution_count": null,
   "metadata": {},
   "outputs": [],
   "source": [
    "def predict(lyrics: str, labels: list[str]) -> str:\n",
    "    song_vector = vectorise(lyrics)[None,:]\n",
    "    return np.argsort(cosine_distance(X=song_vector ,centroids=centroids))"
   ]
  },
  {
   "cell_type": "code",
   "execution_count": null,
   "metadata": {},
   "outputs": [
    {
     "data": {
      "text/plain": [
       "array([[3, 0, 7, 5, 2, 8, 4, 6, 1]], dtype=int64)"
      ]
     },
     "execution_count": 260,
     "metadata": {},
     "output_type": "execute_result"
    }
   ],
   "source": [
    "predict(song,\"\")"
   ]
  },
  {
   "cell_type": "code",
   "execution_count": null,
   "metadata": {},
   "outputs": [
    {
     "data": {
      "text/plain": [
       "array([[ 0.05079666,  0.0180588 ,  0.02467367, ..., -0.06648331,\n",
       "         0.00859566, -0.01146762],\n",
       "       [ 0.00758812,  0.04291234,  0.05362005, ..., -0.06775615,\n",
       "        -0.01270129,  0.07061082],\n",
       "       [ 0.04581873,  0.03586245,  0.01468511, ..., -0.06360754,\n",
       "         0.00997764, -0.00292837],\n",
       "       ...,\n",
       "       [ 0.06650604,  0.04006729,  0.03205198, ..., -0.08826765,\n",
       "        -0.0026617 ,  0.02305975],\n",
       "       [ 0.05019992,  0.04246702,  0.02013573, ..., -0.05161346,\n",
       "         0.02821204, -0.02820733],\n",
       "       [ 0.06642523,  0.05003025,  0.03072212, ..., -0.05602994,\n",
       "         0.01728562, -0.00012713]])"
      ]
     },
     "execution_count": 284,
     "metadata": {},
     "output_type": "execute_result"
    }
   ],
   "source": [
    "centroids"
   ]
  },
  {
   "cell_type": "code",
   "execution_count": null,
   "metadata": {},
   "outputs": [],
   "source": [
    "closest_indices_dict = {}\n",
    "cluster_centers = centroids\n",
    "\n",
    "# Find the indices of the closest embeddings to each centroid\n",
    "for i, centroid in enumerate(cluster_centers):\n",
    "    # Calculate distances between centroid and all embeddings\n",
    "    distances = cosine_distance(train_embeddings, centroid[None, :])\n",
    "    # Sort distances and get indices of the closest 5 embeddings\n",
    "    closest_indices = np.argsort(distances.T)\n",
    "    # Store indices in dictionary\n",
    "    closest_indices_dict[f'Centroid {i}'] = closest_indices[0][0]\n"
   ]
  },
  {
   "cell_type": "code",
   "execution_count": null,
   "metadata": {},
   "outputs": [
    {
     "data": {
      "text/plain": [
       "{'Centroid 0': 41931,\n",
       " 'Centroid 1': 26223,\n",
       " 'Centroid 2': 15229,\n",
       " 'Centroid 3': 10521,\n",
       " 'Centroid 4': 42933,\n",
       " 'Centroid 5': 45718,\n",
       " 'Centroid 6': 42698,\n",
       " 'Centroid 7': 45646,\n",
       " 'Centroid 8': 25769}"
      ]
     },
     "execution_count": 301,
     "metadata": {},
     "output_type": "execute_result"
    }
   ],
   "source": [
    "closest_indices_dict"
   ]
  },
  {
   "cell_type": "code",
   "execution_count": null,
   "metadata": {},
   "outputs": [
    {
     "name": "stdout",
     "output_type": "stream",
     "text": [
      "I once loved a girl, her skin it was bronze.  \n",
      "With the innocence of a lamb, she was gentle like a fawn.  \n",
      "I courted her proudly but now she is gone,  \n",
      "Gone as the season she's taken.  \n",
      "  \n",
      "Through young summer's breeze, I stole her away  \n",
      "From her mother and sister, though close did they stay.  \n",
      "Each one of them suffering from the failures of their day,  \n",
      "With strings of guilt they tried hard to guide us.  \n",
      "  \n",
      "Of the two sisters, I loved the young.  \n",
      "With sensitive instincts, she was the creative one.  \n",
      "The constant scapegoat, she was easily undone  \n",
      "By the jealousy of others around her.  \n",
      "  \n",
      "For her parasite sister, I had no respect,  \n",
      "Bound by her boredom, her pride to protect.  \n",
      "Countless visions of the other she'd reflect  \n",
      "As a crutch for her scenes and her society.  \n",
      "  \n",
      "Myself, for what I did, I cannot be excused,  \n",
      "The changes I was going through can't even be used,  \n",
      "For the lies that I told her in hopes not to lose  \n",
      "The could-be dream-lover of my lifetime.  \n",
      "  \n",
      "With unknown consciousness, I possessed in my grip  \n",
      "A magnificent mantelpiece, though its heart being chipped,  \n",
      "Noticing not that I'd already slipped  \n",
      "To a sin of love's false security.  \n",
      "  \n",
      "From silhouetted anger to manufactured peace,  \n",
      "Answers of emptiness, voice vacancies,  \n",
      "Till the tombstones of damage read me no questions but, \"Please,  \n",
      "What's wrong and what's exactly the matter?\"  \n",
      "  \n",
      "And so it did happen like it could have been foreseen,  \n",
      "The timeless explosion of fantasy's dream.  \n",
      "At the peak of the night, the king and the queen  \n",
      "Tumbled all down into pieces.  \n",
      "  \n",
      "\"The tragic figure!\" her sister did shout,  \n",
      "\"Leave her alone, God damn you, get out!\"  \n",
      "And I in my armor, turning about  \n",
      "And nailing her to the ruins of her pettiness.  \n",
      "  \n",
      "Beneath a bare light bulb the plaster did pound  \n",
      "Her sister and I in a screaming battleground.  \n",
      "And she in between, the victim of sound,  \n",
      "Soon shattered as a child 'neath her shadows.  \n",
      "  \n",
      "All is gone, all is gone, admit it, take flight.  \n",
      "I gagged twice, doubled, tears blinding my sight.  \n",
      "My mind it was mangled, I ran into the night  \n",
      "Leaving all of love's ashes behind me.  \n",
      "  \n",
      "The wind knocks my window, the room it is wet.  \n",
      "The words to say I'm sorry, I haven't found yet.  \n",
      "I think of her often and hope whoever she's met  \n",
      "Will be fully aware of how precious she is.  \n",
      "  \n",
      "Ah, my friends from the prison, they ask unto me,  \n",
      "\"How good, how good does it feel to be free?\"  \n",
      "And I answer them most mysteriously,  \n",
      "\"Are birds free from the chains of the skyway?\"\n",
      "\n",
      "\n"
     ]
    }
   ],
   "source": [
    "print(benchmark_df.loc[closest_indices_dict[\"Centroid 8\"]][\"text\"])"
   ]
  },
  {
   "cell_type": "code",
   "execution_count": null,
   "metadata": {},
   "outputs": [],
   "source": [
    "['Anticipation' 'Sadness' 'Fear']\n",
    "{\n",
    "    0:\"Anticipation\",\n",
    "    1:\"Sadness\",\n",
    "    2:\n",
    "\n",
    "\n",
    "}"
   ]
  },
  {
   "cell_type": "code",
   "execution_count": null,
   "metadata": {},
   "outputs": [
    {
     "name": "stdout",
     "output_type": "stream",
     "text": [
      "There was a boy who came into this world  \n",
      "At the hands of a holy woman in a holy place  \n",
      "He wore a red coat and walked a bulldog  \n",
      "Saw them reflected in the mirror of the lakes  \n",
      "Lived in the shadow of the mountains  \n",
      "With the smells of disinfectant, dusty old leather  \n",
      "And the polished wood of his bed  \n",
      "No more than a baby feeding swans on the river  \n",
      "Holding the hands of his mother  \n",
      "And the wax paper bag of yesterday's bread  \n",
      "  \n",
      "And his father on the other side of the world  \n",
      "On the ships railings and some far away tide  \n",
      "With the silent dry tear of home thoughts from abroad  \n",
      "In his far away eyes  \n",
      "In his far away eyes  \n",
      "  \n",
      "The smell of the wax on the wooden floor  \n",
      "Mixture of polish and soap  \n",
      "No children to fear or to play with  \n",
      "Rows of empty hooks for the coats  \n",
      "An upright piano and the boys in the choir  \n",
      "Still remind him of just before he was born  \n",
      "Remind him of just before he was breathing  \n",
      "Strange misty visions of God  \n",
      "Turn the cities into families  \n",
      "Into villages of souls  \n",
      "Hovering in the air while they're sleeping  \n",
      "With their houses invisible  \n",
      "Chase the moon between the buildings  \n",
      "Running as fast as I could run  \n",
      "Send to me the ghosts of Christmas  \n",
      "Whispering, \"You're the only one\"  \n",
      "  \n",
      "And ever since I was a boy  \n",
      "I never felt that I belonged  \n",
      "Like everything they did to me  \n",
      "Was an experiment to see  \n",
      "How I would cope with the illusion  \n",
      "In which direction would I jump  \n",
      "Would I do it all the same  \n",
      "As the actors in the game  \n",
      "Or would I spit it back at them  \n",
      "And not get caught up in their rules  \n",
      "And live according to my own  \n",
      "And not be used, not be used  \n",
      "To find the fundamental truths  \n",
      "It was going to take some time  \n",
      "Thirty five summers down the line  \n",
      "The wisdom of each passing year  \n",
      "Seems to serve only to confuse  \n",
      "Seems to serve only to confuse  \n",
      "  \n",
      "Daddy came out the navy and took us away  \n",
      "To his dirty grey home town  \n",
      "And he worked down on a coal mine for National Service  \n",
      "So that he could be around  \n",
      "There was a magical purple in the chrome of the exhaust  \n",
      "Of his Triumph motor bike  \n",
      "And a warmth of oil and metal and the thrill of the hard corner  \n",
      "Holding tight  \n",
      "  \n",
      "From the horizon  \n",
      "Came home from the Navy to the mine  \n",
      "From the horizon  \n",
      "To buried alive  \n",
      "Took his dream underground  \n",
      "Buried his treasure in his faraway eyes  \n",
      "  \n",
      "And one day as the boy lay sleeping in the sunshine  \n",
      "Of a half remembered afternoon  \n",
      "A cloud of bees with no particular aim, and no brain  \n",
      "Found the boy, decided that his time had come  \n",
      "Came down out of the sky  \n",
      "Stung him in the face  \n",
      "Again and again  \n",
      "Blue pain  \n",
      "Screaming like baptism  \n",
      "Intravenous, Jesus!  \n",
      "Like being chosen  \n",
      "Blue pain from something with no brain  \n",
      "I can't explain  \n",
      "It's happening again  \n",
      "It's happening again  \n",
      "  \n",
      "Oh Mummy, Daddy, will you sit a while with me  \n",
      "Oh Mummy, Daddy, will you jog my memory  \n",
      "Tell me tall tales of Montego Bay  \n",
      "Table mountain, flying fish, banana spiders, pots of paint  \n",
      "And the sun on the equator  \n",
      "Setting like an ember thrown to deep water  \n",
      "From crimson to black  \n",
      "But coming back  \n",
      "Tomorrow  \n",
      "On the horizon  \n",
      "  \n",
      "The blue pain  \n",
      "Fades to a point where it doesn't fade  \n",
      "It stayed  \n",
      "Blue  \n",
      "Stirred his red coat heart to this strange engine  \n",
      "This love  \n",
      "  \n",
      "This love  \n",
      "This inconvenient, blind, blood-diamond  \n",
      "This puzzle  \n",
      "I don't understand  \n",
      "That knows no faith  \n",
      "And tries and fails  \n",
      "And tries again  \n",
      "Stares at the sea  \n",
      "The night's dark deep  \n",
      "For one last time  \n",
      "And bleeds  \n",
      "And bleeds  \n",
      "And dies for you  \n",
      "And lies  \n",
      "And is to blame  \n",
      "And is ashamed  \n",
      "And is not the same  \n",
      "And is true  \n",
      "And is true\n",
      "\n",
      "\n",
      "****************************\n",
      "I cross the green mountain  \n",
      "I sit by the stream  \n",
      "Heaven blazing in my head  \n",
      "I, I dreamt a monstrous dream  \n",
      "  \n",
      "Something came up  \n",
      "Out of the sea  \n",
      "Swept through the land of  \n",
      "The rich and the free  \n",
      "  \n",
      "I look into the eyes  \n",
      "Of my merciful friend  \n",
      "And then I ask myself  \n",
      "Is this the end?  \n",
      "  \n",
      "Memories linger  \n",
      "Sad yet sweet  \n",
      "And I think of the souls  \n",
      "In heaven who will be  \n",
      "  \n",
      "Alters are burning  \n",
      "The flames far and wide  \n",
      "The fool has crossed over  \n",
      "From the other side  \n",
      "  \n",
      "They tip their caps  \n",
      "From the top of the hill  \n",
      "You can feel them come  \n",
      "All brave blood do spill  \n",
      "  \n",
      "Along the dim  \n",
      "Atlantic line  \n",
      "The rapper's land  \n",
      "Lasts for miles behind  \n",
      "  \n",
      "The lights coming forward  \n",
      "And the streets are broad  \n",
      "All must yield  \n",
      "To the avenging God  \n",
      "  \n",
      "The world is old  \n",
      "The world is great  \n",
      "Lessons of life  \n",
      "Can't be learned in a day  \n",
      "  \n",
      "I watch and I wait  \n",
      "And I listen while I stand  \n",
      "To the music that comes  \n",
      "From a far better land  \n",
      "  \n",
      "Close the eyes of our captain  \n",
      "Peace may he know  \n",
      "His long night is done  \n",
      "The great leader is laid low  \n",
      "  \n",
      "He was ready to fall  \n",
      "He was quick to defend  \n",
      "Killed outright he was  \n",
      "By his own men  \n",
      "  \n",
      "It's the last day's last hour  \n",
      "Of the last happy year  \n",
      "I feel that the unknown  \n",
      "The world is so dear  \n",
      "  \n",
      "Pride will vanish  \n",
      "And glory will rot  \n",
      "But virtue lives  \n",
      "And cannot be forgot  \n",
      "  \n",
      "The bells  \n",
      "Of evening have rung  \n",
      "There's blasphemy  \n",
      "On the end of the tongue  \n",
      "  \n",
      "Let them say that I walked  \n",
      "In fair nature's light  \n",
      "And that I was loyal  \n",
      "To truth and to right  \n",
      "  \n",
      "Serve God and meet your full  \n",
      "Look upward beyond  \n",
      "Beyond the darkness that masks  \n",
      "The surprises of dawn  \n",
      "  \n",
      "In the deep green grasses  \n",
      "And the blood stained woods  \n",
      "They never dreamed of surrendering  \n",
      "They fell where they stood  \n",
      "  \n",
      "Stars fell over Alabama  \n",
      "I saw each star  \n",
      "You're walking in dreams  \n",
      "Whoever you are  \n",
      "  \n",
      "Chilled are the skies  \n",
      "Keen is the frost  \n",
      "The ground's froze hard  \n",
      "And the morning is lost  \n",
      "  \n",
      "A letter to mother  \n",
      "Came today  \n",
      "Gunshot wound to the breast  \n",
      "Is what it did say  \n",
      "  \n",
      "But he'll be better soon  \n",
      "He's in a hospital bed  \n",
      "But he'll never be better  \n",
      "He's already dead  \n",
      "  \n",
      "I'm ten miles outside the city  \n",
      "And I'm lifted away  \n",
      "In an ancient light  \n",
      "That is not of day  \n",
      "  \n",
      "They were calm, they were gloomed  \n",
      "We knew them all too well  \n",
      "We loved each other more than  \n",
      "We ever dared to tell\n",
      "\n",
      "\n",
      "****************************\n",
      "If you see me coming up an open road  \n",
      "With an empty glass and a single rose  \n",
      "Take a turn towards the shifting light  \n",
      "There you'll see my shadow lost in the night  \n",
      "  \n",
      "Endless flight has no directions now  \n",
      "To a coward's kiss from a hero's vow  \n",
      "If I could find the words, I'd pick up the phone  \n",
      "If I was half a man, I wouldn't sleep alone  \n",
      "  \n",
      "[Chorus]  \n",
      "Send me no more angels on a restless wind  \n",
      "All I ever wanted were the simple things  \n",
      "If a love like ours means anything  \n",
      "Show me a sign, honey, dip your wings  \n",
      "  \n",
      "Oh you shook your head like a wild horse  \n",
      "Beneath the southern cross in the frozen North  \n",
      "Oh when our bodies touched on that burning beach  \n",
      "I could have sworn that heaven was within our reach  \n",
      "  \n",
      "[Chorus]  \n",
      "  \n",
      "Time just crawls here behind my eyes  \n",
      "If the scar heals, can our love survive  \n",
      "Life's only purpose seems so distant now  \n",
      "If there's a chance at all won't you show me how  \n",
      "  \n",
      "[Chorus]\n",
      "\n",
      "\n",
      "****************************\n",
      "Dustland fairytale beginning  \n",
      "Just another white trash  \n",
      "County kiss  \n",
      "Sixty one  \n",
      "Long brown hair and foolish eyes  \n",
      "He looks just like you want him to  \n",
      "Some kind of slick chrome American prince  \n",
      "A blue jean serenade  \n",
      "And Moon River what'd you do to me  \n",
      "And I don't believe you  \n",
      "  \n",
      "Saw Cinderella in a party dress but  \n",
      "She was looking for a night gown  \n",
      "I saw the devil wrapping up his hands  \n",
      "He's getting ready for the show down  \n",
      "I saw the minute that I turn away  \n",
      "I got my money on a pond tonight  \n",
      "  \n",
      "Change came in disguised of revelation  \n",
      "Set his soul on fire  \n",
      "She said she'd always knew he'd come around  \n",
      "And the decades disappear like sinking  \n",
      "Ships we persevere god gives us hope  \n",
      "But we still fear  \n",
      "When we don't know  \n",
      "The mind is poison castle in the sky  \n",
      "Sit stranded vandalized  \n",
      "The draw bridge is closing  \n",
      "  \n",
      "Saw Cinderella in a party dress but  \n",
      "She was looking for a night gown  \n",
      "I saw the devil wrapping up his hands  \n",
      "He's getting ready for the show down  \n",
      "I saw the ending were they turned the page  \n",
      "I threw my money and I ran away  \n",
      "Straight to the Valley of the great divide  \n",
      "  \n",
      "And were the dreams roll high  \n",
      "And were the wind don't blow  \n",
      "Out here the good girls die  \n",
      "And the sky won't snow  \n",
      "Out here the bird don't sing  \n",
      "Out here the field don't grow  \n",
      "Out here the bell don't ring  \n",
      "Out here the bell don't ring  \n",
      "Out here the good girls die  \n",
      "  \n",
      "Now Cinderella don't you go to sleep  \n",
      "Its such a bitter form of refuge  \n",
      "Ah don't you know the kingdoms under siege  \n",
      "And everybody needs you  \n",
      "Is there still magic in the midnight sun  \n",
      "Or did you leave it back in sixty-one  \n",
      "In the of the cadence in the young mans eyes  \n",
      "And were the dreams roll high\n",
      "\n",
      "\n",
      "****************************\n",
      "The light  \n",
      "In this place  \n",
      "Is really bad  \n",
      "Like being  \n",
      "In the bottom  \n",
      "Of a stream  \n",
      "Any minute now  \n",
      "I'm expecting  \n",
      "To wake up  \n",
      "From a dream  \n",
      "Miss so much  \n",
      "The softest touch  \n",
      "Like the grave  \n",
      "Of some child child  \n",
      "Who neither wept  \n",
      "Nor smiled  \n",
      "I'm hiding my faith  \n",
      "In the rain  \n",
      "I've been  \n",
      "Dreamin' of you  \n",
      "That's all I do  \n",
      "And it's  \n",
      "Driving me insane  \n",
      "  \n",
      "Somewhere dawn  \n",
      "Is breaking  \n",
      "Light is streaking  \n",
      "Across the floor  \n",
      "Church bells  \n",
      "Are ringing  \n",
      "I wonder who  \n",
      "They're ringing for  \n",
      "Travel under any star  \n",
      "You'll see me  \n",
      "Wherever you are  \n",
      "  \n",
      "The shadowy past  \n",
      "Is so vague and so vast  \n",
      "I'm sleeping  \n",
      "In the balance of pain  \n",
      "I've been dreamin' of you  \n",
      "That's all I do  \n",
      "But it's  \n",
      "Driving me insane  \n",
      "  \n",
      "Maybe they'll get me  \n",
      "Maybe they won't  \n",
      "But whatever  \n",
      "It won't be tonight  \n",
      "I wish your hand  \n",
      "Was in mine right now  \n",
      "We could go  \n",
      "Where the moon is wide  \n",
      "  \n",
      "For years  \n",
      "They had me  \n",
      "Locked in a cage  \n",
      "Then they threw me  \n",
      "Onto the stage  \n",
      "Somethings  \n",
      "Just last longer  \n",
      "Then you  \n",
      "Thought they would  \n",
      "And they never  \n",
      "Ever explain  \n",
      "I'm dreamin' of you  \n",
      "That's all I do  \n",
      "And it's  \n",
      "Driving me insane  \n",
      "  \n",
      "Well  \n",
      "I eat when I'm hungry  \n",
      "Drink when I'm dry  \n",
      "Live my life  \n",
      "On the square  \n",
      "Even if the flesh  \n",
      "Falls off my face  \n",
      "It won't matter as long  \n",
      "As you're there  \n",
      "  \n",
      "Feel like  \n",
      "A ghost in love  \n",
      "Underneath  \n",
      "The heavens above  \n",
      "Feel further away  \n",
      "Then I ever did before  \n",
      "Feel further  \n",
      "Than I can take  \n",
      "Dreamin' of you  \n",
      "That's all I do  \n",
      "But it's  \n",
      "Driving me insane  \n",
      "  \n",
      "Everything in the way  \n",
      "Is so shy like the day  \n",
      "In queer and unusual form  \n",
      "Spirals of golden haze here  \n",
      "In there in a blaze  \n",
      "Like beams of light  \n",
      "In a star  \n",
      "  \n",
      "Maybe you're here  \n",
      "Or maybe you weren't  \n",
      "Maybe you  \n",
      "Touched somebody  \n",
      "And got burned  \n",
      "The silent sun  \n",
      "Has got me on the run  \n",
      "Burning a hole  \n",
      "In my brain  \n",
      "I'm dreamin' of you  \n",
      "That's all I do  \n",
      "But it's  \n",
      "Driving me insane\n",
      "\n",
      "\n",
      "****************************\n",
      "I sit upon the bed in my rented room and watch  \n",
      "The broken shadows from the street lights playing tag upon the wall  \n",
      "Down the street a neon light is reaching out to mock the night  \n",
      "And all the little fears that darkness brings.  \n",
      "  \n",
      "The smoke of my last cigarette still hangs upon the air and yet  \n",
      "I reach to light another from the pack that's nearly gone  \n",
      "And the dawn seems a million miles away but all the while  \n",
      "  \n",
      "Down in the trainyard the graveyard shift had just come on  \n",
      "And turned their ragged collars against the drizzling rain  \n",
      "Back and forth the yard engine goes about the pulling out  \n",
      "The railroad cars that soon will be making up the train  \n",
      "That's gonna be come the morning.  \n",
      "  \n",
      "I wonder if I ever cross the mind of someone  \n",
      "That I might have learned to love  \n",
      "Had I ever chose to try  \n",
      "Or did she fail to think about me in the lonely nights without me  \n",
      "Was she the last to care if I should live or die.  \n",
      "  \n",
      "I've been a nameless ghost that rides the empty wave of memory  \n",
      "In the dark deserted closets of the mind of someone else  \n",
      "And now I'm a ghost unto myself but still I know.  \n",
      "  \n",
      "And now I cross the room and stand before the open window  \n",
      "And reach out to touch the rain that's slowly falling on my hand  \n",
      "The pavement hot and cold below looks back at me and seems to know  \n",
      "It ends without a tear without a smile.  \n",
      "  \n",
      "And in those last brief seconds could it be I was mistaken  \n",
      "Or did I hear a voice somewhere that softly called my name  \n",
      "Or was it just a whistle of a train for all the while  \n",
      "  \n",
      "Down in the trainyard the graveyard shift had just gone home  \n",
      "To hang their clothes to dry them bar their doors against the rain  \n",
      "The yard engine breathe a sigh Then pulls a last grey coal car by  \n",
      "Then moves aside to look with pride Upon the new born train  \n",
      "That I won't take come the morning.  \n",
      "  \n",
      "I wonder if I ever cross the mind of someone  \n",
      "That I might have learned to love  \n",
      "Had I ever chose to try  \n",
      "Or did she fail to think about me in the lonely nights without me  \n",
      "Was she the last to care if I should live or die...\n",
      "\n",
      "\n",
      "****************************\n",
      "It all began with the bright light  \n",
      "The bright light and the noise  \n",
      "The chaos of the senses and the scream of desire  \n",
      "  \n",
      "Touching and being touched  \n",
      "A million loose ends to tie up  \n",
      "Ticking of the clock and the cradle rock  \n",
      "  \n",
      "The colours stand still  \n",
      "And then they move around  \n",
      "Comin' in and out of focus upside down  \n",
      "  \n",
      "Empty winter trees  \n",
      "How space feels  \n",
      "Love of the soft ... the flowers and the sky  \n",
      "  \n",
      "One fine day  \n",
      "The chaos subsides  \n",
      "Bleeds into awareness  \n",
      "And a lifetime of surprise  \n",
      "  \n",
      "The beauty of your mothers eyes  \n",
      "The pain when you fall  \n",
      "You drink it in and marvel at it all  \n",
      "But you never really figure it out  \n",
      "  \n",
      "You get used to it  \n",
      "  \n",
      "The babble of the family  \n",
      "And the dumb TV  \n",
      "Roar of the traffic and the thunder of jets  \n",
      "  \n",
      "Chemicals in the water  \n",
      "Drugs in the food  \n",
      "The heat of the kitchen and the beat of the system  \n",
      "  \n",
      "The attitude of authority  \n",
      "The laws and the rules  \n",
      "Hit me square in the face, first morning at school  \n",
      "  \n",
      "The heroes and the zeroes  \n",
      "The first love of my life  \n",
      "When to kiss and to kick and to keep your head down  \n",
      "When they're choosing the sides  \n",
      "  \n",
      "I was never any good at it  \n",
      "I was terrified most of the time  \n",
      "I never got over it  \n",
      "  \n",
      "I got used to it  \n",
      "  \n",
      "Alone in the city at seventeen  \n",
      "With the hollow and the lonely  \n",
      "The drowning and the drowned  \n",
      "I was made to feel worthless  \n",
      "The wretched and the mean  \n",
      "Beat me up like a weapon I can't run away from or find a way round  \n",
      "  \n",
      "Holdin' on, holdin' on  \n",
      "  \n",
      "The greed and the missiles  \n",
      "Exploding somewhere every day  \n",
      "Hideous dark secrets under the sea and in holes in the ground  \n",
      "  \n",
      "The cold war's gone  \n",
      "But those bastards'll find us another one  \n",
      "They're here to protect you, don't you know?  \n",
      "So get used to it  \n",
      "Get used to it!  \n",
      "  \n",
      "The clash of religions  \n",
      "And the loaded prayers  \n",
      "Information  \n",
      "The face of starvation and the state of the nation  \n",
      "  \n",
      "The sense that it's useless  \n",
      "And the fear to try  \n",
      "Not believing the leaders, the media that feed us  \n",
      "Living with the big lie  \n",
      "  \n",
      "You get used to it  \n",
      "Get used to it!  \n",
      "It's okay, I got used to it\n",
      "\n",
      "\n",
      "****************************\n",
      "Gonna lay my burden down  \n",
      "Lay my body in the ground  \n",
      "Cold clay against my skin  \n",
      "But I don't care at all  \n",
      "  \n",
      "Can't seem to find my piece of mind  \n",
      "So with the earth I'll lay entwined  \n",
      "Six feet underground  \n",
      "My feet are warm and dry  \n",
      "  \n",
      "When I get to the other side  \n",
      "I'll put your picture way up high  \n",
      "But I'm not coming back to you  \n",
      "It's just too far  \n",
      "  \n",
      "If I was cast off on the sea  \n",
      "Would you come and look for me  \n",
      "Or would you just let me sink  \n",
      "Beneath the waves so blue  \n",
      "  \n",
      "What if I had learned to fly  \n",
      "Fly all night till day drew nigh  \n",
      "Touch down upon a branch and  \n",
      "Scan the crowd for you  \n",
      "  \n",
      "When I touch my feet on the land  \n",
      "I'll kiss your lips and take you in  \n",
      "But you know I'm not here to stay  \n",
      "It's just too far  \n",
      "  \n",
      "Darling can't you hear me cry  \n",
      "My bones are broke  \n",
      "My tongue is tied  \n",
      "The moon is swaying back and forth  \n",
      "Against the navy sky  \n",
      "Is all I can see  \n",
      "My body is trembling on my knees  \n",
      "Just have a little mercy on me  \n",
      "Run away and hide  \n",
      "  \n",
      "When I sleep the angels sing  \n",
      "But I cannot hear a thing  \n",
      "Eyes close  \n",
      "Dreaming of the better days gone by  \n",
      "  \n",
      "When I wake the trumpets play  \n",
      "And I'm standing at the gates  \n",
      "Fall down and joy  \n",
      "I know my race has just been won  \n",
      "  \n",
      "When I was young my momma would say  \n",
      "Well life is hard, but that's O.K.  \n",
      "If you can make it through the day  \n",
      "It's not that far  \n",
      "No, it's not that far\n",
      "\n",
      "\n",
      "****************************\n",
      "[Rap by Knowdaverbs:]  \n",
      "I remember begging my mom for these Z. Cavarricci's  \n",
      "With a striped genera shirt just to rock with these brutini's  \n",
      "I begged and I begged, of course she said no  \n",
      "So I committed to cutting grass just to conjour up the dough  \n",
      "With a little extra change I'll cut a slope and a fade  \n",
      "I'll be the freshest of the men in the midst of ninth grade  \n",
      "It's crazy how we place these small things as important  \n",
      "While the monument's reminding us of washed up Jordan's  \n",
      "Rivers that is, not the be -ball player, told the mountains to  \n",
      "Move and now there's no more Himalayas  \n",
      "Had to set the devil straight since he was highly overrated  \n",
      "Spoke and mountains moved and then the Alps disintegrated  \n",
      "Racing through the fire I perspire like He times me  \n",
      "And cross the finish line to realize that He's refined me  \n",
      "Can't wait for morning breaks as joy turns from sorrow  \n",
      "Busting victory laps around mount Kilimajarro  \n",
      "Oh, we've made it this far and there's no turning back now  \n",
      "With all of the joy deep inside  \n",
      "We'll be praising His name, clapping hands while we're singing  \n",
      "And dancing 'til the morning light, that's right, that's right  \n",
      "Weight upon my shoulders, held a burden and they thought  \n",
      "I'd never make it over, so I had to prove them wrong  \n",
      "I never stopped believing, not a doubt in my mind  \n",
      "The blessings I'm receiving, have cast the fears aside, yeah  \n",
      "Wasn't easy, I got to let you know, had a lot to overcome  \n",
      "But He loves me, he showed me the way to go  \n",
      "Feels like life has just begun  \n",
      "  \n",
      "[Rap by Coffee:]  \n",
      "I'm a scream from the rooftops, freckled face figment, light  \n",
      "Complected pigment, least expected remnant, over flooding  \n",
      "Supercharged enlarged freshly gutted, surgically removed was  \n",
      "The flesh Jesus cut it. Was allotted when I got it, most  \n",
      "Happiest, most joyful, vibrant, vibrating, dance around  \n",
      "Illustrating. My matrix, a labyrinth, a maze, a holographic image,  \n",
      "No end to my phonographic limits. If you've seen it once you've seen  \n",
      "It twice, propelling, stopping swelling by applying bags of ice  \n",
      "I'm open, before receiving Christ in darkness groping, Proverbs 4  \n",
      "The focus of the diagnosis spoken made the decision to collision  \n",
      "With incision self division multiplying and relying, sinful dying  \n",
      "Cling to vision thank God in all I do, uh-uh, thank God in all I do  \n",
      "Can't entrap me and I'm happy born anew  \n",
      "Won't be easy, I've got to let you know  \n",
      "There's a lot to overcome  \n",
      "But He loves you, He'll show you the way to go  \n",
      "You will feel like life has just begun  \n",
      "  \n",
      "[Rap by Bonified:]  \n",
      "I got to keep moving and never carry the weight  \n",
      "Trying to do it myself instead of walking in faith  \n",
      "Leaving the rest to Him, giving my best to Him  \n",
      "And put my flesh to death without a breath to take  \n",
      "Had to battle the beats and overcame defeat  \n",
      "Another factor of the seven from the garden of Eden  \n",
      "Bonafied a true survivor of the wilderness  \n",
      "Blessed beyond I gotta move on I gotta move on  \n",
      "If you want to dance with me  \n",
      "Now's your chance to be totally set free  \n",
      "If you're in the groove  \n",
      "And you know God is seeing you through  \n",
      "Better make your move\n",
      "\n",
      "\n",
      "****************************\n",
      "May I whisper in your ear  \n",
      "From my heart so you'll clearly hear...  \n",
      "There are people so dear...  \n",
      "They're like children...  \n",
      "Naked in a cold world...  \n",
      "Beautiful children  \n",
      "In an old world...  \n",
      "  \n",
      "May I take you away  \n",
      "From the evils of today  \n",
      "To the dreams of tomorrow.  \n",
      "You know that heaven...  \n",
      "Has no sorrow.  \n",
      "You know that heaven...  \n",
      "Has no tomorrow.  \n",
      "  \n",
      "Hear the sound of the magic drums...  \n",
      "Hearts are beating for the sun...  \n",
      "Sending evil on the run...  \n",
      "Now watch the wind...  \n",
      "  \n",
      "Look over yonder...  \n",
      "Here comes some news...  \n",
      "Coming down like lightning...  \n",
      "Straight for me and you.  \n",
      "People of destruction  \n",
      "Your time is out of date...  \n",
      "People who's living crooked,  \n",
      "Better start getting straight.  \n",
      "  \n",
      "I've been through some changes,  \n",
      "A whole lot of re-arranges...  \n",
      "Been through some ups and downs,  \n",
      "And whole lot of turn arounds.  \n",
      "I been on the shelf and even killed myself...  \n",
      "1, 000 times ago and maybe 1, 000  \n",
      "Times more.  \n",
      "  \n",
      "She said she comes from ice land...  \n",
      "I told her I was from the west.  \n",
      "She took me to the snow capped mountains...  \n",
      "And then she put me through the test...  \n",
      "We walked across the glacier,  \n",
      "The horses stayed behind...  \n",
      "And as we laid between the  \n",
      "Frozen vallies we kissed  \n",
      "For the very first time.  \n",
      "And now we're stuck together.  \n",
      "  \n",
      "It was too long ago.  \n",
      "But it seems like... Years ago...  \n",
      "Since I felt the warm hello of the sun.  \n",
      "Lately things seem a little colder...  \n",
      "The wind, it seems to get a little bolder.  \n",
      "  \n",
      "Forget of my name  \n",
      "Remember it only as a hand shake,  \n",
      "Introduction to my belief which is god.  \n",
      "Ride instead the waves of my interpreture,  \n",
      "Music, sound  \n",
      "Hynotic if you choose  \n",
      "But truth and life  \n",
      "Regardless of your questionable timid compromises  \n",
      "Which I intend to erase.  \n",
      "Which I will erase without hint of reward  \n",
      "As I am only a messenger  \n",
      "And you a sheep in process of evolution  \n",
      "Almost at death with yourself  \n",
      "And on the staircase of birth.  \n",
      "Soon you may almost forget the smell of your family...\n",
      "\n",
      "\n",
      "****************************\n"
     ]
    }
   ],
   "source": [
    "for s in benchmark_df.loc[closest_indices_dict[\"Centroid 2\"]][\"text\"][:10]:\n",
    "    print(s)\n",
    "    print(\"****************************\")"
   ]
  },
  {
   "cell_type": "code",
   "execution_count": null,
   "metadata": {},
   "outputs": [],
   "source": [
    "embeddings = np.load(\"../embeddings/emotions_embeddings_v1.npy\")\n",
    "labels = np.array(\n",
    "            [\n",
    "                \"Calmness\",\n",
    "                \"Sadness\",\n",
    "                \"Power\",\n",
    "                \"Tension\",\n",
    "                \"Amazement\",\n",
    "                \"Solemnity\",\n",
    "                \"Tenderness\",\n",
    "                \"Joyful activation\",\n",
    "                \"Nostalgia\",\n",
    "            ])"
   ]
  },
  {
   "cell_type": "code",
   "execution_count": null,
   "metadata": {},
   "outputs": [
    {
     "data": {
      "text/plain": [
       "array([[4, 5, 6, 0, 1, 8, 7, 2, 3],\n",
       "       [7, 2, 3, 4, 5, 6, 0, 1, 8],\n",
       "       [8, 0, 1, 4, 5, 6, 7, 2, 3],\n",
       "       [0, 1, 8, 4, 5, 6, 2, 3, 7],\n",
       "       [0, 1, 8, 4, 5, 6, 7, 2, 3],\n",
       "       [7, 2, 3, 4, 5, 6, 8, 0, 1],\n",
       "       [4, 5, 6, 0, 1, 8, 7, 2, 3],\n",
       "       [0, 1, 8, 4, 5, 6, 2, 3, 7],\n",
       "       [0, 1, 8, 4, 5, 6, 2, 3, 7]], dtype=int64)"
      ]
     },
     "execution_count": 277,
     "metadata": {},
     "output_type": "execute_result"
    }
   ],
   "source": [
    "np.argsort(cosine_distance(centroids, embeddings))"
   ]
  },
  {
   "cell_type": "code",
   "execution_count": null,
   "metadata": {},
   "outputs": [],
   "source": [
    "print(benchmark_df.loc[closest_indices_dict[\"Centroid 8\"]][\"text\"])"
   ]
  },
  {
   "cell_type": "code",
   "execution_count": null,
   "metadata": {},
   "outputs": [],
   "source": [
    "mapping = {}\n",
    "for i, l in enumerate(labels[np.argsort(cosine_distance(centroids, embeddings), axis=1)[:, :4]]):\n",
    "    mapping[i] = list(l)"
   ]
  },
  {
   "cell_type": "code",
   "execution_count": null,
   "metadata": {},
   "outputs": [],
   "source": []
  },
  {
   "cell_type": "code",
   "execution_count": 319,
   "metadata": {},
   "outputs": [
    {
     "data": {
      "text/plain": [
       "{0: ['Amazement', 'Solemnity', 'Tenderness', 'Calmness'],\n",
       " 1: ['Joyful activation', 'Power', 'Tension', 'Amazement'],\n",
       " 2: ['Nostalgia', 'Calmness', 'Sadness', 'Amazement'],\n",
       " 3: ['Calmness', 'Sadness', 'Nostalgia', 'Amazement'],\n",
       " 4: ['Calmness', 'Sadness', 'Nostalgia', 'Amazement'],\n",
       " 5: ['Joyful activation', 'Power', 'Tension', 'Amazement'],\n",
       " 6: ['Amazement', 'Solemnity', 'Tenderness', 'Calmness'],\n",
       " 7: ['Calmness', 'Sadness', 'Nostalgia', 'Amazement'],\n",
       " 8: ['Calmness', 'Sadness', 'Nostalgia', 'Amazement']}"
      ]
     },
     "execution_count": 319,
     "metadata": {},
     "output_type": "execute_result"
    }
   ],
   "source": [
    "mapping"
   ]
  },
  {
   "cell_type": "code",
   "execution_count": 266,
   "metadata": {},
   "outputs": [
    {
     "data": {
      "text/html": [
       "<div>\n",
       "<style scoped>\n",
       "    .dataframe tbody tr th:only-of-type {\n",
       "        vertical-align: middle;\n",
       "    }\n",
       "\n",
       "    .dataframe tbody tr th {\n",
       "        vertical-align: top;\n",
       "    }\n",
       "\n",
       "    .dataframe thead th {\n",
       "        text-align: right;\n",
       "    }\n",
       "</style>\n",
       "<table border=\"1\" class=\"dataframe\">\n",
       "  <thead>\n",
       "    <tr style=\"text-align: right;\">\n",
       "      <th></th>\n",
       "      <th>artist</th>\n",
       "      <th>song</th>\n",
       "      <th>link</th>\n",
       "      <th>text</th>\n",
       "    </tr>\n",
       "  </thead>\n",
       "  <tbody>\n",
       "    <tr>\n",
       "      <th>41931</th>\n",
       "      <td>LL Cool J</td>\n",
       "      <td>I Need Love</td>\n",
       "      <td>/l/ll+cool+j/i+need+love_20081043.html</td>\n",
       "      <td>When I'm alone in my room  \\r\\nSometimes I sta...</td>\n",
       "    </tr>\n",
       "    <tr>\n",
       "      <th>26960</th>\n",
       "      <td>Cat Stevens</td>\n",
       "      <td>Foreigner Suite</td>\n",
       "      <td>/c/cat+stevens/foreigner+suite_20028113.html</td>\n",
       "      <td>There are no words, I can use  \\r\\nBecause the...</td>\n",
       "    </tr>\n",
       "    <tr>\n",
       "      <th>54880</th>\n",
       "      <td>Vanilla Ice</td>\n",
       "      <td>I Love You</td>\n",
       "      <td>/v/vanilla+ice/i+love+you_20143680.html</td>\n",
       "      <td>[Verse 1]  \\r\\nGirl, I keep thinkin' of how I ...</td>\n",
       "    </tr>\n",
       "    <tr>\n",
       "      <th>13192</th>\n",
       "      <td>Modern Talking</td>\n",
       "      <td>No. 1 Hit Medley</td>\n",
       "      <td>/m/modern+talking/no+1+hit+medley_20666841.html</td>\n",
       "      <td>Deep in my heart - there's a fire - a burning ...</td>\n",
       "    </tr>\n",
       "    <tr>\n",
       "      <th>9393</th>\n",
       "      <td>John Denver</td>\n",
       "      <td>Is It Love</td>\n",
       "      <td>/j/john+denver/is+it+love_20073885.html</td>\n",
       "      <td>I know how it feels to be head over heels  \\r\\...</td>\n",
       "    </tr>\n",
       "  </tbody>\n",
       "</table>\n",
       "</div>"
      ],
      "text/plain": [
       "               artist              song  \\\n",
       "41931       LL Cool J       I Need Love   \n",
       "26960     Cat Stevens   Foreigner Suite   \n",
       "54880     Vanilla Ice        I Love You   \n",
       "13192  Modern Talking  No. 1 Hit Medley   \n",
       "9393      John Denver        Is It Love   \n",
       "\n",
       "                                                  link  \\\n",
       "41931           /l/ll+cool+j/i+need+love_20081043.html   \n",
       "26960     /c/cat+stevens/foreigner+suite_20028113.html   \n",
       "54880          /v/vanilla+ice/i+love+you_20143680.html   \n",
       "13192  /m/modern+talking/no+1+hit+medley_20666841.html   \n",
       "9393           /j/john+denver/is+it+love_20073885.html   \n",
       "\n",
       "                                                    text  \n",
       "41931  When I'm alone in my room  \\r\\nSometimes I sta...  \n",
       "26960  There are no words, I can use  \\r\\nBecause the...  \n",
       "54880  [Verse 1]  \\r\\nGirl, I keep thinkin' of how I ...  \n",
       "13192  Deep in my heart - there's a fire - a burning ...  \n",
       "9393   I know how it feels to be head over heels  \\r\\...  "
      ]
     },
     "execution_count": 266,
     "metadata": {},
     "output_type": "execute_result"
    }
   ],
   "source": [
    "benchmark_df.loc[closest_indices_dict[\"Centroid 0\"]]"
   ]
  },
  {
   "cell_type": "code",
   "execution_count": 267,
   "metadata": {},
   "outputs": [
    {
     "data": {
      "text/html": [
       "<div>\n",
       "<style scoped>\n",
       "    .dataframe tbody tr th:only-of-type {\n",
       "        vertical-align: middle;\n",
       "    }\n",
       "\n",
       "    .dataframe tbody tr th {\n",
       "        vertical-align: top;\n",
       "    }\n",
       "\n",
       "    .dataframe thead th {\n",
       "        text-align: right;\n",
       "    }\n",
       "</style>\n",
       "<table border=\"1\" class=\"dataframe\">\n",
       "  <thead>\n",
       "    <tr style=\"text-align: right;\">\n",
       "      <th></th>\n",
       "      <th>artist</th>\n",
       "      <th>song</th>\n",
       "      <th>link</th>\n",
       "      <th>text</th>\n",
       "    </tr>\n",
       "  </thead>\n",
       "  <tbody>\n",
       "    <tr>\n",
       "      <th>26223</th>\n",
       "      <td>Boney M.</td>\n",
       "      <td>Kalimba De Luna</td>\n",
       "      <td>/b/boney+m/kalimba+de+luna_20022442.html</td>\n",
       "      <td>In the land of the sunshine  \\r\\nPeople know h...</td>\n",
       "    </tr>\n",
       "    <tr>\n",
       "      <th>20365</th>\n",
       "      <td>Utada Hikaru</td>\n",
       "      <td>Final Distance</td>\n",
       "      <td>/u/utada+hikaru/final+distance_10162343.html</td>\n",
       "      <td>Ki ni naru noni kikenai  \\r\\nOyogitsukarete ki...</td>\n",
       "    </tr>\n",
       "    <tr>\n",
       "      <th>45542</th>\n",
       "      <td>Nick Cave</td>\n",
       "      <td>Foi Na Cruz</td>\n",
       "      <td>/n/nick+cave/foi+na+cruz_20100200.html</td>\n",
       "      <td>Foi na cruz, foi na cruz  \\r\\nQue um dia  \\r\\n...</td>\n",
       "    </tr>\n",
       "    <tr>\n",
       "      <th>20374</th>\n",
       "      <td>Utada Hikaru</td>\n",
       "      <td>This Is Love</td>\n",
       "      <td>/u/utada+hikaru/this+is+love_20547234.html</td>\n",
       "      <td>Yokisenu ai ni jiyuu ubawaretai ne  \\r\\nOh, hi...</td>\n",
       "    </tr>\n",
       "    <tr>\n",
       "      <th>48202</th>\n",
       "      <td>Pharrell Williams</td>\n",
       "      <td>Where's Yours At?</td>\n",
       "      <td>/p/pharrell+williams/wheres+yours+at_20676412....</td>\n",
       "      <td>(feat. Rohff)  \\r\\n  \\r\\n[Chorus - Pharrell]  ...</td>\n",
       "    </tr>\n",
       "  </tbody>\n",
       "</table>\n",
       "</div>"
      ],
      "text/plain": [
       "                  artist               song  \\\n",
       "26223           Boney M.    Kalimba De Luna   \n",
       "20365       Utada Hikaru     Final Distance   \n",
       "45542          Nick Cave        Foi Na Cruz   \n",
       "20374       Utada Hikaru       This Is Love   \n",
       "48202  Pharrell Williams  Where's Yours At?   \n",
       "\n",
       "                                                    link  \\\n",
       "26223           /b/boney+m/kalimba+de+luna_20022442.html   \n",
       "20365       /u/utada+hikaru/final+distance_10162343.html   \n",
       "45542             /n/nick+cave/foi+na+cruz_20100200.html   \n",
       "20374         /u/utada+hikaru/this+is+love_20547234.html   \n",
       "48202  /p/pharrell+williams/wheres+yours+at_20676412....   \n",
       "\n",
       "                                                    text  \n",
       "26223  In the land of the sunshine  \\r\\nPeople know h...  \n",
       "20365  Ki ni naru noni kikenai  \\r\\nOyogitsukarete ki...  \n",
       "45542  Foi na cruz, foi na cruz  \\r\\nQue um dia  \\r\\n...  \n",
       "20374  Yokisenu ai ni jiyuu ubawaretai ne  \\r\\nOh, hi...  \n",
       "48202  (feat. Rohff)  \\r\\n  \\r\\n[Chorus - Pharrell]  ...  "
      ]
     },
     "execution_count": 267,
     "metadata": {},
     "output_type": "execute_result"
    }
   ],
   "source": [
    "benchmark_df.loc[closest_indices_dict[\"Centroid 1\"]]"
   ]
  },
  {
   "cell_type": "code",
   "execution_count": 268,
   "metadata": {},
   "outputs": [
    {
     "data": {
      "text/html": [
       "<div>\n",
       "<style scoped>\n",
       "    .dataframe tbody tr th:only-of-type {\n",
       "        vertical-align: middle;\n",
       "    }\n",
       "\n",
       "    .dataframe tbody tr th {\n",
       "        vertical-align: top;\n",
       "    }\n",
       "\n",
       "    .dataframe thead th {\n",
       "        text-align: right;\n",
       "    }\n",
       "</style>\n",
       "<table border=\"1\" class=\"dataframe\">\n",
       "  <thead>\n",
       "    <tr style=\"text-align: right;\">\n",
       "      <th></th>\n",
       "      <th>artist</th>\n",
       "      <th>song</th>\n",
       "      <th>link</th>\n",
       "      <th>text</th>\n",
       "    </tr>\n",
       "  </thead>\n",
       "  <tbody>\n",
       "    <tr>\n",
       "      <th>15229</th>\n",
       "      <td>Outkast</td>\n",
       "      <td>Decatur Psalm</td>\n",
       "      <td>/o/outkast/decatur+psalm_20103840.html</td>\n",
       "      <td>[Cool Breeze]  \\r\\nI call the crib they say \"B...</td>\n",
       "    </tr>\n",
       "    <tr>\n",
       "      <th>8869</th>\n",
       "      <td>J Cole</td>\n",
       "      <td>In the Morning</td>\n",
       "      <td>/j/j+cole/in+the+morning_20899428.html</td>\n",
       "      <td>Baby you summertime fine, I let you get on top...</td>\n",
       "    </tr>\n",
       "    <tr>\n",
       "      <th>8886</th>\n",
       "      <td>J Cole</td>\n",
       "      <td>You Got It</td>\n",
       "      <td>/j/j+cole/you+got+it_20969036.html</td>\n",
       "      <td>[Refrain:  \\r\\nHey one time, hey one time  \\r\\...</td>\n",
       "    </tr>\n",
       "    <tr>\n",
       "      <th>8848</th>\n",
       "      <td>J Cole</td>\n",
       "      <td>Back To The Topic</td>\n",
       "      <td>/j/j+cole/back+to+the+topic_20894721.html</td>\n",
       "      <td>Yea, n-gga  \\r\\nI'm gon ahead and murder this ...</td>\n",
       "    </tr>\n",
       "    <tr>\n",
       "      <th>41891</th>\n",
       "      <td>LL Cool J</td>\n",
       "      <td>1 In The Morning</td>\n",
       "      <td>/l/ll+cool+j/1+in+the+morning_10167076.html</td>\n",
       "      <td>It's one in the mornin',  \\r\\nYou know what ti...</td>\n",
       "    </tr>\n",
       "  </tbody>\n",
       "</table>\n",
       "</div>"
      ],
      "text/plain": [
       "          artist               song  \\\n",
       "15229    Outkast      Decatur Psalm   \n",
       "8869      J Cole     In the Morning   \n",
       "8886      J Cole         You Got It   \n",
       "8848      J Cole  Back To The Topic   \n",
       "41891  LL Cool J   1 In The Morning   \n",
       "\n",
       "                                              link  \\\n",
       "15229       /o/outkast/decatur+psalm_20103840.html   \n",
       "8869        /j/j+cole/in+the+morning_20899428.html   \n",
       "8886            /j/j+cole/you+got+it_20969036.html   \n",
       "8848     /j/j+cole/back+to+the+topic_20894721.html   \n",
       "41891  /l/ll+cool+j/1+in+the+morning_10167076.html   \n",
       "\n",
       "                                                    text  \n",
       "15229  [Cool Breeze]  \\r\\nI call the crib they say \"B...  \n",
       "8869   Baby you summertime fine, I let you get on top...  \n",
       "8886   [Refrain:  \\r\\nHey one time, hey one time  \\r\\...  \n",
       "8848   Yea, n-gga  \\r\\nI'm gon ahead and murder this ...  \n",
       "41891  It's one in the mornin',  \\r\\nYou know what ti...  "
      ]
     },
     "execution_count": 268,
     "metadata": {},
     "output_type": "execute_result"
    }
   ],
   "source": [
    "benchmark_df.loc[closest_indices_dict[\"Centroid 2\"]]"
   ]
  },
  {
   "cell_type": "code",
   "execution_count": 269,
   "metadata": {},
   "outputs": [
    {
     "data": {
      "text/html": [
       "<div>\n",
       "<style scoped>\n",
       "    .dataframe tbody tr th:only-of-type {\n",
       "        vertical-align: middle;\n",
       "    }\n",
       "\n",
       "    .dataframe tbody tr th {\n",
       "        vertical-align: top;\n",
       "    }\n",
       "\n",
       "    .dataframe thead th {\n",
       "        text-align: right;\n",
       "    }\n",
       "</style>\n",
       "<table border=\"1\" class=\"dataframe\">\n",
       "  <thead>\n",
       "    <tr style=\"text-align: right;\">\n",
       "      <th></th>\n",
       "      <th>artist</th>\n",
       "      <th>song</th>\n",
       "      <th>link</th>\n",
       "      <th>text</th>\n",
       "    </tr>\n",
       "  </thead>\n",
       "  <tbody>\n",
       "    <tr>\n",
       "      <th>10521</th>\n",
       "      <td>Kid Rock</td>\n",
       "      <td>My Oedipus Complex</td>\n",
       "      <td>/k/kid+rock/my+oedipus+complex_20078203.html</td>\n",
       "      <td>I need somebody won't you help me  \\r\\nI need ...</td>\n",
       "    </tr>\n",
       "    <tr>\n",
       "      <th>51834</th>\n",
       "      <td>Snoop Dogg</td>\n",
       "      <td>I Believe In You</td>\n",
       "      <td>/s/snoop+dogg/i+believe+in+you_20127137.html</td>\n",
       "      <td>[Latoiya Williams]  \\r\\nI'm so glad that you b...</td>\n",
       "    </tr>\n",
       "    <tr>\n",
       "      <th>34941</th>\n",
       "      <td>Guns N' Roses</td>\n",
       "      <td>Locomotive</td>\n",
       "      <td>/g/guns+n+roses/locomotive_10139577.html</td>\n",
       "      <td>Gonna find a way to cure this loneliness  \\r\\n...</td>\n",
       "    </tr>\n",
       "    <tr>\n",
       "      <th>49196</th>\n",
       "      <td>Puff Daddy</td>\n",
       "      <td>After Love</td>\n",
       "      <td>/p/puff+daddy/after+love_20559614.html</td>\n",
       "      <td>(feat. Keri Hilson)  \\r\\n  \\r\\n[Keri:]  \\r\\nI ...</td>\n",
       "    </tr>\n",
       "    <tr>\n",
       "      <th>34925</th>\n",
       "      <td>Guns N' Roses</td>\n",
       "      <td>Coma</td>\n",
       "      <td>/g/guns+n+roses/coma_10139584.html</td>\n",
       "      <td>See you've caught me in a coma  \\r\\nAnd I don'...</td>\n",
       "    </tr>\n",
       "  </tbody>\n",
       "</table>\n",
       "</div>"
      ],
      "text/plain": [
       "              artist                song  \\\n",
       "10521       Kid Rock  My Oedipus Complex   \n",
       "51834     Snoop Dogg    I Believe In You   \n",
       "34941  Guns N' Roses          Locomotive   \n",
       "49196     Puff Daddy          After Love   \n",
       "34925  Guns N' Roses                Coma   \n",
       "\n",
       "                                               link  \\\n",
       "10521  /k/kid+rock/my+oedipus+complex_20078203.html   \n",
       "51834  /s/snoop+dogg/i+believe+in+you_20127137.html   \n",
       "34941      /g/guns+n+roses/locomotive_10139577.html   \n",
       "49196        /p/puff+daddy/after+love_20559614.html   \n",
       "34925            /g/guns+n+roses/coma_10139584.html   \n",
       "\n",
       "                                                    text  \n",
       "10521  I need somebody won't you help me  \\r\\nI need ...  \n",
       "51834  [Latoiya Williams]  \\r\\nI'm so glad that you b...  \n",
       "34941  Gonna find a way to cure this loneliness  \\r\\n...  \n",
       "49196  (feat. Keri Hilson)  \\r\\n  \\r\\n[Keri:]  \\r\\nI ...  \n",
       "34925  See you've caught me in a coma  \\r\\nAnd I don'...  "
      ]
     },
     "execution_count": 269,
     "metadata": {},
     "output_type": "execute_result"
    }
   ],
   "source": [
    "benchmark_df.loc[closest_indices_dict[\"Centroid 3\"]]"
   ]
  },
  {
   "cell_type": "code",
   "execution_count": 270,
   "metadata": {},
   "outputs": [
    {
     "data": {
      "text/html": [
       "<div>\n",
       "<style scoped>\n",
       "    .dataframe tbody tr th:only-of-type {\n",
       "        vertical-align: middle;\n",
       "    }\n",
       "\n",
       "    .dataframe tbody tr th {\n",
       "        vertical-align: top;\n",
       "    }\n",
       "\n",
       "    .dataframe thead th {\n",
       "        text-align: right;\n",
       "    }\n",
       "</style>\n",
       "<table border=\"1\" class=\"dataframe\">\n",
       "  <thead>\n",
       "    <tr style=\"text-align: right;\">\n",
       "      <th></th>\n",
       "      <th>artist</th>\n",
       "      <th>song</th>\n",
       "      <th>link</th>\n",
       "      <th>text</th>\n",
       "    </tr>\n",
       "  </thead>\n",
       "  <tbody>\n",
       "    <tr>\n",
       "      <th>42933</th>\n",
       "      <td>Marillion</td>\n",
       "      <td>This Strange Engine</td>\n",
       "      <td>/m/marillion/this+strange+engine_20088964.html</td>\n",
       "      <td>There was a boy who came into this world  \\r\\n...</td>\n",
       "    </tr>\n",
       "    <tr>\n",
       "      <th>40188</th>\n",
       "      <td>The Killers</td>\n",
       "      <td>A Dustland Fairytale</td>\n",
       "      <td>/k/killers/a+dustland+fairytale_20768319.html</td>\n",
       "      <td>Dustland fairytale beginning  \\r\\nJust another...</td>\n",
       "    </tr>\n",
       "    <tr>\n",
       "      <th>38636</th>\n",
       "      <td>Joni Mitchell</td>\n",
       "      <td>Song For Sharon</td>\n",
       "      <td>/j/joni+mitchell/song+for+sharon_20075348.html</td>\n",
       "      <td>I went to Staten Island.  \\r\\nTo buy myself a ...</td>\n",
       "    </tr>\n",
       "    <tr>\n",
       "      <th>31437</th>\n",
       "      <td>Emmylou Harris</td>\n",
       "      <td>Ballard Of A Runaway Horse</td>\n",
       "      <td>/e/emmylou+harris/ballard+of+a+runaway+horse_2...</td>\n",
       "      <td>(Leonard Cohen)  \\r\\n  \\r\\nSay a prayer for th...</td>\n",
       "    </tr>\n",
       "    <tr>\n",
       "      <th>25806</th>\n",
       "      <td>Bob Dylan</td>\n",
       "      <td>Dreamin' Of You</td>\n",
       "      <td>/b/bob+dylan/dreamin+of+you_20750947.html</td>\n",
       "      <td>The light  \\r\\nIn this place  \\r\\nIs really ba...</td>\n",
       "    </tr>\n",
       "  </tbody>\n",
       "</table>\n",
       "</div>"
      ],
      "text/plain": [
       "               artist                        song  \\\n",
       "42933       Marillion         This Strange Engine   \n",
       "40188     The Killers        A Dustland Fairytale   \n",
       "38636   Joni Mitchell             Song For Sharon   \n",
       "31437  Emmylou Harris  Ballard Of A Runaway Horse   \n",
       "25806       Bob Dylan             Dreamin' Of You   \n",
       "\n",
       "                                                    link  \\\n",
       "42933     /m/marillion/this+strange+engine_20088964.html   \n",
       "40188      /k/killers/a+dustland+fairytale_20768319.html   \n",
       "38636     /j/joni+mitchell/song+for+sharon_20075348.html   \n",
       "31437  /e/emmylou+harris/ballard+of+a+runaway+horse_2...   \n",
       "25806          /b/bob+dylan/dreamin+of+you_20750947.html   \n",
       "\n",
       "                                                    text  \n",
       "42933  There was a boy who came into this world  \\r\\n...  \n",
       "40188  Dustland fairytale beginning  \\r\\nJust another...  \n",
       "38636  I went to Staten Island.  \\r\\nTo buy myself a ...  \n",
       "31437  (Leonard Cohen)  \\r\\n  \\r\\nSay a prayer for th...  \n",
       "25806  The light  \\r\\nIn this place  \\r\\nIs really ba...  "
      ]
     },
     "execution_count": 270,
     "metadata": {},
     "output_type": "execute_result"
    }
   ],
   "source": [
    "benchmark_df.loc[closest_indices_dict[\"Centroid 4\"]]"
   ]
  },
  {
   "cell_type": "code",
   "execution_count": 271,
   "metadata": {},
   "outputs": [
    {
     "data": {
      "text/html": [
       "<div>\n",
       "<style scoped>\n",
       "    .dataframe tbody tr th:only-of-type {\n",
       "        vertical-align: middle;\n",
       "    }\n",
       "\n",
       "    .dataframe tbody tr th {\n",
       "        vertical-align: top;\n",
       "    }\n",
       "\n",
       "    .dataframe thead th {\n",
       "        text-align: right;\n",
       "    }\n",
       "</style>\n",
       "<table border=\"1\" class=\"dataframe\">\n",
       "  <thead>\n",
       "    <tr style=\"text-align: right;\">\n",
       "      <th></th>\n",
       "      <th>artist</th>\n",
       "      <th>song</th>\n",
       "      <th>link</th>\n",
       "      <th>text</th>\n",
       "    </tr>\n",
       "  </thead>\n",
       "  <tbody>\n",
       "    <tr>\n",
       "      <th>45718</th>\n",
       "      <td>Nicki Minaj</td>\n",
       "      <td>Barbie World Intro</td>\n",
       "      <td>/n/nicki+minaj/barbie+world+intro_20873938.html</td>\n",
       "      <td>[Chorus:]  \\r\\nI wanna get to know you  \\r\\nI ...</td>\n",
       "    </tr>\n",
       "    <tr>\n",
       "      <th>41984</th>\n",
       "      <td>LL Cool J</td>\n",
       "      <td>We're Gonna Make It</td>\n",
       "      <td>/l/ll+cool+j/were+gonna+make+it_20686449.html</td>\n",
       "      <td>I know the Lord, will make a way  \\r\\nHe will ...</td>\n",
       "    </tr>\n",
       "    <tr>\n",
       "      <th>57275</th>\n",
       "      <td>Ying Yang Twins</td>\n",
       "      <td>Take It Slow</td>\n",
       "      <td>/y/ying+yang+twins/take+it+slow_20538336.html</td>\n",
       "      <td>feat. Los Vegaz)  \\r\\n  \\r\\n[Chorus:]  \\r\\n(Oo...</td>\n",
       "    </tr>\n",
       "    <tr>\n",
       "      <th>32267</th>\n",
       "      <td>Fabolous</td>\n",
       "      <td>It's Alright</td>\n",
       "      <td>/f/fabolous/its+alright_10112255.html</td>\n",
       "      <td>[Sean Paul]  \\r\\nAll you need to know is the v...</td>\n",
       "    </tr>\n",
       "    <tr>\n",
       "      <th>49216</th>\n",
       "      <td>Puff Daddy</td>\n",
       "      <td>No Way Out</td>\n",
       "      <td>/p/puff+daddy/no+way+out_20112074.html</td>\n",
       "      <td>[Chorus:]  \\r\\n[Kelly]  \\r\\nThere's no way no ...</td>\n",
       "    </tr>\n",
       "  </tbody>\n",
       "</table>\n",
       "</div>"
      ],
      "text/plain": [
       "                artist                 song  \\\n",
       "45718      Nicki Minaj   Barbie World Intro   \n",
       "41984        LL Cool J  We're Gonna Make It   \n",
       "57275  Ying Yang Twins         Take It Slow   \n",
       "32267         Fabolous         It's Alright   \n",
       "49216       Puff Daddy           No Way Out   \n",
       "\n",
       "                                                  link  \\\n",
       "45718  /n/nicki+minaj/barbie+world+intro_20873938.html   \n",
       "41984    /l/ll+cool+j/were+gonna+make+it_20686449.html   \n",
       "57275    /y/ying+yang+twins/take+it+slow_20538336.html   \n",
       "32267            /f/fabolous/its+alright_10112255.html   \n",
       "49216           /p/puff+daddy/no+way+out_20112074.html   \n",
       "\n",
       "                                                    text  \n",
       "45718  [Chorus:]  \\r\\nI wanna get to know you  \\r\\nI ...  \n",
       "41984  I know the Lord, will make a way  \\r\\nHe will ...  \n",
       "57275  feat. Los Vegaz)  \\r\\n  \\r\\n[Chorus:]  \\r\\n(Oo...  \n",
       "32267  [Sean Paul]  \\r\\nAll you need to know is the v...  \n",
       "49216  [Chorus:]  \\r\\n[Kelly]  \\r\\nThere's no way no ...  "
      ]
     },
     "execution_count": 271,
     "metadata": {},
     "output_type": "execute_result"
    }
   ],
   "source": [
    "benchmark_df.loc[closest_indices_dict[\"Centroid 5\"]]"
   ]
  },
  {
   "cell_type": "code",
   "execution_count": 272,
   "metadata": {},
   "outputs": [
    {
     "data": {
      "text/html": [
       "<div>\n",
       "<style scoped>\n",
       "    .dataframe tbody tr th:only-of-type {\n",
       "        vertical-align: middle;\n",
       "    }\n",
       "\n",
       "    .dataframe tbody tr th {\n",
       "        vertical-align: top;\n",
       "    }\n",
       "\n",
       "    .dataframe thead th {\n",
       "        text-align: right;\n",
       "    }\n",
       "</style>\n",
       "<table border=\"1\" class=\"dataframe\">\n",
       "  <thead>\n",
       "    <tr style=\"text-align: right;\">\n",
       "      <th></th>\n",
       "      <th>artist</th>\n",
       "      <th>song</th>\n",
       "      <th>link</th>\n",
       "      <th>text</th>\n",
       "    </tr>\n",
       "  </thead>\n",
       "  <tbody>\n",
       "    <tr>\n",
       "      <th>42698</th>\n",
       "      <td>Mariah Carey</td>\n",
       "      <td>O Little Town Of Bethlehem</td>\n",
       "      <td>/m/mariah+carey/o+little+town+of+bethlehem_208...</td>\n",
       "      <td>Oh, little town of Bethlehem  \\r\\nHow still we...</td>\n",
       "    </tr>\n",
       "    <tr>\n",
       "      <th>1467</th>\n",
       "      <td>Bing Crosby</td>\n",
       "      <td>Oh Little Town Of Bethlehem</td>\n",
       "      <td>/b/bing+crosby/oh+little+town+of+bethlehem_207...</td>\n",
       "      <td>Oh, little town of Bethlehem  \\r\\nHow still we...</td>\n",
       "    </tr>\n",
       "    <tr>\n",
       "      <th>13447</th>\n",
       "      <td>Nat King Cole</td>\n",
       "      <td>Oh Little Town Of Bethlehem</td>\n",
       "      <td>/n/nat+king+cole/oh+little+town+of+bethlehem_2...</td>\n",
       "      <td>Oh, little town of Bethlehem  \\r\\nHow still we...</td>\n",
       "    </tr>\n",
       "    <tr>\n",
       "      <th>34236</th>\n",
       "      <td>Gloria Gaynor</td>\n",
       "      <td>O Holy Night</td>\n",
       "      <td>/g/gloria+gaynor/o+holy+night_21073158.html</td>\n",
       "      <td>Oh holy night!  \\r\\nThe stars are brightly shi...</td>\n",
       "    </tr>\n",
       "    <tr>\n",
       "      <th>26909</th>\n",
       "      <td>Carpenters</td>\n",
       "      <td>O Holy Night</td>\n",
       "      <td>/c/carpenters/o+holy+night_20516511.html</td>\n",
       "      <td>O holy night! The stars are brightly shining  ...</td>\n",
       "    </tr>\n",
       "  </tbody>\n",
       "</table>\n",
       "</div>"
      ],
      "text/plain": [
       "              artist                         song  \\\n",
       "42698   Mariah Carey   O Little Town Of Bethlehem   \n",
       "1467     Bing Crosby  Oh Little Town Of Bethlehem   \n",
       "13447  Nat King Cole  Oh Little Town Of Bethlehem   \n",
       "34236  Gloria Gaynor                 O Holy Night   \n",
       "26909     Carpenters                 O Holy Night   \n",
       "\n",
       "                                                    link  \\\n",
       "42698  /m/mariah+carey/o+little+town+of+bethlehem_208...   \n",
       "1467   /b/bing+crosby/oh+little+town+of+bethlehem_207...   \n",
       "13447  /n/nat+king+cole/oh+little+town+of+bethlehem_2...   \n",
       "34236        /g/gloria+gaynor/o+holy+night_21073158.html   \n",
       "26909           /c/carpenters/o+holy+night_20516511.html   \n",
       "\n",
       "                                                    text  \n",
       "42698  Oh, little town of Bethlehem  \\r\\nHow still we...  \n",
       "1467   Oh, little town of Bethlehem  \\r\\nHow still we...  \n",
       "13447  Oh, little town of Bethlehem  \\r\\nHow still we...  \n",
       "34236  Oh holy night!  \\r\\nThe stars are brightly shi...  \n",
       "26909  O holy night! The stars are brightly shining  ...  "
      ]
     },
     "execution_count": 272,
     "metadata": {},
     "output_type": "execute_result"
    }
   ],
   "source": [
    "benchmark_df.loc[closest_indices_dict[\"Centroid 6\"]]"
   ]
  },
  {
   "cell_type": "code",
   "execution_count": 273,
   "metadata": {},
   "outputs": [
    {
     "data": {
      "text/html": [
       "<div>\n",
       "<style scoped>\n",
       "    .dataframe tbody tr th:only-of-type {\n",
       "        vertical-align: middle;\n",
       "    }\n",
       "\n",
       "    .dataframe tbody tr th {\n",
       "        vertical-align: top;\n",
       "    }\n",
       "\n",
       "    .dataframe thead th {\n",
       "        text-align: right;\n",
       "    }\n",
       "</style>\n",
       "<table border=\"1\" class=\"dataframe\">\n",
       "  <thead>\n",
       "    <tr style=\"text-align: right;\">\n",
       "      <th></th>\n",
       "      <th>artist</th>\n",
       "      <th>song</th>\n",
       "      <th>link</th>\n",
       "      <th>text</th>\n",
       "    </tr>\n",
       "  </thead>\n",
       "  <tbody>\n",
       "    <tr>\n",
       "      <th>45646</th>\n",
       "      <td>Nick Drake</td>\n",
       "      <td>Rena</td>\n",
       "      <td>/n/nick+drake/rena_20483102.html</td>\n",
       "      <td>I got my plans  \\r\\nFrom trembling hands  \\r\\n...</td>\n",
       "    </tr>\n",
       "    <tr>\n",
       "      <th>34925</th>\n",
       "      <td>Guns N' Roses</td>\n",
       "      <td>Coma</td>\n",
       "      <td>/g/guns+n+roses/coma_10139584.html</td>\n",
       "      <td>See you've caught me in a coma  \\r\\nAnd I don'...</td>\n",
       "    </tr>\n",
       "    <tr>\n",
       "      <th>54243</th>\n",
       "      <td>Ufo</td>\n",
       "      <td>Flying</td>\n",
       "      <td>/u/ufo/flying_20141854.html</td>\n",
       "      <td>[disputed lyrics in brackets]  \\r\\nHave you ev...</td>\n",
       "    </tr>\n",
       "    <tr>\n",
       "      <th>4572</th>\n",
       "      <td>Dream Theater</td>\n",
       "      <td>Space-Dye Vest</td>\n",
       "      <td>/d/dream+theater/space+dye+vest_20043326.html</td>\n",
       "      <td>Falling through pages of Martens on angels  \\r...</td>\n",
       "    </tr>\n",
       "    <tr>\n",
       "      <th>43132</th>\n",
       "      <td>Maroon 5</td>\n",
       "      <td>Losing My Mind</td>\n",
       "      <td>/m/maroon+5/losing+my+mind_20600408.html</td>\n",
       "      <td>It's so hard to find you  \\r\\nI'm standing rig...</td>\n",
       "    </tr>\n",
       "  </tbody>\n",
       "</table>\n",
       "</div>"
      ],
      "text/plain": [
       "              artist            song  \\\n",
       "45646     Nick Drake            Rena   \n",
       "34925  Guns N' Roses            Coma   \n",
       "54243            Ufo          Flying   \n",
       "4572   Dream Theater  Space-Dye Vest   \n",
       "43132       Maroon 5  Losing My Mind   \n",
       "\n",
       "                                                link  \\\n",
       "45646               /n/nick+drake/rena_20483102.html   \n",
       "34925             /g/guns+n+roses/coma_10139584.html   \n",
       "54243                    /u/ufo/flying_20141854.html   \n",
       "4572   /d/dream+theater/space+dye+vest_20043326.html   \n",
       "43132       /m/maroon+5/losing+my+mind_20600408.html   \n",
       "\n",
       "                                                    text  \n",
       "45646  I got my plans  \\r\\nFrom trembling hands  \\r\\n...  \n",
       "34925  See you've caught me in a coma  \\r\\nAnd I don'...  \n",
       "54243  [disputed lyrics in brackets]  \\r\\nHave you ev...  \n",
       "4572   Falling through pages of Martens on angels  \\r...  \n",
       "43132  It's so hard to find you  \\r\\nI'm standing rig...  "
      ]
     },
     "execution_count": 273,
     "metadata": {},
     "output_type": "execute_result"
    }
   ],
   "source": [
    "benchmark_df.loc[closest_indices_dict[\"Centroid 7\"]]"
   ]
  },
  {
   "cell_type": "code",
   "execution_count": 177,
   "metadata": {},
   "outputs": [],
   "source": [
    "np.save(\"kmeans_centeroids_v1.npy\", centroids)"
   ]
  },
  {
   "cell_type": "code",
   "execution_count": 178,
   "metadata": {},
   "outputs": [
    {
     "data": {
      "text/plain": [
       "(7, 300)"
      ]
     },
     "execution_count": 178,
     "metadata": {},
     "output_type": "execute_result"
    }
   ],
   "source": [
    "centeroids.shape"
   ]
  },
  {
   "cell_type": "code",
   "execution_count": 217,
   "metadata": {},
   "outputs": [],
   "source": [
    "d = {}\n",
    "for i, l in enumerate(labels[np.argsort(cosine_distance(centroids, embeddings), axis=1)[:, :3]]):\n",
    "    d[i] = list(l)"
   ]
  },
  {
   "cell_type": "code",
   "execution_count": 218,
   "metadata": {},
   "outputs": [
    {
     "data": {
      "text/plain": [
       "{0: ['Calmness', 'Sadness', 'Nostalgia'],\n",
       " 1: ['Joyful activation', 'Power', 'Tension'],\n",
       " 2: ['Amazement', 'Solemnity', 'Tenderness'],\n",
       " 3: ['Joyful activation', 'Power', 'Tension'],\n",
       " 4: ['Nostalgia', 'Calmness', 'Sadness'],\n",
       " 5: ['Amazement', 'Solemnity', 'Tenderness'],\n",
       " 6: ['Calmness', 'Sadness', 'Amazement'],\n",
       " 7: ['Calmness', 'Sadness', 'Nostalgia'],\n",
       " 8: ['Calmness', 'Sadness', 'Nostalgia']}"
      ]
     },
     "execution_count": 218,
     "metadata": {},
     "output_type": "execute_result"
    }
   ],
   "source": [
    "d"
   ]
  },
  {
   "cell_type": "code",
   "execution_count": 219,
   "metadata": {},
   "outputs": [],
   "source": [
    "dis = cosine_distance(centroids, embeddings)"
   ]
  },
  {
   "cell_type": "code",
   "execution_count": 221,
   "metadata": {},
   "outputs": [
    {
     "data": {
      "text/plain": [
       "array([[0, 1, 8, 4, 5, 6, 2, 3, 7],\n",
       "       [7, 2, 3, 4, 5, 6, 8, 0, 1],\n",
       "       [4, 5, 6, 0, 1, 8, 7, 2, 3],\n",
       "       [7, 2, 3, 4, 5, 6, 0, 1, 8],\n",
       "       [8, 0, 1, 4, 5, 6, 7, 2, 3],\n",
       "       [4, 5, 6, 8, 0, 1, 7, 2, 3],\n",
       "       [0, 1, 4, 5, 6, 8, 2, 3, 7],\n",
       "       [0, 1, 8, 4, 5, 6, 7, 2, 3],\n",
       "       [0, 1, 8, 4, 5, 6, 2, 3, 7]], dtype=int64)"
      ]
     },
     "execution_count": 221,
     "metadata": {},
     "output_type": "execute_result"
    }
   ],
   "source": [
    "np.argsort(cosine_distance(centroids, embeddings))"
   ]
  },
  {
   "cell_type": "code",
   "execution_count": 199,
   "metadata": {},
   "outputs": [
    {
     "data": {
      "text/plain": [
       "{0: ['Calmness', 'Sadness'],\n",
       " 1: ['Joyful activation', 'Power'],\n",
       " 2: ['Amazement', 'Solemnity'],\n",
       " 3: ['Joyful activation', 'Power'],\n",
       " 4: ['Nostalgia', 'Calmness'],\n",
       " 5: ['Amazement', 'Solemnity'],\n",
       " 6: ['Calmness', 'Sadness'],\n",
       " 7: ['Calmness', 'Sadness'],\n",
       " 8: ['Calmness', 'Sadness']}"
      ]
     },
     "execution_count": 199,
     "metadata": {},
     "output_type": "execute_result"
    }
   ],
   "source": [
    "d"
   ]
  },
  {
   "cell_type": "code",
   "execution_count": 193,
   "metadata": {},
   "outputs": [
    {
     "data": {
      "text/plain": [
       "array([[0.03059446, 0.03059446],\n",
       "       [0.03834659, 0.03834659],\n",
       "       [0.03909744, 0.03909744],\n",
       "       [0.37645089, 0.37645089],\n",
       "       [0.0127083 , 0.0127083 ],\n",
       "       [0.00829108, 0.00829108],\n",
       "       [0.06959563, 0.06959563],\n",
       "       [0.05214194, 0.05214194],\n",
       "       [0.03519053, 0.03519053]])"
      ]
     },
     "execution_count": 193,
     "metadata": {},
     "output_type": "execute_result"
    }
   ],
   "source": [
    "cosine_distance(centroids, embeddings)[:, :2]"
   ]
  },
  {
   "cell_type": "code",
   "execution_count": null,
   "metadata": {},
   "outputs": [],
   "source": []
  },
  {
   "cell_type": "code",
   "execution_count": null,
   "metadata": {},
   "outputs": [],
   "source": [
    "{0: ['Calmness', 'Sadness'], 1:['Joyful activation', 'Power'], 2:labels[4], 3:labels[]}"
   ]
  },
  {
   "cell_type": "code",
   "execution_count": 189,
   "metadata": {},
   "outputs": [
    {
     "data": {
      "text/html": [
       "<div>\n",
       "<style scoped>\n",
       "    .dataframe tbody tr th:only-of-type {\n",
       "        vertical-align: middle;\n",
       "    }\n",
       "\n",
       "    .dataframe tbody tr th {\n",
       "        vertical-align: top;\n",
       "    }\n",
       "\n",
       "    .dataframe thead th {\n",
       "        text-align: right;\n",
       "    }\n",
       "</style>\n",
       "<table border=\"1\" class=\"dataframe\">\n",
       "  <thead>\n",
       "    <tr style=\"text-align: right;\">\n",
       "      <th></th>\n",
       "      <th>artist</th>\n",
       "      <th>song</th>\n",
       "      <th>link</th>\n",
       "      <th>text</th>\n",
       "    </tr>\n",
       "  </thead>\n",
       "  <tbody>\n",
       "    <tr>\n",
       "      <th>54243</th>\n",
       "      <td>Ufo</td>\n",
       "      <td>Flying</td>\n",
       "      <td>/u/ufo/flying_20141854.html</td>\n",
       "      <td>[disputed lyrics in brackets]  \\r\\nHave you ev...</td>\n",
       "    </tr>\n",
       "    <tr>\n",
       "      <th>45718</th>\n",
       "      <td>Nicki Minaj</td>\n",
       "      <td>Barbie World Intro</td>\n",
       "      <td>/n/nicki+minaj/barbie+world+intro_20873938.html</td>\n",
       "      <td>[Chorus:]  \\r\\nI wanna get to know you  \\r\\nI ...</td>\n",
       "    </tr>\n",
       "    <tr>\n",
       "      <th>41931</th>\n",
       "      <td>LL Cool J</td>\n",
       "      <td>I Need Love</td>\n",
       "      <td>/l/ll+cool+j/i+need+love_20081043.html</td>\n",
       "      <td>When I'm alone in my room  \\r\\nSometimes I sta...</td>\n",
       "    </tr>\n",
       "    <tr>\n",
       "      <th>20365</th>\n",
       "      <td>Utada Hikaru</td>\n",
       "      <td>Final Distance</td>\n",
       "      <td>/u/utada+hikaru/final+distance_10162343.html</td>\n",
       "      <td>Ki ni naru noni kikenai  \\r\\nOyogitsukarete ki...</td>\n",
       "    </tr>\n",
       "    <tr>\n",
       "      <th>5072</th>\n",
       "      <td>Eminem</td>\n",
       "      <td>Crack A Bottle</td>\n",
       "      <td>/e/eminem/crack+a+bottle_20775965.html</td>\n",
       "      <td>Ladies and gentlemen  \\r\\nThe moment you've al...</td>\n",
       "    </tr>\n",
       "    <tr>\n",
       "      <th>54879</th>\n",
       "      <td>Vanilla Ice</td>\n",
       "      <td>I Go Down</td>\n",
       "      <td>/v/vanilla+ice/i+go+down_20143665.html</td>\n",
       "      <td>[Verse 1]  \\r\\nI Remember way back when  \\r\\nL...</td>\n",
       "    </tr>\n",
       "    <tr>\n",
       "      <th>36722</th>\n",
       "      <td>Indiana Bible College</td>\n",
       "      <td>Because Of Love</td>\n",
       "      <td>/i/indiana+bible+college/because+of+love_20997...</td>\n",
       "      <td>[Verse:]  \\r\\nBecause of love He left His thro...</td>\n",
       "    </tr>\n",
       "    <tr>\n",
       "      <th>42933</th>\n",
       "      <td>Marillion</td>\n",
       "      <td>This Strange Engine</td>\n",
       "      <td>/m/marillion/this+strange+engine_20088964.html</td>\n",
       "      <td>There was a boy who came into this world  \\r\\n...</td>\n",
       "    </tr>\n",
       "    <tr>\n",
       "      <th>4572</th>\n",
       "      <td>Dream Theater</td>\n",
       "      <td>Space-Dye Vest</td>\n",
       "      <td>/d/dream+theater/space+dye+vest_20043326.html</td>\n",
       "      <td>Falling through pages of Martens on angels  \\r...</td>\n",
       "    </tr>\n",
       "  </tbody>\n",
       "</table>\n",
       "</div>"
      ],
      "text/plain": [
       "                      artist                 song  \\\n",
       "54243                    Ufo               Flying   \n",
       "45718            Nicki Minaj   Barbie World Intro   \n",
       "41931              LL Cool J          I Need Love   \n",
       "20365           Utada Hikaru       Final Distance   \n",
       "5072                  Eminem       Crack A Bottle   \n",
       "54879            Vanilla Ice            I Go Down   \n",
       "36722  Indiana Bible College      Because Of Love   \n",
       "42933              Marillion  This Strange Engine   \n",
       "4572           Dream Theater       Space-Dye Vest   \n",
       "\n",
       "                                                    link  \\\n",
       "54243                        /u/ufo/flying_20141854.html   \n",
       "45718    /n/nicki+minaj/barbie+world+intro_20873938.html   \n",
       "41931             /l/ll+cool+j/i+need+love_20081043.html   \n",
       "20365       /u/utada+hikaru/final+distance_10162343.html   \n",
       "5072              /e/eminem/crack+a+bottle_20775965.html   \n",
       "54879             /v/vanilla+ice/i+go+down_20143665.html   \n",
       "36722  /i/indiana+bible+college/because+of+love_20997...   \n",
       "42933     /m/marillion/this+strange+engine_20088964.html   \n",
       "4572       /d/dream+theater/space+dye+vest_20043326.html   \n",
       "\n",
       "                                                    text  \n",
       "54243  [disputed lyrics in brackets]  \\r\\nHave you ev...  \n",
       "45718  [Chorus:]  \\r\\nI wanna get to know you  \\r\\nI ...  \n",
       "41931  When I'm alone in my room  \\r\\nSometimes I sta...  \n",
       "20365  Ki ni naru noni kikenai  \\r\\nOyogitsukarete ki...  \n",
       "5072   Ladies and gentlemen  \\r\\nThe moment you've al...  \n",
       "54879  [Verse 1]  \\r\\nI Remember way back when  \\r\\nL...  \n",
       "36722  [Verse:]  \\r\\nBecause of love He left His thro...  \n",
       "42933  There was a boy who came into this world  \\r\\n...  \n",
       "4572   Falling through pages of Martens on angels  \\r...  "
      ]
     },
     "execution_count": 189,
     "metadata": {},
     "output_type": "execute_result"
    }
   ],
   "source": [
    "raw_df.loc[np.argmin(cosine_distance(centroids, scaled_lyrics_embeddings), axis=1)]"
   ]
  },
  {
   "cell_type": "code",
   "execution_count": null,
   "metadata": {},
   "outputs": [],
   "source": []
  }
 ],
 "metadata": {
  "kernelspec": {
   "display_name": "chess-engine",
   "language": "python",
   "name": "python3"
  },
  "language_info": {
   "codemirror_mode": {
    "name": "ipython",
    "version": 3
   },
   "file_extension": ".py",
   "mimetype": "text/x-python",
   "name": "python",
   "nbconvert_exporter": "python",
   "pygments_lexer": "ipython3",
   "version": "3.10.12"
  }
 },
 "nbformat": 4,
 "nbformat_minor": 2
}
