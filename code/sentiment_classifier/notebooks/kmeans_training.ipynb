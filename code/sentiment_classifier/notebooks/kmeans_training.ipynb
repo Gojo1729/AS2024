{
 "cells": [
  {
   "cell_type": "code",
   "execution_count": 316,
   "metadata": {},
   "outputs": [
    {
     "name": "stdout",
     "output_type": "stream",
     "text": [
      "The autoreload extension is already loaded. To reload it, use:\n",
      "  %reload_ext autoreload\n",
      "The tensorboard extension is already loaded. To reload it, use:\n",
      "  %reload_ext tensorboard\n"
     ]
    }
   ],
   "source": [
    "%load_ext autoreload\n",
    "%load_ext tensorboard\n",
    "%autoreload 2"
   ]
  },
  {
   "cell_type": "code",
   "execution_count": 28,
   "metadata": {},
   "outputs": [
    {
     "name": "stderr",
     "output_type": "stream",
     "text": [
      "c:\\Users\\shivs\\anaconda3\\envs\\chess-engine\\lib\\site-packages\\tqdm\\auto.py:21: TqdmWarning: IProgress not found. Please update jupyter and ipywidgets. See https://ipywidgets.readthedocs.io/en/stable/user_install.html\n",
      "  from .autonotebook import tqdm as notebook_tqdm\n"
     ]
    },
    {
     "name": "stdout",
     "output_type": "stream",
     "text": [
      "WARNING:tensorflow:From c:\\Users\\shivs\\anaconda3\\envs\\chess-engine\\lib\\site-packages\\keras\\src\\losses.py:2976: The name tf.losses.sparse_softmax_cross_entropy is deprecated. Please use tf.compat.v1.losses.sparse_softmax_cross_entropy instead.\n",
      "\n"
     ]
    }
   ],
   "source": [
    "import pandas as pd\n",
    "import numpy as np\n",
    "from tqdm import tqdm\n",
    "import nltk # just for tokenization\n",
    "from nltk.corpus import stopwords\n",
    "from nltk.stem import WordNetLemmatizer\n",
    "import random\n",
    "import gradio \n",
    "import string\n",
    "import tensorflow as tf\n",
    "import datetime\n",
    "\n",
    "random.seed(42)"
   ]
  },
  {
   "cell_type": "code",
   "execution_count": 29,
   "metadata": {},
   "outputs": [
    {
     "name": "stdout",
     "output_type": "stream",
     "text": [
      "Loaded vocab size 3000000\n"
     ]
    }
   ],
   "source": [
    "def load_embedding_model():\n",
    "    \"\"\" Load GloVe Vectors\n",
    "        Return:\n",
    "            wv_from_bin: All 400000 embeddings, each lengh 200\n",
    "    \"\"\"\n",
    "    import gensim.downloader as api\n",
    "    wv_from_bin = api.load(\"word2vec-google-news-300\")\n",
    "    print(\"Loaded vocab size %i\" % len(list(wv_from_bin.index_to_key)))\n",
    "    return wv_from_bin\n",
    "wv_from_bin = load_embedding_model()\n",
    "# wv_from_bin = load_embedding_model()"
   ]
  },
  {
   "cell_type": "code",
   "execution_count": 30,
   "metadata": {},
   "outputs": [
    {
     "data": {
      "text/html": [
       "<div>\n",
       "<style scoped>\n",
       "    .dataframe tbody tr th:only-of-type {\n",
       "        vertical-align: middle;\n",
       "    }\n",
       "\n",
       "    .dataframe tbody tr th {\n",
       "        vertical-align: top;\n",
       "    }\n",
       "\n",
       "    .dataframe thead th {\n",
       "        text-align: right;\n",
       "    }\n",
       "</style>\n",
       "<table border=\"1\" class=\"dataframe\">\n",
       "  <thead>\n",
       "    <tr style=\"text-align: right;\">\n",
       "      <th></th>\n",
       "      <th>artist</th>\n",
       "      <th>song</th>\n",
       "      <th>link</th>\n",
       "      <th>text</th>\n",
       "    </tr>\n",
       "  </thead>\n",
       "  <tbody>\n",
       "    <tr>\n",
       "      <th>0</th>\n",
       "      <td>ABBA</td>\n",
       "      <td>Ahe's My Kind Of Girl</td>\n",
       "      <td>/a/abba/ahes+my+kind+of+girl_20598417.html</td>\n",
       "      <td>Look at her face, it's a wonderful face  \\r\\nA...</td>\n",
       "    </tr>\n",
       "    <tr>\n",
       "      <th>1</th>\n",
       "      <td>ABBA</td>\n",
       "      <td>Andante, Andante</td>\n",
       "      <td>/a/abba/andante+andante_20002708.html</td>\n",
       "      <td>Take it easy with me, please  \\r\\nTouch me gen...</td>\n",
       "    </tr>\n",
       "    <tr>\n",
       "      <th>2</th>\n",
       "      <td>ABBA</td>\n",
       "      <td>As Good As New</td>\n",
       "      <td>/a/abba/as+good+as+new_20003033.html</td>\n",
       "      <td>I'll never know why I had to go  \\r\\nWhy I had...</td>\n",
       "    </tr>\n",
       "    <tr>\n",
       "      <th>3</th>\n",
       "      <td>ABBA</td>\n",
       "      <td>Bang</td>\n",
       "      <td>/a/abba/bang_20598415.html</td>\n",
       "      <td>Making somebody happy is a question of give an...</td>\n",
       "    </tr>\n",
       "    <tr>\n",
       "      <th>4</th>\n",
       "      <td>ABBA</td>\n",
       "      <td>Bang-A-Boomerang</td>\n",
       "      <td>/a/abba/bang+a+boomerang_20002668.html</td>\n",
       "      <td>Making somebody happy is a question of give an...</td>\n",
       "    </tr>\n",
       "  </tbody>\n",
       "</table>\n",
       "</div>"
      ],
      "text/plain": [
       "  artist                   song                                        link  \\\n",
       "0   ABBA  Ahe's My Kind Of Girl  /a/abba/ahes+my+kind+of+girl_20598417.html   \n",
       "1   ABBA       Andante, Andante       /a/abba/andante+andante_20002708.html   \n",
       "2   ABBA         As Good As New        /a/abba/as+good+as+new_20003033.html   \n",
       "3   ABBA                   Bang                  /a/abba/bang_20598415.html   \n",
       "4   ABBA       Bang-A-Boomerang      /a/abba/bang+a+boomerang_20002668.html   \n",
       "\n",
       "                                                text  \n",
       "0  Look at her face, it's a wonderful face  \\r\\nA...  \n",
       "1  Take it easy with me, please  \\r\\nTouch me gen...  \n",
       "2  I'll never know why I had to go  \\r\\nWhy I had...  \n",
       "3  Making somebody happy is a question of give an...  \n",
       "4  Making somebody happy is a question of give an...  "
      ]
     },
     "execution_count": 30,
     "metadata": {},
     "output_type": "execute_result"
    }
   ],
   "source": [
    "benchmark_df = pd.read_csv(\"../../data/million_songs.csv\")\n",
    "benchmark_df.head()"
   ]
  },
  {
   "cell_type": "code",
   "execution_count": 31,
   "metadata": {},
   "outputs": [],
   "source": [
    "def tokenize(lyric: str) -> list[str]:\n",
    "    # lowercase the text, remove stop words, punctuation and keep only the words\n",
    "    lyric.replace(\"<br>\", \"\\n\")\n",
    "    tokens = nltk.tokenize.word_tokenize(lyric.lower())\n",
    "    stop_words = stopwords.words(\"english\") + list(string.punctuation)\n",
    "    lemmatizer = WordNetLemmatizer()\n",
    "    alpha_tokens = [lemmatizer.lemmatize(token) for token in tokens if token.isalpha() and token not in stop_words]\n",
    "\n",
    "    return alpha_tokens"
   ]
  },
  {
   "cell_type": "code",
   "execution_count": 32,
   "metadata": {},
   "outputs": [],
   "source": [
    "def vectorise(lyrics: str) -> np.ndarray:\n",
    "    tokens = tokenize(lyrics)\n",
    "    lyric_vector = np.zeros(300)\n",
    "    for token in tokens:\n",
    "        try:\n",
    "            lyric_vector += wv_from_bin.get_vector(token.lower())\n",
    "        except:\n",
    "            continue\n",
    "    return lyric_vector / np.linalg.norm(lyric_vector)"
   ]
  },
  {
   "cell_type": "code",
   "execution_count": 33,
   "metadata": {},
   "outputs": [],
   "source": [
    "# go through each lyrics, tokenize it, vectorize each word, then combine all of them into single average vector and store it in the list\n",
    "\n",
    "def get_embeddings(lyrics):\n",
    "    lyrics_embeddings = []\n",
    "    unsupported_tokens = set()\n",
    "    label_embedding_map = {} # dict{str: np.array([])}\n",
    "    for lyric in tqdm(lyrics):\n",
    "        lyric_vector = np.zeros(300)\n",
    "        for token in tokenize(lyric):\n",
    "            try:\n",
    "                lyric_vector += wv_from_bin.get_vector(token.lower())\n",
    "            except KeyError as e:\n",
    "                # if the word is not present in the glove then key error is raised, so handle the exception and move on\n",
    "                unsupported_tokens.add(token)\n",
    "                continue\n",
    "        lyrics_embeddings.append(lyric_vector)\n",
    "\n",
    "\n",
    "    lyrics_embeddings = np.stack(lyrics_embeddings)\n",
    "    scaled_lyrics_embeddings = lyrics_embeddings / np.linalg.norm(lyrics_embeddings, axis=1, keepdims=True)\n",
    "    return scaled_lyrics_embeddings"
   ]
  },
  {
   "cell_type": "code",
   "execution_count": 34,
   "metadata": {},
   "outputs": [
    {
     "name": "stderr",
     "output_type": "stream",
     "text": [
      "  0%|          | 0/57650 [00:00<?, ?it/s]"
     ]
    },
    {
     "name": "stderr",
     "output_type": "stream",
     "text": [
      "100%|██████████| 57650/57650 [02:25<00:00, 395.20it/s]\n"
     ]
    }
   ],
   "source": [
    "train_embeddings = get_embeddings(benchmark_df[\"text\"])"
   ]
  },
  {
   "cell_type": "code",
   "execution_count": 35,
   "metadata": {},
   "outputs": [],
   "source": [
    "def distance(metric: str, embedding_matrix: np.ndarray, test_vector: np.ndarray) -> np.ndarray:\n",
    "    if metric == \"cosine\":\n",
    "            \n",
    "        dot_product = np.dot(embedding_matrix, test_vector)\n",
    "\n",
    "        # Compute magnitudes\n",
    "        embedding_magnitudes = np.linalg.norm(embedding_matrix, axis=1)\n",
    "        test_vector_magnitude = np.linalg.norm(test_vector)\n",
    "\n",
    "        # Compute cosine similarity\n",
    "        cosine_similarity = dot_product / (embedding_magnitudes * test_vector_magnitude)\n",
    "        return cosine_similarity\n",
    "    elif metric == \"euclidean\":\n",
    "        distances = np.linalg.norm(scaled_lyrics_embeddings - test_vector, axis=1)\n",
    "        return distances\n",
    "    else:\n",
    "        raise Exception(f\"Invalid parameter value {metric}\")"
   ]
  },
  {
   "cell_type": "code",
   "execution_count": 36,
   "metadata": {},
   "outputs": [],
   "source": [
    "def cosine_distance(X, centroids):\n",
    "    # Compute cosine similarity between each data point and each centroid\n",
    "    dot_product = np.dot(X, centroids.T)\n",
    "    norms_X = np.linalg.norm(X, axis=1)[:, np.newaxis]\n",
    "    norms_centroids = np.linalg.norm(centroids, axis=1)\n",
    "    cosine_similarities = dot_product / (norms_X * norms_centroids)\n",
    "    \n",
    "    # Convert cosine similarities to cosine distances\n",
    "    cosine_distances = 1 - cosine_similarities\n",
    "    \n",
    "    return cosine_distances"
   ]
  },
  {
   "cell_type": "code",
   "execution_count": 37,
   "metadata": {},
   "outputs": [],
   "source": [
    "def within_cluster_sum_of_squares(X, labels, centers):\n",
    "    wcss = 0\n",
    "    for i in range(len(centers)):\n",
    "        cluster_points = X[labels == i]\n",
    "        wcss += np.sum(cosine_distance(cluster_points, centers[i][None, :])**2)\n",
    "    return wcss"
   ]
  },
  {
   "cell_type": "code",
   "execution_count": 38,
   "metadata": {},
   "outputs": [],
   "source": [
    "import numpy as np\n",
    "\n",
    "def kmeans(X, centroids, max_iterations=100):\n",
    "    log_folder = \"logs/kmeans/\" + datetime.datetime.now().strftime(\"%Y%m%d-%H%M%S\")\n",
    "    summary_writer = tf.summary.create_file_writer(log_folder)\n",
    "    with summary_writer.as_default():\n",
    "        tf.summary.text(\"K centeroids\", str(centroids), step=0)\n",
    "        \n",
    "    for epoch in tqdm(range(max_iterations)):\n",
    "        # Assign each data point to the nearest centroid\n",
    "        distances = cosine_distance(X, centroids)  # Calculate distances\n",
    "        labels = np.argmin(distances, axis=1)  # Assign labels\n",
    "       \n",
    "        # Update centroids\n",
    "        new_centroids = np.array([X[labels == i].mean(axis=0) for i in range(centroids.shape[0])])\n",
    "        \n",
    "        # Check for convergence\n",
    "        if np.all(centroids == new_centroids):\n",
    "            break\n",
    "        \n",
    "        centroids = new_centroids\n",
    "        wcss = within_cluster_sum_of_squares(X, labels=labels, centers=centroids)\n",
    "        print(f\"epoch {epoch}, WCSS {wcss}\")\n",
    "        with summary_writer.as_default():\n",
    "            tf.summary.scalar(\"WCSS\", wcss, step=epoch)\n",
    "        \n",
    "    \n",
    "    return labels, centroids\n",
    "\n"
   ]
  },
  {
   "cell_type": "code",
   "execution_count": 39,
   "metadata": {},
   "outputs": [
    {
     "name": "stderr",
     "output_type": "stream",
     "text": [
      "  1%|          | 1/100 [00:00<00:36,  2.75it/s]"
     ]
    },
    {
     "name": "stdout",
     "output_type": "stream",
     "text": [
      "epoch 0, WCSS 1260.5832057751347\n"
     ]
    },
    {
     "name": "stderr",
     "output_type": "stream",
     "text": [
      "  2%|▏         | 2/100 [00:00<00:36,  2.71it/s]"
     ]
    },
    {
     "name": "stdout",
     "output_type": "stream",
     "text": [
      "epoch 1, WCSS 1056.3469960258199\n"
     ]
    },
    {
     "name": "stderr",
     "output_type": "stream",
     "text": [
      "  3%|▎         | 3/100 [00:01<00:34,  2.80it/s]"
     ]
    },
    {
     "name": "stdout",
     "output_type": "stream",
     "text": [
      "epoch 2, WCSS 1015.2356056582853\n"
     ]
    },
    {
     "name": "stderr",
     "output_type": "stream",
     "text": [
      "  4%|▍         | 4/100 [00:01<00:34,  2.81it/s]"
     ]
    },
    {
     "name": "stdout",
     "output_type": "stream",
     "text": [
      "epoch 3, WCSS 991.9385037776981\n"
     ]
    },
    {
     "name": "stderr",
     "output_type": "stream",
     "text": [
      "  5%|▌         | 5/100 [00:01<00:33,  2.84it/s]"
     ]
    },
    {
     "name": "stdout",
     "output_type": "stream",
     "text": [
      "epoch 4, WCSS 978.6533851356276\n"
     ]
    },
    {
     "name": "stderr",
     "output_type": "stream",
     "text": [
      "  6%|▌         | 6/100 [00:02<00:33,  2.78it/s]"
     ]
    },
    {
     "name": "stdout",
     "output_type": "stream",
     "text": [
      "epoch 5, WCSS 971.0465475683061\n"
     ]
    },
    {
     "name": "stderr",
     "output_type": "stream",
     "text": [
      "  7%|▋         | 7/100 [00:02<00:33,  2.81it/s]"
     ]
    },
    {
     "name": "stdout",
     "output_type": "stream",
     "text": [
      "epoch 6, WCSS 966.3478584883037\n"
     ]
    },
    {
     "name": "stderr",
     "output_type": "stream",
     "text": [
      "  8%|▊         | 8/100 [00:02<00:31,  2.94it/s]"
     ]
    },
    {
     "name": "stdout",
     "output_type": "stream",
     "text": [
      "epoch 7, WCSS 963.1153829753166\n"
     ]
    },
    {
     "name": "stderr",
     "output_type": "stream",
     "text": [
      "  9%|▉         | 9/100 [00:03<00:29,  3.11it/s]"
     ]
    },
    {
     "name": "stdout",
     "output_type": "stream",
     "text": [
      "epoch 8, WCSS 960.9369320190355\n"
     ]
    },
    {
     "name": "stderr",
     "output_type": "stream",
     "text": [
      " 10%|█         | 10/100 [00:03<00:27,  3.22it/s]"
     ]
    },
    {
     "name": "stdout",
     "output_type": "stream",
     "text": [
      "epoch 9, WCSS 959.4316190706298\n"
     ]
    },
    {
     "name": "stderr",
     "output_type": "stream",
     "text": [
      " 11%|█         | 11/100 [00:03<00:27,  3.23it/s]"
     ]
    },
    {
     "name": "stdout",
     "output_type": "stream",
     "text": [
      "epoch 10, WCSS 958.4594875276848\n"
     ]
    },
    {
     "name": "stderr",
     "output_type": "stream",
     "text": [
      " 12%|█▏        | 12/100 [00:03<00:26,  3.27it/s]"
     ]
    },
    {
     "name": "stdout",
     "output_type": "stream",
     "text": [
      "epoch 11, WCSS 957.8040600015377\n"
     ]
    },
    {
     "name": "stderr",
     "output_type": "stream",
     "text": [
      " 13%|█▎        | 13/100 [00:04<00:26,  3.31it/s]"
     ]
    },
    {
     "name": "stdout",
     "output_type": "stream",
     "text": [
      "epoch 12, WCSS 957.3269924468182\n"
     ]
    },
    {
     "name": "stderr",
     "output_type": "stream",
     "text": [
      " 14%|█▍        | 14/100 [00:04<00:25,  3.36it/s]"
     ]
    },
    {
     "name": "stdout",
     "output_type": "stream",
     "text": [
      "epoch 13, WCSS 956.943273638281\n"
     ]
    },
    {
     "name": "stderr",
     "output_type": "stream",
     "text": [
      " 15%|█▌        | 15/100 [00:04<00:25,  3.38it/s]"
     ]
    },
    {
     "name": "stdout",
     "output_type": "stream",
     "text": [
      "epoch 14, WCSS 956.6810546208044\n"
     ]
    },
    {
     "name": "stderr",
     "output_type": "stream",
     "text": [
      " 16%|█▌        | 16/100 [00:05<00:24,  3.42it/s]"
     ]
    },
    {
     "name": "stdout",
     "output_type": "stream",
     "text": [
      "epoch 15, WCSS 956.4425048786449\n"
     ]
    },
    {
     "name": "stderr",
     "output_type": "stream",
     "text": [
      " 17%|█▋        | 17/100 [00:05<00:24,  3.33it/s]"
     ]
    },
    {
     "name": "stdout",
     "output_type": "stream",
     "text": [
      "epoch 16, WCSS 956.2753489823656\n"
     ]
    },
    {
     "name": "stderr",
     "output_type": "stream",
     "text": [
      " 18%|█▊        | 18/100 [00:05<00:24,  3.30it/s]"
     ]
    },
    {
     "name": "stdout",
     "output_type": "stream",
     "text": [
      "epoch 17, WCSS 956.1576734730892\n"
     ]
    },
    {
     "name": "stderr",
     "output_type": "stream",
     "text": [
      " 19%|█▉        | 19/100 [00:06<00:24,  3.30it/s]"
     ]
    },
    {
     "name": "stdout",
     "output_type": "stream",
     "text": [
      "epoch 18, WCSS 956.0207659617507\n"
     ]
    },
    {
     "name": "stderr",
     "output_type": "stream",
     "text": [
      " 20%|██        | 20/100 [00:06<00:24,  3.29it/s]"
     ]
    },
    {
     "name": "stdout",
     "output_type": "stream",
     "text": [
      "epoch 19, WCSS 955.8989376268936\n"
     ]
    },
    {
     "name": "stderr",
     "output_type": "stream",
     "text": [
      " 21%|██        | 21/100 [00:06<00:24,  3.17it/s]"
     ]
    },
    {
     "name": "stdout",
     "output_type": "stream",
     "text": [
      "epoch 20, WCSS 955.7841679452657\n"
     ]
    },
    {
     "name": "stderr",
     "output_type": "stream",
     "text": [
      " 22%|██▏       | 22/100 [00:07<00:24,  3.16it/s]"
     ]
    },
    {
     "name": "stdout",
     "output_type": "stream",
     "text": [
      "epoch 21, WCSS 955.6705907924813\n"
     ]
    },
    {
     "name": "stderr",
     "output_type": "stream",
     "text": [
      " 23%|██▎       | 23/100 [00:07<00:25,  3.02it/s]"
     ]
    },
    {
     "name": "stdout",
     "output_type": "stream",
     "text": [
      "epoch 22, WCSS 955.5517912488154\n"
     ]
    },
    {
     "name": "stderr",
     "output_type": "stream",
     "text": [
      " 24%|██▍       | 24/100 [00:07<00:25,  3.03it/s]"
     ]
    },
    {
     "name": "stdout",
     "output_type": "stream",
     "text": [
      "epoch 23, WCSS 955.4462540204645\n"
     ]
    },
    {
     "name": "stderr",
     "output_type": "stream",
     "text": [
      " 25%|██▌       | 25/100 [00:08<00:24,  3.02it/s]"
     ]
    },
    {
     "name": "stdout",
     "output_type": "stream",
     "text": [
      "epoch 24, WCSS 955.3171769419266\n"
     ]
    },
    {
     "name": "stderr",
     "output_type": "stream",
     "text": [
      " 26%|██▌       | 26/100 [00:08<00:24,  2.99it/s]"
     ]
    },
    {
     "name": "stdout",
     "output_type": "stream",
     "text": [
      "epoch 25, WCSS 955.197429414877\n"
     ]
    },
    {
     "name": "stderr",
     "output_type": "stream",
     "text": [
      " 27%|██▋       | 27/100 [00:08<00:24,  2.99it/s]"
     ]
    },
    {
     "name": "stdout",
     "output_type": "stream",
     "text": [
      "epoch 26, WCSS 955.0604660464819\n"
     ]
    },
    {
     "name": "stderr",
     "output_type": "stream",
     "text": [
      " 28%|██▊       | 28/100 [00:09<00:24,  2.99it/s]"
     ]
    },
    {
     "name": "stdout",
     "output_type": "stream",
     "text": [
      "epoch 27, WCSS 954.9451926576014\n"
     ]
    },
    {
     "name": "stderr",
     "output_type": "stream",
     "text": [
      " 29%|██▉       | 29/100 [00:09<00:24,  2.94it/s]"
     ]
    },
    {
     "name": "stdout",
     "output_type": "stream",
     "text": [
      "epoch 28, WCSS 954.8397814224721\n"
     ]
    },
    {
     "name": "stderr",
     "output_type": "stream",
     "text": [
      " 30%|███       | 30/100 [00:09<00:23,  2.96it/s]"
     ]
    },
    {
     "name": "stdout",
     "output_type": "stream",
     "text": [
      "epoch 29, WCSS 954.6815959524401\n"
     ]
    },
    {
     "name": "stderr",
     "output_type": "stream",
     "text": [
      " 31%|███       | 31/100 [00:10<00:22,  3.05it/s]"
     ]
    },
    {
     "name": "stdout",
     "output_type": "stream",
     "text": [
      "epoch 30, WCSS 954.5565779472139\n"
     ]
    },
    {
     "name": "stderr",
     "output_type": "stream",
     "text": [
      " 32%|███▏      | 32/100 [00:10<00:21,  3.12it/s]"
     ]
    },
    {
     "name": "stdout",
     "output_type": "stream",
     "text": [
      "epoch 31, WCSS 954.430839995081\n"
     ]
    },
    {
     "name": "stderr",
     "output_type": "stream",
     "text": [
      " 33%|███▎      | 33/100 [00:10<00:21,  3.18it/s]"
     ]
    },
    {
     "name": "stdout",
     "output_type": "stream",
     "text": [
      "epoch 32, WCSS 954.3234078656021\n"
     ]
    },
    {
     "name": "stderr",
     "output_type": "stream",
     "text": [
      " 34%|███▍      | 34/100 [00:10<00:20,  3.26it/s]"
     ]
    },
    {
     "name": "stdout",
     "output_type": "stream",
     "text": [
      "epoch 33, WCSS 954.2218510760182\n"
     ]
    },
    {
     "name": "stderr",
     "output_type": "stream",
     "text": [
      " 35%|███▌      | 35/100 [00:11<00:19,  3.34it/s]"
     ]
    },
    {
     "name": "stdout",
     "output_type": "stream",
     "text": [
      "epoch 34, WCSS 954.1416348485554\n"
     ]
    },
    {
     "name": "stderr",
     "output_type": "stream",
     "text": [
      " 36%|███▌      | 36/100 [00:11<00:18,  3.40it/s]"
     ]
    },
    {
     "name": "stdout",
     "output_type": "stream",
     "text": [
      "epoch 35, WCSS 954.0651128310108\n"
     ]
    },
    {
     "name": "stderr",
     "output_type": "stream",
     "text": [
      " 37%|███▋      | 37/100 [00:11<00:18,  3.39it/s]"
     ]
    },
    {
     "name": "stdout",
     "output_type": "stream",
     "text": [
      "epoch 36, WCSS 954.0124469143738\n"
     ]
    },
    {
     "name": "stderr",
     "output_type": "stream",
     "text": [
      " 38%|███▊      | 38/100 [00:12<00:18,  3.28it/s]"
     ]
    },
    {
     "name": "stdout",
     "output_type": "stream",
     "text": [
      "epoch 37, WCSS 953.9458533018086\n"
     ]
    },
    {
     "name": "stderr",
     "output_type": "stream",
     "text": [
      " 39%|███▉      | 39/100 [00:12<00:18,  3.39it/s]"
     ]
    },
    {
     "name": "stdout",
     "output_type": "stream",
     "text": [
      "epoch 38, WCSS 953.8914399300102\n"
     ]
    },
    {
     "name": "stderr",
     "output_type": "stream",
     "text": [
      " 40%|████      | 40/100 [00:12<00:17,  3.49it/s]"
     ]
    },
    {
     "name": "stdout",
     "output_type": "stream",
     "text": [
      "epoch 39, WCSS 953.8574789811038\n"
     ]
    },
    {
     "name": "stderr",
     "output_type": "stream",
     "text": [
      " 41%|████      | 41/100 [00:12<00:16,  3.53it/s]"
     ]
    },
    {
     "name": "stdout",
     "output_type": "stream",
     "text": [
      "epoch 40, WCSS 953.8269820811814\n"
     ]
    },
    {
     "name": "stderr",
     "output_type": "stream",
     "text": [
      " 42%|████▏     | 42/100 [00:13<00:17,  3.37it/s]"
     ]
    },
    {
     "name": "stdout",
     "output_type": "stream",
     "text": [
      "epoch 41, WCSS 953.8191792151672\n"
     ]
    },
    {
     "name": "stderr",
     "output_type": "stream",
     "text": [
      " 43%|████▎     | 43/100 [00:13<00:16,  3.43it/s]"
     ]
    },
    {
     "name": "stdout",
     "output_type": "stream",
     "text": [
      "epoch 42, WCSS 953.8129711706999\n"
     ]
    },
    {
     "name": "stderr",
     "output_type": "stream",
     "text": [
      " 44%|████▍     | 44/100 [00:13<00:16,  3.39it/s]"
     ]
    },
    {
     "name": "stdout",
     "output_type": "stream",
     "text": [
      "epoch 43, WCSS 953.8164052933641\n"
     ]
    },
    {
     "name": "stderr",
     "output_type": "stream",
     "text": [
      " 45%|████▌     | 45/100 [00:14<00:16,  3.33it/s]"
     ]
    },
    {
     "name": "stdout",
     "output_type": "stream",
     "text": [
      "epoch 44, WCSS 953.8107355737669\n"
     ]
    },
    {
     "name": "stderr",
     "output_type": "stream",
     "text": [
      " 46%|████▌     | 46/100 [00:14<00:16,  3.24it/s]"
     ]
    },
    {
     "name": "stdout",
     "output_type": "stream",
     "text": [
      "epoch 45, WCSS 953.8096404500396\n"
     ]
    },
    {
     "name": "stderr",
     "output_type": "stream",
     "text": [
      " 47%|████▋     | 47/100 [00:14<00:15,  3.31it/s]"
     ]
    },
    {
     "name": "stdout",
     "output_type": "stream",
     "text": [
      "epoch 46, WCSS 953.8022089195911\n"
     ]
    },
    {
     "name": "stderr",
     "output_type": "stream",
     "text": [
      " 48%|████▊     | 48/100 [00:15<00:15,  3.37it/s]"
     ]
    },
    {
     "name": "stdout",
     "output_type": "stream",
     "text": [
      "epoch 47, WCSS 953.7924743554086\n"
     ]
    },
    {
     "name": "stderr",
     "output_type": "stream",
     "text": [
      " 49%|████▉     | 49/100 [00:15<00:14,  3.42it/s]"
     ]
    },
    {
     "name": "stdout",
     "output_type": "stream",
     "text": [
      "epoch 48, WCSS 953.7892261454565\n"
     ]
    },
    {
     "name": "stderr",
     "output_type": "stream",
     "text": [
      " 50%|█████     | 50/100 [00:15<00:14,  3.38it/s]"
     ]
    },
    {
     "name": "stdout",
     "output_type": "stream",
     "text": [
      "epoch 49, WCSS 953.790840167574\n"
     ]
    },
    {
     "name": "stderr",
     "output_type": "stream",
     "text": [
      " 51%|█████     | 51/100 [00:16<00:15,  3.24it/s]"
     ]
    },
    {
     "name": "stdout",
     "output_type": "stream",
     "text": [
      "epoch 50, WCSS 953.7895873840572\n"
     ]
    },
    {
     "name": "stderr",
     "output_type": "stream",
     "text": [
      " 52%|█████▏    | 52/100 [00:16<00:15,  3.10it/s]"
     ]
    },
    {
     "name": "stdout",
     "output_type": "stream",
     "text": [
      "epoch 51, WCSS 953.7927277336389\n"
     ]
    },
    {
     "name": "stderr",
     "output_type": "stream",
     "text": [
      " 53%|█████▎    | 53/100 [00:16<00:14,  3.16it/s]"
     ]
    },
    {
     "name": "stdout",
     "output_type": "stream",
     "text": [
      "epoch 52, WCSS 953.788883299629\n"
     ]
    },
    {
     "name": "stderr",
     "output_type": "stream",
     "text": [
      " 54%|█████▍    | 54/100 [00:16<00:14,  3.15it/s]"
     ]
    },
    {
     "name": "stdout",
     "output_type": "stream",
     "text": [
      "epoch 53, WCSS 953.7871186958483\n"
     ]
    },
    {
     "name": "stderr",
     "output_type": "stream",
     "text": [
      " 55%|█████▌    | 55/100 [00:17<00:14,  3.09it/s]"
     ]
    },
    {
     "name": "stdout",
     "output_type": "stream",
     "text": [
      "epoch 54, WCSS 953.783601649234\n"
     ]
    },
    {
     "name": "stderr",
     "output_type": "stream",
     "text": [
      " 56%|█████▌    | 56/100 [00:17<00:13,  3.20it/s]"
     ]
    },
    {
     "name": "stdout",
     "output_type": "stream",
     "text": [
      "epoch 55, WCSS 953.7897765797336\n"
     ]
    },
    {
     "name": "stderr",
     "output_type": "stream",
     "text": [
      " 57%|█████▋    | 57/100 [00:17<00:13,  3.24it/s]"
     ]
    },
    {
     "name": "stdout",
     "output_type": "stream",
     "text": [
      "epoch 56, WCSS 953.7881948384619\n"
     ]
    },
    {
     "name": "stderr",
     "output_type": "stream",
     "text": [
      " 58%|█████▊    | 58/100 [00:18<00:13,  3.21it/s]"
     ]
    },
    {
     "name": "stdout",
     "output_type": "stream",
     "text": [
      "epoch 57, WCSS 953.7880161822438\n"
     ]
    },
    {
     "name": "stderr",
     "output_type": "stream",
     "text": [
      " 59%|█████▉    | 59/100 [00:18<00:12,  3.24it/s]"
     ]
    },
    {
     "name": "stdout",
     "output_type": "stream",
     "text": [
      "epoch 58, WCSS 953.786793352085\n"
     ]
    },
    {
     "name": "stderr",
     "output_type": "stream",
     "text": [
      " 60%|██████    | 60/100 [00:18<00:11,  3.34it/s]"
     ]
    },
    {
     "name": "stdout",
     "output_type": "stream",
     "text": [
      "epoch 59, WCSS 953.7875832645332\n"
     ]
    },
    {
     "name": "stderr",
     "output_type": "stream",
     "text": [
      " 61%|██████    | 61/100 [00:19<00:11,  3.38it/s]"
     ]
    },
    {
     "name": "stdout",
     "output_type": "stream",
     "text": [
      "epoch 60, WCSS 953.7910576522362\n"
     ]
    },
    {
     "name": "stderr",
     "output_type": "stream",
     "text": [
      " 62%|██████▏   | 62/100 [00:19<00:11,  3.36it/s]"
     ]
    },
    {
     "name": "stdout",
     "output_type": "stream",
     "text": [
      "epoch 61, WCSS 953.7889185109274\n"
     ]
    },
    {
     "name": "stderr",
     "output_type": "stream",
     "text": [
      " 63%|██████▎   | 63/100 [00:19<00:10,  3.41it/s]"
     ]
    },
    {
     "name": "stdout",
     "output_type": "stream",
     "text": [
      "epoch 62, WCSS 953.7856983530163\n"
     ]
    },
    {
     "name": "stderr",
     "output_type": "stream",
     "text": [
      " 64%|██████▍   | 64/100 [00:19<00:10,  3.40it/s]"
     ]
    },
    {
     "name": "stdout",
     "output_type": "stream",
     "text": [
      "epoch 63, WCSS 953.781336461893\n"
     ]
    },
    {
     "name": "stderr",
     "output_type": "stream",
     "text": [
      " 65%|██████▌   | 65/100 [00:20<00:10,  3.36it/s]"
     ]
    },
    {
     "name": "stdout",
     "output_type": "stream",
     "text": [
      "epoch 64, WCSS 953.776960212054\n"
     ]
    },
    {
     "name": "stderr",
     "output_type": "stream",
     "text": [
      " 66%|██████▌   | 66/100 [00:20<00:10,  3.37it/s]"
     ]
    },
    {
     "name": "stdout",
     "output_type": "stream",
     "text": [
      "epoch 65, WCSS 953.775629858093\n"
     ]
    },
    {
     "name": "stderr",
     "output_type": "stream",
     "text": [
      " 67%|██████▋   | 67/100 [00:20<00:09,  3.45it/s]"
     ]
    },
    {
     "name": "stdout",
     "output_type": "stream",
     "text": [
      "epoch 66, WCSS 953.7762209219836\n"
     ]
    },
    {
     "name": "stderr",
     "output_type": "stream",
     "text": [
      " 68%|██████▊   | 68/100 [00:21<00:09,  3.43it/s]"
     ]
    },
    {
     "name": "stdout",
     "output_type": "stream",
     "text": [
      "epoch 67, WCSS 953.78670089956\n"
     ]
    },
    {
     "name": "stderr",
     "output_type": "stream",
     "text": [
      " 69%|██████▉   | 69/100 [00:21<00:09,  3.41it/s]"
     ]
    },
    {
     "name": "stdout",
     "output_type": "stream",
     "text": [
      "epoch 68, WCSS 953.7868717908945\n"
     ]
    },
    {
     "name": "stderr",
     "output_type": "stream",
     "text": [
      " 70%|███████   | 70/100 [00:21<00:08,  3.44it/s]"
     ]
    },
    {
     "name": "stdout",
     "output_type": "stream",
     "text": [
      "epoch 69, WCSS 953.7876320652422\n"
     ]
    },
    {
     "name": "stderr",
     "output_type": "stream",
     "text": [
      " 71%|███████   | 71/100 [00:22<00:08,  3.49it/s]"
     ]
    },
    {
     "name": "stdout",
     "output_type": "stream",
     "text": [
      "epoch 70, WCSS 953.785831693312\n"
     ]
    },
    {
     "name": "stderr",
     "output_type": "stream",
     "text": [
      " 72%|███████▏  | 72/100 [00:22<00:08,  3.38it/s]"
     ]
    },
    {
     "name": "stdout",
     "output_type": "stream",
     "text": [
      "epoch 71, WCSS 953.7914005732699\n"
     ]
    },
    {
     "name": "stderr",
     "output_type": "stream",
     "text": [
      " 73%|███████▎  | 73/100 [00:22<00:08,  3.37it/s]"
     ]
    },
    {
     "name": "stdout",
     "output_type": "stream",
     "text": [
      "epoch 72, WCSS 953.7899057242772\n"
     ]
    },
    {
     "name": "stderr",
     "output_type": "stream",
     "text": [
      " 74%|███████▍  | 74/100 [00:22<00:07,  3.42it/s]"
     ]
    },
    {
     "name": "stdout",
     "output_type": "stream",
     "text": [
      "epoch 73, WCSS 953.7871065847135\n"
     ]
    },
    {
     "name": "stderr",
     "output_type": "stream",
     "text": [
      " 75%|███████▌  | 75/100 [00:23<00:07,  3.48it/s]"
     ]
    },
    {
     "name": "stdout",
     "output_type": "stream",
     "text": [
      "epoch 74, WCSS 953.7849058195771\n"
     ]
    },
    {
     "name": "stderr",
     "output_type": "stream",
     "text": [
      " 76%|███████▌  | 76/100 [00:23<00:07,  3.35it/s]"
     ]
    },
    {
     "name": "stdout",
     "output_type": "stream",
     "text": [
      "epoch 75, WCSS 953.7697373867643\n"
     ]
    },
    {
     "name": "stderr",
     "output_type": "stream",
     "text": [
      " 77%|███████▋  | 77/100 [00:23<00:07,  2.98it/s]"
     ]
    },
    {
     "name": "stdout",
     "output_type": "stream",
     "text": [
      "epoch 76, WCSS 953.7553676141089\n"
     ]
    },
    {
     "name": "stderr",
     "output_type": "stream",
     "text": [
      " 78%|███████▊  | 78/100 [00:24<00:08,  2.73it/s]"
     ]
    },
    {
     "name": "stdout",
     "output_type": "stream",
     "text": [
      "epoch 77, WCSS 953.7532172993173\n"
     ]
    },
    {
     "name": "stderr",
     "output_type": "stream",
     "text": [
      " 79%|███████▉  | 79/100 [00:24<00:07,  2.73it/s]"
     ]
    },
    {
     "name": "stdout",
     "output_type": "stream",
     "text": [
      "epoch 78, WCSS 953.7513404507616\n"
     ]
    },
    {
     "name": "stderr",
     "output_type": "stream",
     "text": [
      " 80%|████████  | 80/100 [00:25<00:07,  2.84it/s]"
     ]
    },
    {
     "name": "stdout",
     "output_type": "stream",
     "text": [
      "epoch 79, WCSS 953.748195315584\n"
     ]
    },
    {
     "name": "stderr",
     "output_type": "stream",
     "text": [
      " 81%|████████  | 81/100 [00:25<00:06,  2.81it/s]"
     ]
    },
    {
     "name": "stdout",
     "output_type": "stream",
     "text": [
      "epoch 80, WCSS 953.7478121008322\n"
     ]
    },
    {
     "name": "stderr",
     "output_type": "stream",
     "text": [
      " 82%|████████▏ | 82/100 [00:25<00:06,  2.79it/s]"
     ]
    },
    {
     "name": "stdout",
     "output_type": "stream",
     "text": [
      "epoch 81, WCSS 953.7626356565398\n"
     ]
    },
    {
     "name": "stderr",
     "output_type": "stream",
     "text": [
      " 83%|████████▎ | 83/100 [00:26<00:05,  2.85it/s]"
     ]
    },
    {
     "name": "stdout",
     "output_type": "stream",
     "text": [
      "epoch 82, WCSS 953.7731686155627\n"
     ]
    },
    {
     "name": "stderr",
     "output_type": "stream",
     "text": [
      " 84%|████████▍ | 84/100 [00:26<00:05,  2.70it/s]"
     ]
    },
    {
     "name": "stdout",
     "output_type": "stream",
     "text": [
      "epoch 83, WCSS 953.7778634738396\n"
     ]
    },
    {
     "name": "stderr",
     "output_type": "stream",
     "text": [
      " 85%|████████▌ | 85/100 [00:26<00:05,  2.65it/s]"
     ]
    },
    {
     "name": "stdout",
     "output_type": "stream",
     "text": [
      "epoch 84, WCSS 953.7796539100037\n"
     ]
    },
    {
     "name": "stderr",
     "output_type": "stream",
     "text": [
      " 86%|████████▌ | 86/100 [00:27<00:05,  2.59it/s]"
     ]
    },
    {
     "name": "stdout",
     "output_type": "stream",
     "text": [
      "epoch 85, WCSS 953.7885812464385\n"
     ]
    },
    {
     "name": "stderr",
     "output_type": "stream",
     "text": [
      " 87%|████████▋ | 87/100 [00:27<00:04,  2.62it/s]"
     ]
    },
    {
     "name": "stdout",
     "output_type": "stream",
     "text": [
      "epoch 86, WCSS 953.7909828786114\n"
     ]
    },
    {
     "name": "stderr",
     "output_type": "stream",
     "text": [
      " 88%|████████▊ | 88/100 [00:28<00:04,  2.74it/s]"
     ]
    },
    {
     "name": "stdout",
     "output_type": "stream",
     "text": [
      "epoch 87, WCSS 953.8008725006166\n"
     ]
    },
    {
     "name": "stderr",
     "output_type": "stream",
     "text": [
      " 89%|████████▉ | 89/100 [00:28<00:03,  2.88it/s]"
     ]
    },
    {
     "name": "stdout",
     "output_type": "stream",
     "text": [
      "epoch 88, WCSS 953.8087615182194\n"
     ]
    },
    {
     "name": "stderr",
     "output_type": "stream",
     "text": [
      " 90%|█████████ | 90/100 [00:28<00:03,  2.97it/s]"
     ]
    },
    {
     "name": "stdout",
     "output_type": "stream",
     "text": [
      "epoch 89, WCSS 953.8253976705214\n"
     ]
    },
    {
     "name": "stderr",
     "output_type": "stream",
     "text": [
      " 91%|█████████ | 91/100 [00:28<00:03,  2.95it/s]"
     ]
    },
    {
     "name": "stdout",
     "output_type": "stream",
     "text": [
      "epoch 90, WCSS 953.8287383157684\n"
     ]
    },
    {
     "name": "stderr",
     "output_type": "stream",
     "text": [
      " 92%|█████████▏| 92/100 [00:29<00:02,  2.87it/s]"
     ]
    },
    {
     "name": "stdout",
     "output_type": "stream",
     "text": [
      "epoch 91, WCSS 953.8374672550399\n"
     ]
    },
    {
     "name": "stderr",
     "output_type": "stream",
     "text": [
      " 93%|█████████▎| 93/100 [00:29<00:02,  2.71it/s]"
     ]
    },
    {
     "name": "stdout",
     "output_type": "stream",
     "text": [
      "epoch 92, WCSS 953.8543044742607\n"
     ]
    },
    {
     "name": "stderr",
     "output_type": "stream",
     "text": [
      " 94%|█████████▍| 94/100 [00:30<00:02,  2.77it/s]"
     ]
    },
    {
     "name": "stdout",
     "output_type": "stream",
     "text": [
      "epoch 93, WCSS 953.8594229367363\n"
     ]
    },
    {
     "name": "stderr",
     "output_type": "stream",
     "text": [
      " 95%|█████████▌| 95/100 [00:30<00:01,  2.86it/s]"
     ]
    },
    {
     "name": "stdout",
     "output_type": "stream",
     "text": [
      "epoch 94, WCSS 953.8566024311874\n"
     ]
    },
    {
     "name": "stderr",
     "output_type": "stream",
     "text": [
      " 96%|█████████▌| 96/100 [00:30<00:01,  2.97it/s]"
     ]
    },
    {
     "name": "stdout",
     "output_type": "stream",
     "text": [
      "epoch 95, WCSS 953.856385351671\n"
     ]
    },
    {
     "name": "stderr",
     "output_type": "stream",
     "text": [
      " 97%|█████████▋| 97/100 [00:31<00:00,  3.02it/s]"
     ]
    },
    {
     "name": "stdout",
     "output_type": "stream",
     "text": [
      "epoch 96, WCSS 953.8610868606474\n"
     ]
    },
    {
     "name": "stderr",
     "output_type": "stream",
     "text": [
      " 98%|█████████▊| 98/100 [00:31<00:00,  3.06it/s]"
     ]
    },
    {
     "name": "stdout",
     "output_type": "stream",
     "text": [
      "epoch 97, WCSS 953.8683865525852\n"
     ]
    },
    {
     "name": "stderr",
     "output_type": "stream",
     "text": [
      " 99%|█████████▉| 99/100 [00:31<00:00,  3.09it/s]"
     ]
    },
    {
     "name": "stdout",
     "output_type": "stream",
     "text": [
      "epoch 98, WCSS 953.8799651921644\n"
     ]
    },
    {
     "name": "stderr",
     "output_type": "stream",
     "text": [
      "100%|██████████| 100/100 [00:32<00:00,  3.12it/s]"
     ]
    },
    {
     "name": "stdout",
     "output_type": "stream",
     "text": [
      "epoch 99, WCSS 953.8816390713134\n",
      "Cluster centroids: [[ 0.04296734  0.03441402  0.02175763 ... -0.07365521  0.01217681\n",
      "  -0.01384851]\n",
      " [ 0.0293246   0.03638233  0.0303056  ... -0.08496177 -0.00488135\n",
      "   0.0116839 ]\n",
      " [ 0.05624393  0.05324594  0.01895331 ... -0.04522269  0.0297658\n",
      "  -0.01612653]\n",
      " ...\n",
      " [ 0.06941528  0.04403543  0.03447174 ... -0.07939061  0.00199658\n",
      "   0.01946241]\n",
      " [ 0.00678938  0.0428358   0.0542908  ... -0.06671903 -0.01265312\n",
      "   0.07285801]\n",
      " [ 0.05465438  0.03869095  0.02116075 ... -0.06403305  0.01579117\n",
      "  -0.00756458]]\n",
      "Cluster labels: [5 4 3 ... 5 2 0]\n"
     ]
    },
    {
     "name": "stderr",
     "output_type": "stream",
     "text": [
      "\n"
     ]
    }
   ],
   "source": [
    "\n",
    "initial_centroids = train_embeddings[np.random.choice(train_embeddings.shape[0], 9, replace=False)]\n",
    "# Perform K-means clustering\n",
    "labels, centroids = kmeans(train_embeddings,initial_centroids, max_iterations=100)\n",
    "\n",
    "print(\"Cluster centroids:\", centroids)\n",
    "print(\"Cluster labels:\", labels)\n"
   ]
  },
  {
   "cell_type": "code",
   "execution_count": 40,
   "metadata": {},
   "outputs": [
    {
     "data": {
      "text/plain": [
       "array([0, 1, 2, 3, 4, 5, 6, 7, 8], dtype=int64)"
      ]
     },
     "execution_count": 40,
     "metadata": {},
     "output_type": "execute_result"
    }
   ],
   "source": [
    "np.unique(labels)"
   ]
  },
  {
   "cell_type": "code",
   "execution_count": 41,
   "metadata": {},
   "outputs": [
    {
     "data": {
      "image/png": "[encoded data removed]",
      "text/plain": [
       "<Figure size 800x600 with 1 Axes>"
      ]
     },
     "metadata": {},
     "output_type": "display_data"
    }
   ],
   "source": [
    "import numpy as np\n",
    "import matplotlib.pyplot as plt\n",
    "from sklearn.cluster import KMeans\n",
    "from sklearn.manifold import TSNE\n",
    "\n",
    "# Get cluster labels\n",
    "cluster_labels = labels\n",
    "k = 9\n",
    "# Apply t-SNE to reduce dimensionality for visualization\n",
    "tsne = TSNE(n_components=2, random_state=42)\n",
    "word_embeddings_tsne = tsne.fit_transform(train_embeddings)\n",
    "\n",
    "# Plot t-SNE visualization with cluster labels\n",
    "plt.figure(figsize=(8, 6))\n",
    "for i in range(k):\n",
    "    plt.scatter(word_embeddings_tsne[cluster_labels == i, 0], \n",
    "                word_embeddings_tsne[cluster_labels == i, 1], \n",
    "                label=f'Cluster {i+1}')\n",
    "plt.xlabel('t-SNE Dimension 1')\n",
    "plt.ylabel('t-SNE Dimension 2')\n",
    "plt.title('t-SNE Visualization of K-Means Clusters')\n",
    "plt.legend()\n",
    "plt.show()"
   ]
  },
  {
   "cell_type": "code",
   "execution_count": 42,
   "metadata": {},
   "outputs": [],
   "source": [
    "song = \"\"\"\n",
    "It might seem crazy what I am 'bout to say\n",
    "Sunshine, she's here, you can take a break\n",
    "I'm a hot air balloon that could go to space\n",
    "With the air, like I don't care, baby by the way\n",
    "Huh (Because I'm happy)\n",
    "Clap along if you feel like a room without a roof\n",
    "(Because I'm happy)\n",
    "Clap along if you feel like happiness is the truth\n",
    "(Because I'm happy)\n",
    "Clap along if you know what happiness is to you\n",
    "(Because I'm happy)\n",
    "Clap along if you feel like that's what you wanna do\n",
    "Here come bad news talking this and that (Yeah)\n",
    "Well give me all you got, don't hold back (Yeah)\n",
    "Well I should probably warn you I'll be just fine (Yeah)\n",
    "No offense to you don't waste your time\n",
    "Here's why\n",
    "Clap along if you feel like a room without a roof\n",
    "(Because I'm happy)\n",
    "Clap along if you feel like happiness is the truth\n",
    "(Because I'm happy)\n",
    "Clap along if you know what happiness is to you\n",
    "(Because I'm happy)\n",
    "Clap along if you feel like that's what you wanna do\n",
    "Uh, bring me down\n",
    "Can't nothing, bring me down\n",
    "My level's too high to bring me down\n",
    "Can't nothing, bring me down, I said\n",
    "Bring me down, can't nothing\n",
    "Bring me down\n",
    "My level's too high to bring me down\n",
    "Can't nothing, bring me down, I said\n",
    "Clap along if you feel like a room without a roof\n",
    "(Because I'm happy)\n",
    "Clap along if you feel like happiness is the truth\n",
    "(Because I'm happy)\n",
    "Clap along if you know what happiness is to you\n",
    "(Because I'm happy)\n",
    "Clap along if you feel like that's what you wanna do\n",
    "Clap along if you feel like a room without a roof\n",
    "(Because I'm happy)\n",
    "Clap along if you feel like happiness is the truth\n",
    "(Because I'm happy)\n",
    "Clap along if you know what happiness is to you\n",
    "(Because I'm happy)\n",
    "Clap along if you feel like that's what you wanna do\n",
    "Uh, bring me down (Happy, happy, happy, happy)\n",
    "Can't nothing (Happy, happy, happy, happy)\n",
    "Bring me down, my level's too high\n",
    "To bring me down (Happy, happy, happy, happy)\n",
    "Can't nothing (Happy, happy, happy, happy)\n",
    "Bring me down, I said\n",
    "Clap along if you feel like a room without a roof\n",
    "(Because I'm happy)\n",
    "Clap along if you feel like happiness is the truth\n",
    "(Because I'm happy)\n",
    "Clap along if you know what happiness is to you (ayy, ayy, ayy)\n",
    "(Because I'm happy)\n",
    "Clap along if you feel like that's what you wanna do\n",
    "Clap along if you feel like a room without a roof\n",
    "(Because I'm happy)\n",
    "Clap along if you feel like happiness is the truth\n",
    "(Because I'm happy)\n",
    "Clap along if you know what happiness is to you (hey)\n",
    "(Because I'm happy)\n",
    "Clap along if you feel like that's what you wanna do\n",
    "Come on\n",
    "\"\"\""
   ]
  },
  {
   "cell_type": "code",
   "execution_count": 43,
   "metadata": {},
   "outputs": [],
   "source": [
    "def predict(lyrics: str, labels: list[str]) -> str:\n",
    "    song_vector = vectorise(lyrics)[None,:]\n",
    "    return np.argsort(cosine_distance(X=song_vector ,centroids=centroids))"
   ]
  },
  {
   "cell_type": "code",
   "execution_count": 44,
   "metadata": {},
   "outputs": [
    {
     "data": {
      "text/plain": [
       "array([[0, 3, 5, 8, 1, 4, 2, 6, 7]], dtype=int64)"
      ]
     },
     "execution_count": 44,
     "metadata": {},
     "output_type": "execute_result"
    }
   ],
   "source": [
    "predict(song,\"\")"
   ]
  },
  {
   "cell_type": "code",
   "execution_count": 45,
   "metadata": {},
   "outputs": [
    {
     "data": {
      "text/plain": [
       "array([[ 0.04296734,  0.03441402,  0.02175763, ..., -0.07365521,\n",
       "         0.01217681, -0.01384851],\n",
       "       [ 0.0293246 ,  0.03638233,  0.0303056 , ..., -0.08496177,\n",
       "        -0.00488135,  0.0116839 ],\n",
       "       [ 0.05624393,  0.05324594,  0.01895331, ..., -0.04522269,\n",
       "         0.0297658 , -0.01612653],\n",
       "       ...,\n",
       "       [ 0.06941528,  0.04403543,  0.03447174, ..., -0.07939061,\n",
       "         0.00199658,  0.01946241],\n",
       "       [ 0.00678938,  0.0428358 ,  0.0542908 , ..., -0.06671903,\n",
       "        -0.01265312,  0.07285801],\n",
       "       [ 0.05465438,  0.03869095,  0.02116075, ..., -0.06403305,\n",
       "         0.01579117, -0.00756458]])"
      ]
     },
     "execution_count": 45,
     "metadata": {},
     "output_type": "execute_result"
    }
   ],
   "source": [
    "centroids"
   ]
  },
  {
   "cell_type": "code",
   "execution_count": 46,
   "metadata": {},
   "outputs": [],
   "source": [
    "closest_indices_dict = {}\n",
    "cluster_centers = centroids\n",
    "\n",
    "# Find the indices of the closest embeddings to each centroid\n",
    "for i, centroid in enumerate(cluster_centers):\n",
    "    # Calculate distances between centroid and all embeddings\n",
    "    distances = cosine_distance(train_embeddings, centroid[None, :])\n",
    "    # Sort distances and get indices of the closest 5 embeddings\n",
    "    closest_indices = np.argsort(distances.T)\n",
    "    # Store indices in dictionary\n",
    "    closest_indices_dict[f'Centroid {i}'] = closest_indices[0][0]\n"
   ]
  },
  {
   "cell_type": "code",
   "execution_count": 47,
   "metadata": {},
   "outputs": [
    {
     "data": {
      "text/plain": [
       "{'Centroid 0': 54879,\n",
       " 'Centroid 1': 45718,\n",
       " 'Centroid 2': 42933,\n",
       " 'Centroid 3': 41931,\n",
       " 'Centroid 4': 5072,\n",
       " 'Centroid 5': 4572,\n",
       " 'Centroid 6': 34236,\n",
       " 'Centroid 7': 26223,\n",
       " 'Centroid 8': 15288}"
      ]
     },
     "execution_count": 47,
     "metadata": {},
     "output_type": "execute_result"
    }
   ],
   "source": [
    "closest_indices_dict"
   ]
  },
  {
   "cell_type": "code",
   "execution_count": 48,
   "metadata": {},
   "outputs": [
    {
     "name": "stdout",
     "output_type": "stream",
     "text": [
      "All aboard  \n",
      "Or are all y'all bored?  \n",
      "It's good to have y'all back now  \n",
      "Ladies and gents  \n",
      "Y'all already know what it is  \n",
      "God don't make no mistakes  \n",
      "God don't make no mistakes  \n",
      "  \n",
      "Little do they know when I was brought up into this game  \n",
      "Point ain't always in a vibe for spitting I made a change  \n",
      "Like the diaper on the bottom of my baby daughter  \n",
      "I wasn't ready to be no father, maybe, kind of, sorta  \n",
      "'Cause when I saw her I swear it made a tear fall  \n",
      "Not tears of sorrow but of joy so listen here y'all  \n",
      "I grabbed the mic and moved the crowd then disappeared dog  \n",
      "Back in '94 that was the motherfucking year homeboy  \n",
      "Then that southernplayalistic went platinum  \n",
      "Stacks on deck they ain't tell us to pay our taxes  \n",
      "Walking around the table in the kitchen we was practicing  \n",
      "Reciting rhymes to sharpen minds now lets deliver to the masses  \n",
      "  \n",
      "[Chorus]  \n",
      "It's been a good long road  \n",
      "Now its time for me to go  \n",
      "I say goodbye, goodbye, goodbye, goodbye  \n",
      "Time to spread my wings  \n",
      "And high up in the sky  \n",
      "I can fly, I'll fly, I'll fly, so high  \n",
      "  \n",
      "Welcome to my life I think its time I take it back  \n",
      "I got to give you all the facts so you can see what type of cat  \n",
      "That you dealing with now on ATLiens we was killing it  \n",
      "And then my auntie pass she was like my mother I was feeling it  \n",
      "The first person close to me to die I needed healing  \n",
      "But I see her as an angel when I look up at the ceiling  \n",
      "Like my daddy and grandaddy on both shoulders steady chilling  \n",
      "So you got to keep on living like each day is the beginning  \n",
      "It's yo birthday even on your worst day  \n",
      "Live it like the first day I'm Antwan Andre  \n",
      "Or General Patton if you know bout Purple Ribbon or Got Purp  \n",
      "I, I be on that kryptonite that means I can't be hurt  \n",
      "Gotta leave this place it's been cool but I gotta go  \n",
      "  \n",
      "[Chorus]  \n",
      "  \n",
      "Even on the train  \n",
      "Should've asked two free mans  \n",
      "I'll be back again  \n",
      "(Know we been though a lot I ain't perfect but I swear  \n",
      "To you I'm a changed man)  \n",
      "Even on the train  \n",
      "Should've asked two free mans  \n",
      "I'll be back again  \n",
      "(From the caboose)  \n",
      "  \n",
      "Now it's time to say goodbye they should've turned me loose  \n",
      "I was all about my team but now I call upon my crew  \n",
      "I'm a family type of person but I'm deadly dolo too  \n",
      "And you can achieve anything that you put your heart into  \n",
      "See the second hand will never stop and neither will the clock  \n",
      "The nigga big still hit the stage by himself and still rock  \n",
      "Cause when your faith is in the right place see he ain't gon let you flop  \n",
      "You can say whatever you want (Bet you can't do it like me) Boy stop!!  \n",
      "  \n",
      "Before you can say you can't get going  \n",
      "There's no excuse this time don't be afraid to fly  \n",
      "You never know what day the doors will close  \n",
      "It's time to say goodbye time to pack up and ride  \n",
      "Got to leave this place it's been cool but I gotta go  \n",
      "  \n",
      "[Chorus]\n",
      "\n",
      "\n"
     ]
    }
   ],
   "source": [
    "print(benchmark_df.loc[closest_indices_dict[\"Centroid 8\"]][\"text\"])"
   ]
  },
  {
   "cell_type": "code",
   "execution_count": 50,
   "metadata": {},
   "outputs": [],
   "source": [
    "embeddings = np.load(\"../embeddings/emotions_embeddings_v1.npy\")\n",
    "labels = np.array(\n",
    "            [\n",
    "                \"Calmness\",\n",
    "                \"Sadness\",\n",
    "                \"Power\",\n",
    "                \"Tension\",\n",
    "                \"Amazement\",\n",
    "                \"Solemnity\",\n",
    "                \"Tenderness\",\n",
    "                \"Joyful activation\",\n",
    "                \"Nostalgia\",\n",
    "            ])"
   ]
  },
  {
   "cell_type": "code",
   "execution_count": 51,
   "metadata": {},
   "outputs": [
    {
     "data": {
      "text/plain": [
       "array([[4, 5, 6, 8, 0, 1, 7, 2, 3],\n",
       "       [7, 2, 3, 4, 5, 6, 8, 0, 1],\n",
       "       [0, 1, 8, 4, 5, 6, 2, 3, 7],\n",
       "       [4, 5, 6, 0, 1, 8, 7, 2, 3],\n",
       "       [0, 1, 4, 5, 6, 8, 7, 2, 3],\n",
       "       [0, 1, 8, 4, 5, 6, 2, 3, 7],\n",
       "       [0, 1, 4, 5, 6, 8, 2, 3, 7],\n",
       "       [7, 2, 3, 4, 5, 6, 0, 1, 8],\n",
       "       [0, 1, 8, 4, 5, 6, 2, 3, 7]], dtype=int64)"
      ]
     },
     "execution_count": 51,
     "metadata": {},
     "output_type": "execute_result"
    }
   ],
   "source": [
    "np.argsort(cosine_distance(centroids, embeddings))"
   ]
  },
  {
   "cell_type": "code",
   "execution_count": 52,
   "metadata": {},
   "outputs": [
    {
     "name": "stdout",
     "output_type": "stream",
     "text": [
      "All aboard  \n",
      "Or are all y'all bored?  \n",
      "It's good to have y'all back now  \n",
      "Ladies and gents  \n",
      "Y'all already know what it is  \n",
      "God don't make no mistakes  \n",
      "God don't make no mistakes  \n",
      "  \n",
      "Little do they know when I was brought up into this game  \n",
      "Point ain't always in a vibe for spitting I made a change  \n",
      "Like the diaper on the bottom of my baby daughter  \n",
      "I wasn't ready to be no father, maybe, kind of, sorta  \n",
      "'Cause when I saw her I swear it made a tear fall  \n",
      "Not tears of sorrow but of joy so listen here y'all  \n",
      "I grabbed the mic and moved the crowd then disappeared dog  \n",
      "Back in '94 that was the motherfucking year homeboy  \n",
      "Then that southernplayalistic went platinum  \n",
      "Stacks on deck they ain't tell us to pay our taxes  \n",
      "Walking around the table in the kitchen we was practicing  \n",
      "Reciting rhymes to sharpen minds now lets deliver to the masses  \n",
      "  \n",
      "[Chorus]  \n",
      "It's been a good long road  \n",
      "Now its time for me to go  \n",
      "I say goodbye, goodbye, goodbye, goodbye  \n",
      "Time to spread my wings  \n",
      "And high up in the sky  \n",
      "I can fly, I'll fly, I'll fly, so high  \n",
      "  \n",
      "Welcome to my life I think its time I take it back  \n",
      "I got to give you all the facts so you can see what type of cat  \n",
      "That you dealing with now on ATLiens we was killing it  \n",
      "And then my auntie pass she was like my mother I was feeling it  \n",
      "The first person close to me to die I needed healing  \n",
      "But I see her as an angel when I look up at the ceiling  \n",
      "Like my daddy and grandaddy on both shoulders steady chilling  \n",
      "So you got to keep on living like each day is the beginning  \n",
      "It's yo birthday even on your worst day  \n",
      "Live it like the first day I'm Antwan Andre  \n",
      "Or General Patton if you know bout Purple Ribbon or Got Purp  \n",
      "I, I be on that kryptonite that means I can't be hurt  \n",
      "Gotta leave this place it's been cool but I gotta go  \n",
      "  \n",
      "[Chorus]  \n",
      "  \n",
      "Even on the train  \n",
      "Should've asked two free mans  \n",
      "I'll be back again  \n",
      "(Know we been though a lot I ain't perfect but I swear  \n",
      "To you I'm a changed man)  \n",
      "Even on the train  \n",
      "Should've asked two free mans  \n",
      "I'll be back again  \n",
      "(From the caboose)  \n",
      "  \n",
      "Now it's time to say goodbye they should've turned me loose  \n",
      "I was all about my team but now I call upon my crew  \n",
      "I'm a family type of person but I'm deadly dolo too  \n",
      "And you can achieve anything that you put your heart into  \n",
      "See the second hand will never stop and neither will the clock  \n",
      "The nigga big still hit the stage by himself and still rock  \n",
      "Cause when your faith is in the right place see he ain't gon let you flop  \n",
      "You can say whatever you want (Bet you can't do it like me) Boy stop!!  \n",
      "  \n",
      "Before you can say you can't get going  \n",
      "There's no excuse this time don't be afraid to fly  \n",
      "You never know what day the doors will close  \n",
      "It's time to say goodbye time to pack up and ride  \n",
      "Got to leave this place it's been cool but I gotta go  \n",
      "  \n",
      "[Chorus]\n",
      "\n",
      "\n"
     ]
    }
   ],
   "source": [
    "print(benchmark_df.loc[closest_indices_dict[\"Centroid 8\"]][\"text\"])"
   ]
  },
  {
   "cell_type": "code",
   "execution_count": 53,
   "metadata": {},
   "outputs": [],
   "source": [
    "mapping = {}\n",
    "for i, l in enumerate(labels[np.argsort(cosine_distance(centroids, embeddings), axis=1)[:, :4]]):\n",
    "    mapping[i] = list(l)"
   ]
  },
  {
   "cell_type": "code",
   "execution_count": null,
   "metadata": {},
   "outputs": [],
   "source": []
  },
  {
   "cell_type": "code",
   "execution_count": 54,
   "metadata": {},
   "outputs": [
    {
     "data": {
      "text/plain": [
       "{0: ['Amazement', 'Solemnity', 'Tenderness', 'Nostalgia'],\n",
       " 1: ['Joyful activation', 'Power', 'Tension', 'Amazement'],\n",
       " 2: ['Calmness', 'Sadness', 'Nostalgia', 'Amazement'],\n",
       " 3: ['Amazement', 'Solemnity', 'Tenderness', 'Calmness'],\n",
       " 4: ['Calmness', 'Sadness', 'Amazement', 'Solemnity'],\n",
       " 5: ['Calmness', 'Sadness', 'Nostalgia', 'Amazement'],\n",
       " 6: ['Calmness', 'Sadness', 'Amazement', 'Solemnity'],\n",
       " 7: ['Joyful activation', 'Power', 'Tension', 'Amazement'],\n",
       " 8: ['Calmness', 'Sadness', 'Nostalgia', 'Amazement']}"
      ]
     },
     "execution_count": 54,
     "metadata": {},
     "output_type": "execute_result"
    }
   ],
   "source": [
    "mapping"
   ]
  },
  {
   "cell_type": "code",
   "execution_count": 55,
   "metadata": {},
   "outputs": [
    {
     "data": {
      "text/plain": [
       "artist                                          Vanilla Ice\n",
       "song                                              I Go Down\n",
       "link                 /v/vanilla+ice/i+go+down_20143665.html\n",
       "text      [Verse 1]  \\r\\nI Remember way back when  \\r\\nL...\n",
       "Name: 54879, dtype: object"
      ]
     },
     "execution_count": 55,
     "metadata": {},
     "output_type": "execute_result"
    }
   ],
   "source": [
    "benchmark_df.loc[closest_indices_dict[\"Centroid 0\"]]"
   ]
  },
  {
   "cell_type": "code",
   "execution_count": 56,
   "metadata": {},
   "outputs": [
    {
     "data": {
      "text/plain": [
       "artist                                          Nicki Minaj\n",
       "song                                     Barbie World Intro\n",
       "link        /n/nicki+minaj/barbie+world+intro_20873938.html\n",
       "text      [Chorus:]  \\r\\nI wanna get to know you  \\r\\nI ...\n",
       "Name: 45718, dtype: object"
      ]
     },
     "execution_count": 56,
     "metadata": {},
     "output_type": "execute_result"
    }
   ],
   "source": [
    "benchmark_df.loc[closest_indices_dict[\"Centroid 1\"]]"
   ]
  },
  {
   "cell_type": "code",
   "execution_count": 57,
   "metadata": {},
   "outputs": [
    {
     "data": {
      "text/plain": [
       "artist                                            Marillion\n",
       "song                                    This Strange Engine\n",
       "link         /m/marillion/this+strange+engine_20088964.html\n",
       "text      There was a boy who came into this world  \\r\\n...\n",
       "Name: 42933, dtype: object"
      ]
     },
     "execution_count": 57,
     "metadata": {},
     "output_type": "execute_result"
    }
   ],
   "source": [
    "benchmark_df.loc[closest_indices_dict[\"Centroid 2\"]]"
   ]
  },
  {
   "cell_type": "code",
   "execution_count": 58,
   "metadata": {},
   "outputs": [
    {
     "data": {
      "text/plain": [
       "artist                                            LL Cool J\n",
       "song                                            I Need Love\n",
       "link                 /l/ll+cool+j/i+need+love_20081043.html\n",
       "text      When I'm alone in my room  \\r\\nSometimes I sta...\n",
       "Name: 41931, dtype: object"
      ]
     },
     "execution_count": 58,
     "metadata": {},
     "output_type": "execute_result"
    }
   ],
   "source": [
    "benchmark_df.loc[closest_indices_dict[\"Centroid 3\"]]"
   ]
  },
  {
   "cell_type": "code",
   "execution_count": 59,
   "metadata": {},
   "outputs": [
    {
     "data": {
      "text/plain": [
       "artist                                               Eminem\n",
       "song                                         Crack A Bottle\n",
       "link                 /e/eminem/crack+a+bottle_20775965.html\n",
       "text      Ladies and gentlemen  \\r\\nThe moment you've al...\n",
       "Name: 5072, dtype: object"
      ]
     },
     "execution_count": 59,
     "metadata": {},
     "output_type": "execute_result"
    }
   ],
   "source": [
    "benchmark_df.loc[closest_indices_dict[\"Centroid 4\"]]"
   ]
  },
  {
   "cell_type": "code",
   "execution_count": 60,
   "metadata": {},
   "outputs": [
    {
     "data": {
      "text/plain": [
       "artist                                        Dream Theater\n",
       "song                                         Space-Dye Vest\n",
       "link          /d/dream+theater/space+dye+vest_20043326.html\n",
       "text      Falling through pages of Martens on angels  \\r...\n",
       "Name: 4572, dtype: object"
      ]
     },
     "execution_count": 60,
     "metadata": {},
     "output_type": "execute_result"
    }
   ],
   "source": [
    "benchmark_df.loc[closest_indices_dict[\"Centroid 5\"]]"
   ]
  },
  {
   "cell_type": "code",
   "execution_count": 61,
   "metadata": {},
   "outputs": [
    {
     "data": {
      "text/plain": [
       "artist                                        Gloria Gaynor\n",
       "song                                           O Holy Night\n",
       "link            /g/gloria+gaynor/o+holy+night_21073158.html\n",
       "text      Oh holy night!  \\r\\nThe stars are brightly shi...\n",
       "Name: 34236, dtype: object"
      ]
     },
     "execution_count": 61,
     "metadata": {},
     "output_type": "execute_result"
    }
   ],
   "source": [
    "benchmark_df.loc[closest_indices_dict[\"Centroid 6\"]]"
   ]
  },
  {
   "cell_type": "code",
   "execution_count": 62,
   "metadata": {},
   "outputs": [
    {
     "data": {
      "text/plain": [
       "artist                                             Boney M.\n",
       "song                                        Kalimba De Luna\n",
       "link               /b/boney+m/kalimba+de+luna_20022442.html\n",
       "text      In the land of the sunshine  \\r\\nPeople know h...\n",
       "Name: 26223, dtype: object"
      ]
     },
     "execution_count": 62,
     "metadata": {},
     "output_type": "execute_result"
    }
   ],
   "source": [
    "benchmark_df.loc[closest_indices_dict[\"Centroid 7\"]]"
   ]
  },
  {
   "cell_type": "code",
   "execution_count": 63,
   "metadata": {},
   "outputs": [],
   "source": [
    "np.save(\"kmeans_centeroids_v1.npy\", centroids)"
   ]
  },
  {
   "cell_type": "code",
   "execution_count": 90,
   "metadata": {},
   "outputs": [
    {
     "data": {
      "text/plain": [
       "array([['Amazement', 'Solemnity', 'Tenderness'],\n",
       "       ['Joyful activation', 'Power', 'Tension'],\n",
       "       ['Calmness', 'Sadness', 'Nostalgia'],\n",
       "       ['Amazement', 'Solemnity', 'Tenderness'],\n",
       "       ['Calmness', 'Sadness', 'Amazement'],\n",
       "       ['Calmness', 'Sadness', 'Nostalgia'],\n",
       "       ['Calmness', 'Sadness', 'Amazement'],\n",
       "       ['Joyful activation', 'Power', 'Tension'],\n",
       "       ['Calmness', 'Sadness', 'Nostalgia']], dtype='<U17')"
      ]
     },
     "execution_count": 90,
     "metadata": {},
     "output_type": "execute_result"
    }
   ],
   "source": [
    "labels"
   ]
  },
  {
   "cell_type": "code",
   "execution_count": 65,
   "metadata": {},
   "outputs": [],
   "source": [
    "d = {}\n",
    "for i, l in enumerate(labels[np.argsort(cosine_distance(centroids, embeddings), axis=1)[:, :3]]):\n",
    "    d[i] = list(l)"
   ]
  },
  {
   "cell_type": "code",
   "execution_count": 66,
   "metadata": {},
   "outputs": [
    {
     "data": {
      "text/plain": [
       "{0: ['Amazement', 'Solemnity', 'Tenderness'],\n",
       " 1: ['Joyful activation', 'Power', 'Tension'],\n",
       " 2: ['Calmness', 'Sadness', 'Nostalgia'],\n",
       " 3: ['Amazement', 'Solemnity', 'Tenderness'],\n",
       " 4: ['Calmness', 'Sadness', 'Amazement'],\n",
       " 5: ['Calmness', 'Sadness', 'Nostalgia'],\n",
       " 6: ['Calmness', 'Sadness', 'Amazement'],\n",
       " 7: ['Joyful activation', 'Power', 'Tension'],\n",
       " 8: ['Calmness', 'Sadness', 'Nostalgia']}"
      ]
     },
     "execution_count": 66,
     "metadata": {},
     "output_type": "execute_result"
    }
   ],
   "source": [
    "d"
   ]
  },
  {
   "cell_type": "code",
   "execution_count": 89,
   "metadata": {},
   "outputs": [
    {
     "data": {
      "text/plain": [
       "array([[ 0.00000000e+00,  0.00000000e+00,  9.04333153e-03,\n",
       "         9.04333153e-03,  1.57194485e-03,  1.57194485e-03,\n",
       "         1.57194485e-03,  1.05633683e-02,  5.82928307e-04],\n",
       "       [ 0.00000000e+00,  0.00000000e+00,  9.04333153e-03,\n",
       "         9.04333153e-03,  1.57194485e-03,  1.57194485e-03,\n",
       "         1.57194485e-03,  1.05633683e-02,  5.82928307e-04],\n",
       "       [ 9.04333153e-03,  9.04333153e-03,  0.00000000e+00,\n",
       "         0.00000000e+00,  8.64202190e-03,  8.64202190e-03,\n",
       "         8.64202190e-03,  2.37045506e-03,  7.77378266e-03],\n",
       "       [ 9.04333153e-03,  9.04333153e-03,  0.00000000e+00,\n",
       "         0.00000000e+00,  8.64202190e-03,  8.64202190e-03,\n",
       "         8.64202190e-03,  2.37045506e-03,  7.77378266e-03],\n",
       "       [ 1.57194485e-03,  1.57194485e-03,  8.64202190e-03,\n",
       "         8.64202190e-03,  0.00000000e+00,  0.00000000e+00,\n",
       "         0.00000000e+00,  7.55253225e-03,  1.51644025e-03],\n",
       "       [ 1.57194485e-03,  1.57194485e-03,  8.64202190e-03,\n",
       "         8.64202190e-03,  0.00000000e+00,  0.00000000e+00,\n",
       "         0.00000000e+00,  7.55253225e-03,  1.51644025e-03],\n",
       "       [ 1.57194485e-03,  1.57194485e-03,  8.64202190e-03,\n",
       "         8.64202190e-03,  0.00000000e+00,  0.00000000e+00,\n",
       "         0.00000000e+00,  7.55253225e-03,  1.51644025e-03],\n",
       "       [ 1.05633683e-02,  1.05633683e-02,  2.37045506e-03,\n",
       "         2.37045506e-03,  7.55253225e-03,  7.55253225e-03,\n",
       "         7.55253225e-03,  0.00000000e+00,  9.41206054e-03],\n",
       "       [ 5.82928307e-04,  5.82928307e-04,  7.77378266e-03,\n",
       "         7.77378266e-03,  1.51644025e-03,  1.51644025e-03,\n",
       "         1.51644025e-03,  9.41206054e-03, -2.22044605e-16]])"
      ]
     },
     "execution_count": 89,
     "metadata": {},
     "output_type": "execute_result"
    }
   ],
   "source": [
    "cosine_distance(embeddings, embeddings)"
   ]
  },
  {
   "cell_type": "code",
   "execution_count": null,
   "metadata": {},
   "outputs": [],
   "source": [
    "(['Calmness', 'Sadness', 'Power', 'Tension', 'Amazement', 'Solemnity', 'Tenderness', 'Joyful activation', 'Nostalgia']"
   ]
  },
  {
   "cell_type": "code",
   "execution_count": 67,
   "metadata": {},
   "outputs": [],
   "source": [
    "dis = cosine_distance(centroids, embeddings)"
   ]
  },
  {
   "cell_type": "code",
   "execution_count": 68,
   "metadata": {},
   "outputs": [
    {
     "data": {
      "text/plain": [
       "array([[4, 5, 6, 8, 0, 1, 7, 2, 3],\n",
       "       [7, 2, 3, 4, 5, 6, 8, 0, 1],\n",
       "       [0, 1, 8, 4, 5, 6, 2, 3, 7],\n",
       "       [4, 5, 6, 0, 1, 8, 7, 2, 3],\n",
       "       [0, 1, 4, 5, 6, 8, 7, 2, 3],\n",
       "       [0, 1, 8, 4, 5, 6, 2, 3, 7],\n",
       "       [0, 1, 4, 5, 6, 8, 2, 3, 7],\n",
       "       [7, 2, 3, 4, 5, 6, 0, 1, 8],\n",
       "       [0, 1, 8, 4, 5, 6, 2, 3, 7]], dtype=int64)"
      ]
     },
     "execution_count": 68,
     "metadata": {},
     "output_type": "execute_result"
    }
   ],
   "source": [
    "np.argsort(cosine_distance(centroids, embeddings))"
   ]
  },
  {
   "cell_type": "code",
   "execution_count": 69,
   "metadata": {},
   "outputs": [
    {
     "data": {
      "text/plain": [
       "{0: ['Amazement', 'Solemnity', 'Tenderness'],\n",
       " 1: ['Joyful activation', 'Power', 'Tension'],\n",
       " 2: ['Calmness', 'Sadness', 'Nostalgia'],\n",
       " 3: ['Amazement', 'Solemnity', 'Tenderness'],\n",
       " 4: ['Calmness', 'Sadness', 'Amazement'],\n",
       " 5: ['Calmness', 'Sadness', 'Nostalgia'],\n",
       " 6: ['Calmness', 'Sadness', 'Amazement'],\n",
       " 7: ['Joyful activation', 'Power', 'Tension'],\n",
       " 8: ['Calmness', 'Sadness', 'Nostalgia']}"
      ]
     },
     "execution_count": 69,
     "metadata": {},
     "output_type": "execute_result"
    }
   ],
   "source": [
    "d"
   ]
  },
  {
   "cell_type": "code",
   "execution_count": 70,
   "metadata": {},
   "outputs": [
    {
     "data": {
      "text/plain": [
       "array([[0.00808148, 0.00808148],\n",
       "       [0.03765219, 0.03765219],\n",
       "       [0.04187613, 0.04187613],\n",
       "       [0.03960883, 0.03960883],\n",
       "       [0.02259843, 0.02259843],\n",
       "       [0.03396138, 0.03396138],\n",
       "       [0.07050097, 0.07050097],\n",
       "       [0.3714057 , 0.3714057 ],\n",
       "       [0.01754228, 0.01754228]])"
      ]
     },
     "execution_count": 70,
     "metadata": {},
     "output_type": "execute_result"
    }
   ],
   "source": [
    "cosine_distance(centroids, embeddings)[:, :2]"
   ]
  },
  {
   "cell_type": "code",
   "execution_count": 72,
   "metadata": {},
   "outputs": [
    {
     "data": {
      "text/html": [
       "<div>\n",
       "<style scoped>\n",
       "    .dataframe tbody tr th:only-of-type {\n",
       "        vertical-align: middle;\n",
       "    }\n",
       "\n",
       "    .dataframe tbody tr th {\n",
       "        vertical-align: top;\n",
       "    }\n",
       "\n",
       "    .dataframe thead th {\n",
       "        text-align: right;\n",
       "    }\n",
       "</style>\n",
       "<table border=\"1\" class=\"dataframe\">\n",
       "  <thead>\n",
       "    <tr style=\"text-align: right;\">\n",
       "      <th></th>\n",
       "      <th>artist</th>\n",
       "      <th>song</th>\n",
       "      <th>link</th>\n",
       "      <th>text</th>\n",
       "    </tr>\n",
       "  </thead>\n",
       "  <tbody>\n",
       "    <tr>\n",
       "      <th>54879</th>\n",
       "      <td>Vanilla Ice</td>\n",
       "      <td>I Go Down</td>\n",
       "      <td>/v/vanilla+ice/i+go+down_20143665.html</td>\n",
       "      <td>[Verse 1]  \\r\\nI Remember way back when  \\r\\nL...</td>\n",
       "    </tr>\n",
       "    <tr>\n",
       "      <th>45718</th>\n",
       "      <td>Nicki Minaj</td>\n",
       "      <td>Barbie World Intro</td>\n",
       "      <td>/n/nicki+minaj/barbie+world+intro_20873938.html</td>\n",
       "      <td>[Chorus:]  \\r\\nI wanna get to know you  \\r\\nI ...</td>\n",
       "    </tr>\n",
       "    <tr>\n",
       "      <th>42933</th>\n",
       "      <td>Marillion</td>\n",
       "      <td>This Strange Engine</td>\n",
       "      <td>/m/marillion/this+strange+engine_20088964.html</td>\n",
       "      <td>There was a boy who came into this world  \\r\\n...</td>\n",
       "    </tr>\n",
       "    <tr>\n",
       "      <th>41931</th>\n",
       "      <td>LL Cool J</td>\n",
       "      <td>I Need Love</td>\n",
       "      <td>/l/ll+cool+j/i+need+love_20081043.html</td>\n",
       "      <td>When I'm alone in my room  \\r\\nSometimes I sta...</td>\n",
       "    </tr>\n",
       "    <tr>\n",
       "      <th>5072</th>\n",
       "      <td>Eminem</td>\n",
       "      <td>Crack A Bottle</td>\n",
       "      <td>/e/eminem/crack+a+bottle_20775965.html</td>\n",
       "      <td>Ladies and gentlemen  \\r\\nThe moment you've al...</td>\n",
       "    </tr>\n",
       "    <tr>\n",
       "      <th>4572</th>\n",
       "      <td>Dream Theater</td>\n",
       "      <td>Space-Dye Vest</td>\n",
       "      <td>/d/dream+theater/space+dye+vest_20043326.html</td>\n",
       "      <td>Falling through pages of Martens on angels  \\r...</td>\n",
       "    </tr>\n",
       "    <tr>\n",
       "      <th>34236</th>\n",
       "      <td>Gloria Gaynor</td>\n",
       "      <td>O Holy Night</td>\n",
       "      <td>/g/gloria+gaynor/o+holy+night_21073158.html</td>\n",
       "      <td>Oh holy night!  \\r\\nThe stars are brightly shi...</td>\n",
       "    </tr>\n",
       "    <tr>\n",
       "      <th>26223</th>\n",
       "      <td>Boney M.</td>\n",
       "      <td>Kalimba De Luna</td>\n",
       "      <td>/b/boney+m/kalimba+de+luna_20022442.html</td>\n",
       "      <td>In the land of the sunshine  \\r\\nPeople know h...</td>\n",
       "    </tr>\n",
       "    <tr>\n",
       "      <th>15288</th>\n",
       "      <td>Outkast</td>\n",
       "      <td>The Train</td>\n",
       "      <td>/o/outkast/the+train_20482040.html</td>\n",
       "      <td>All aboard  \\r\\nOr are all y'all bored?  \\r\\nI...</td>\n",
       "    </tr>\n",
       "  </tbody>\n",
       "</table>\n",
       "</div>"
      ],
      "text/plain": [
       "              artist                 song  \\\n",
       "54879    Vanilla Ice            I Go Down   \n",
       "45718    Nicki Minaj   Barbie World Intro   \n",
       "42933      Marillion  This Strange Engine   \n",
       "41931      LL Cool J          I Need Love   \n",
       "5072          Eminem       Crack A Bottle   \n",
       "4572   Dream Theater       Space-Dye Vest   \n",
       "34236  Gloria Gaynor         O Holy Night   \n",
       "26223       Boney M.      Kalimba De Luna   \n",
       "15288        Outkast            The Train   \n",
       "\n",
       "                                                  link  \\\n",
       "54879           /v/vanilla+ice/i+go+down_20143665.html   \n",
       "45718  /n/nicki+minaj/barbie+world+intro_20873938.html   \n",
       "42933   /m/marillion/this+strange+engine_20088964.html   \n",
       "41931           /l/ll+cool+j/i+need+love_20081043.html   \n",
       "5072            /e/eminem/crack+a+bottle_20775965.html   \n",
       "4572     /d/dream+theater/space+dye+vest_20043326.html   \n",
       "34236      /g/gloria+gaynor/o+holy+night_21073158.html   \n",
       "26223         /b/boney+m/kalimba+de+luna_20022442.html   \n",
       "15288               /o/outkast/the+train_20482040.html   \n",
       "\n",
       "                                                    text  \n",
       "54879  [Verse 1]  \\r\\nI Remember way back when  \\r\\nL...  \n",
       "45718  [Chorus:]  \\r\\nI wanna get to know you  \\r\\nI ...  \n",
       "42933  There was a boy who came into this world  \\r\\n...  \n",
       "41931  When I'm alone in my room  \\r\\nSometimes I sta...  \n",
       "5072   Ladies and gentlemen  \\r\\nThe moment you've al...  \n",
       "4572   Falling through pages of Martens on angels  \\r...  \n",
       "34236  Oh holy night!  \\r\\nThe stars are brightly shi...  \n",
       "26223  In the land of the sunshine  \\r\\nPeople know h...  \n",
       "15288  All aboard  \\r\\nOr are all y'all bored?  \\r\\nI...  "
      ]
     },
     "execution_count": 72,
     "metadata": {},
     "output_type": "execute_result"
    }
   ],
   "source": [
    "benchmark_df.loc[np.argmin(cosine_distance(centroids, train_embeddings), axis=1)]"
   ]
  },
  {
   "cell_type": "code",
   "execution_count": 81,
   "metadata": {},
   "outputs": [],
   "source": [
    "labels = np.array(list(d.values()))"
   ]
  },
  {
   "cell_type": "code",
   "execution_count": 83,
   "metadata": {},
   "outputs": [],
   "source": [
    "predicted_labels = labels[np.argmin(cosine_distance(X=train_embeddings, centroids=centroids), axis=1)]"
   ]
  },
  {
   "cell_type": "code",
   "execution_count": 85,
   "metadata": {},
   "outputs": [],
   "source": [
    "result = []\n",
    "for p in predicted_labels:\n",
    "    result.append(\", \".join(p))\n"
   ]
  },
  {
   "cell_type": "code",
   "execution_count": 86,
   "metadata": {},
   "outputs": [],
   "source": [
    "benchmark_df[\"Prediction\"] = result"
   ]
  },
  {
   "cell_type": "code",
   "execution_count": 87,
   "metadata": {},
   "outputs": [],
   "source": [
    "benchmark_df.to_csv(\"spotify_classification_kmeans.csv\")"
   ]
  },
  {
   "cell_type": "code",
   "execution_count": null,
   "metadata": {},
   "outputs": [],
   "source": []
  }
 ],
 "metadata": {
  "kernelspec": {
   "display_name": "chess-engine",
   "language": "python",
   "name": "python3"
  },
  "language_info": {
   "codemirror_mode": {
    "name": "ipython",
    "version": 3
   },
   "file_extension": ".py",
   "mimetype": "text/x-python",
   "name": "python",
   "nbconvert_exporter": "python",
   "pygments_lexer": "ipython3",
   "version": "3.10.12"
  }
 },
 "nbformat": 4,
 "nbformat_minor": 2
}
